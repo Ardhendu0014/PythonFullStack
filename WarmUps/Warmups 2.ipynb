{
 "cells": [
  {
   "cell_type": "markdown",
   "metadata": {},
   "source": [
    "# Python"
   ]
  },
  {
   "cell_type": "markdown",
   "metadata": {},
   "source": [
    "By using list comprehension, please write a program to print the list after removing the 0th, 2nd, 4th,6th numbers in [12,24,35,70,88,120,155]."
   ]
  },
  {
   "cell_type": "code",
   "execution_count": 13,
   "metadata": {
    "collapsed": false
   },
   "outputs": [
    {
     "data": {
      "text/plain": [
       "[24, 70, 120]"
      ]
     },
     "execution_count": 13,
     "metadata": {},
     "output_type": "execute_result"
    }
   ],
   "source": [
    "nums = [12,24,35,70,88,120,155]\n",
    "\n",
    "result_1 = [num for index, num in enumerate(nums) if index % 2 != 0]\n",
    "\n",
    "[num for num in nums[1::2]]"
   ]
  },
  {
   "cell_type": "markdown",
   "metadata": {},
   "source": [
    "By using list comprehension, please write a program to print the list after removing the 0th,4th,5th numbers in [12,24,35,70,88,120,155]."
   ]
  },
  {
   "cell_type": "code",
   "execution_count": 14,
   "metadata": {
    "collapsed": false
   },
   "outputs": [
    {
     "data": {
      "text/plain": [
       "[24, 35, 70, 155]"
      ]
     },
     "execution_count": 14,
     "metadata": {},
     "output_type": "execute_result"
    }
   ],
   "source": [
    "[num for index, num in enumerate(nums) if index not in (0, 4, 5)]"
   ]
  },
  {
   "cell_type": "markdown",
   "metadata": {},
   "source": [
    "Use a set!\n",
    "\n",
    "With two given lists [1,3,6,78,35,55] and [12,24,35,24,88,120,155], write a program to make a list whose elements are intersection of the above given lists."
   ]
  },
  {
   "cell_type": "code",
   "execution_count": 18,
   "metadata": {
    "collapsed": true
   },
   "outputs": [],
   "source": [
    "x = [1, 3, 6, 78, 35, 55]\n",
    "y = [12, 24, 35, 24, 88, 120, 155]\n",
    "\n",
    "x = set(x)\n",
    "y = set(y)"
   ]
  },
  {
   "cell_type": "code",
   "execution_count": 26,
   "metadata": {
    "collapsed": false
   },
   "outputs": [],
   "source": [
    "x.update({42})"
   ]
  },
  {
   "cell_type": "code",
   "execution_count": 34,
   "metadata": {
    "collapsed": false
   },
   "outputs": [],
   "source": [
    "x.add(99999)"
   ]
  },
  {
   "cell_type": "code",
   "execution_count": 35,
   "metadata": {
    "collapsed": false
   },
   "outputs": [
    {
     "data": {
      "text/plain": [
       "{1, 3, 6, 35, 42, 55, 78, 99999}"
      ]
     },
     "execution_count": 35,
     "metadata": {},
     "output_type": "execute_result"
    }
   ],
   "source": [
    "x."
   ]
  },
  {
   "cell_type": "markdown",
   "metadata": {},
   "source": [
    "\n",
    "\n",
    "Itertools!\n",
    "\n",
    "Please write a program which prints all permutations of [1,2,3]"
   ]
  },
  {
   "cell_type": "code",
   "execution_count": 40,
   "metadata": {
    "collapsed": true
   },
   "outputs": [],
   "source": [
    "from itertools import permutations, combinations\n",
    "\n"
   ]
  },
  {
   "cell_type": "code",
   "execution_count": 41,
   "metadata": {
    "collapsed": false
   },
   "outputs": [
    {
     "data": {
      "text/plain": [
       "[(1, 2, 3), (1, 3, 2), (2, 1, 3), (2, 3, 1), (3, 1, 2), (3, 2, 1)]"
      ]
     },
     "execution_count": 41,
     "metadata": {},
     "output_type": "execute_result"
    }
   ],
   "source": [
    "list(permutations([1, 2, 3]))"
   ]
  },
  {
   "cell_type": "code",
   "execution_count": 47,
   "metadata": {
    "collapsed": false
   },
   "outputs": [
    {
     "data": {
      "text/plain": [
       "[(1, 2), (1, 3), (2, 3)]"
      ]
     },
     "execution_count": 47,
     "metadata": {},
     "output_type": "execute_result"
    }
   ],
   "source": [
    "list(combinations([1, 2, 3], 2))"
   ]
  },
  {
   "cell_type": "markdown",
   "metadata": {},
   "source": [
    "Itertools!\n",
    "\n",
    "Write a program to generate all sentences where subject is in [\"I\", \"You\"] and verb is in [\"Play\", \"Love\"] and the object is in [\"Hockey\",\"Football\"]."
   ]
  },
  {
   "cell_type": "code",
   "execution_count": 56,
   "metadata": {
    "collapsed": true
   },
   "outputs": [],
   "source": [
    "first = list(permutations(['I', 'You']))\n",
    "second = list(permutations(['Play', 'Love']))\n",
    "third = list(permutations(['Hockey', 'Football']))\n",
    "\n",
    "\n",
    "from itertools import product"
   ]
  },
  {
   "cell_type": "code",
   "execution_count": 58,
   "metadata": {
    "collapsed": false
   },
   "outputs": [
    {
     "data": {
      "text/plain": [
       "[('I', 'Play', 'Hockey'),\n",
       " ('I', 'Play', 'Football'),\n",
       " ('I', 'Love', 'Hockey'),\n",
       " ('I', 'Love', 'Football'),\n",
       " ('You', 'Play', 'Hockey'),\n",
       " ('You', 'Play', 'Football'),\n",
       " ('You', 'Love', 'Hockey'),\n",
       " ('You', 'Love', 'Football')]"
      ]
     },
     "execution_count": 58,
     "metadata": {},
     "output_type": "execute_result"
    }
   ],
   "source": [
    "\n",
    "\n",
    "list(product(['I', 'You'], ['Play', 'Love'], ['Hockey', 'Football']))"
   ]
  },
  {
   "cell_type": "code",
   "execution_count": 59,
   "metadata": {
    "collapsed": false
   },
   "outputs": [
    {
     "data": {
      "text/plain": [
       "[('I', 'Play', 'Hockey'),\n",
       " ('I', 'Play', 'Football'),\n",
       " ('I', 'Love', 'Hockey'),\n",
       " ('I', 'Love', 'Football'),\n",
       " ('You', 'Play', 'Hockey'),\n",
       " ('You', 'Play', 'Football'),\n",
       " ('You', 'Love', 'Hockey'),\n",
       " ('You', 'Love', 'Football')]"
      ]
     },
     "execution_count": 59,
     "metadata": {},
     "output_type": "execute_result"
    }
   ],
   "source": [
    "[(f, s, t) for f in ['I', 'You'] \\\n",
    "           for s in ['Play', 'Love'] \\\n",
    "           for t in ['Hockey', 'Football']]"
   ]
  },
  {
   "cell_type": "code",
   "execution_count": 53,
   "metadata": {
    "collapsed": false
   },
   "outputs": [
    {
     "data": {
      "text/plain": [
       "[(('I', 'You'), ('Play', 'Love'), ('Hockey', 'Football')),\n",
       " (('You', 'I'), ('Love', 'Play'), ('Football', 'Hockey'))]"
      ]
     },
     "execution_count": 53,
     "metadata": {},
     "output_type": "execute_result"
    }
   ],
   "source": [
    "list(zip(first, second, third))"
   ]
  },
  {
   "cell_type": "code",
   "execution_count": null,
   "metadata": {
    "collapsed": true
   },
   "outputs": [],
   "source": []
  },
  {
   "cell_type": "code",
   "execution_count": null,
   "metadata": {
    "collapsed": true
   },
   "outputs": [],
   "source": []
  },
  {
   "cell_type": "code",
   "execution_count": null,
   "metadata": {
    "collapsed": true
   },
   "outputs": [],
   "source": []
  },
  {
   "cell_type": "markdown",
   "metadata": {},
   "source": [
    "## Anagrams\n",
    "\n",
    "What is an anagram? Well, two words are anagrams of each other if they both contain *all* of  the same letters.  \n",
    "\n",
    "_\"The result of rearranging the letters of a word or phrase to produce a new word or phrase, using all the original letters exactly once\"_\n",
    "\n",
    "Write a function that will find all the anagrams of a word from a list. You will be given two inputs a word and an array with words. You should return an array of all the anagrams or an empty array if there are none.\n",
    "\n",
    "```\n",
    "anagrams('abba', ['aabb', 'abcd', 'bbaa', 'dada']) => ['aabb', 'bbaa']\n",
    "\n",
    "anagrams('racer', ['crazer', 'carer', 'racar', 'caers', 'racer']) => ['carer', 'racer']\n",
    "\n",
    "anagrams('laser', ['lazing', 'lazy',  'lacer']) => []\n",
    "```\n"
   ]
  },
  {
   "cell_type": "code",
   "execution_count": 61,
   "metadata": {
    "collapsed": false
   },
   "outputs": [
    {
     "data": {
      "text/plain": [
       "[('a', 'b', 'b', 'a'),\n",
       " ('a', 'b', 'a', 'b'),\n",
       " ('a', 'b', 'b', 'a'),\n",
       " ('a', 'b', 'a', 'b'),\n",
       " ('a', 'a', 'b', 'b'),\n",
       " ('a', 'a', 'b', 'b'),\n",
       " ('b', 'a', 'b', 'a'),\n",
       " ('b', 'a', 'a', 'b'),\n",
       " ('b', 'b', 'a', 'a'),\n",
       " ('b', 'b', 'a', 'a'),\n",
       " ('b', 'a', 'a', 'b'),\n",
       " ('b', 'a', 'b', 'a'),\n",
       " ('b', 'a', 'b', 'a'),\n",
       " ('b', 'a', 'a', 'b'),\n",
       " ('b', 'b', 'a', 'a'),\n",
       " ('b', 'b', 'a', 'a'),\n",
       " ('b', 'a', 'a', 'b'),\n",
       " ('b', 'a', 'b', 'a'),\n",
       " ('a', 'a', 'b', 'b'),\n",
       " ('a', 'a', 'b', 'b'),\n",
       " ('a', 'b', 'a', 'b'),\n",
       " ('a', 'b', 'b', 'a'),\n",
       " ('a', 'b', 'a', 'b'),\n",
       " ('a', 'b', 'b', 'a')]"
      ]
     },
     "execution_count": 61,
     "metadata": {},
     "output_type": "execute_result"
    }
   ],
   "source": [
    "list(permutations('abba'))"
   ]
  },
  {
   "cell_type": "code",
   "execution_count": null,
   "metadata": {
    "collapsed": true
   },
   "outputs": [],
   "source": [
    "perms = list()\n",
    "for group in list(permutations('abba')):\n",
    "    perm = \"\".join(group)\n",
    "    perms.append(perm)"
   ]
  },
  {
   "cell_type": "code",
   "execution_count": 63,
   "metadata": {
    "collapsed": false
   },
   "outputs": [
    {
     "data": {
      "text/plain": [
       "['abba',\n",
       " 'abab',\n",
       " 'abba',\n",
       " 'abab',\n",
       " 'aabb',\n",
       " 'aabb',\n",
       " 'baba',\n",
       " 'baab',\n",
       " 'bbaa',\n",
       " 'bbaa',\n",
       " 'baab',\n",
       " 'baba',\n",
       " 'baba',\n",
       " 'baab',\n",
       " 'bbaa',\n",
       " 'bbaa',\n",
       " 'baab',\n",
       " 'baba',\n",
       " 'aabb',\n",
       " 'aabb',\n",
       " 'abab',\n",
       " 'abba',\n",
       " 'abab',\n",
       " 'abba']"
      ]
     },
     "execution_count": 63,
     "metadata": {},
     "output_type": "execute_result"
    }
   ],
   "source": [
    "[\"\".join(group) for group in list(permutations('abba'))]"
   ]
  },
  {
   "cell_type": "code",
   "execution_count": null,
   "metadata": {
    "collapsed": true
   },
   "outputs": [],
   "source": []
  }
 ],
 "metadata": {
  "anaconda-cloud": {},
  "kernelspec": {
   "display_name": "Python [conda root]",
   "language": "python",
   "name": "conda-root-py"
  },
  "language_info": {
   "codemirror_mode": {
    "name": "ipython",
    "version": 3
   },
   "file_extension": ".py",
   "mimetype": "text/x-python",
   "name": "python",
   "nbconvert_exporter": "python",
   "pygments_lexer": "ipython3",
   "version": "3.5.2"
  },
  "widgets": {
   "state": {},
   "version": "1.1.2"
  }
 },
 "nbformat": 4,
 "nbformat_minor": 0
}
