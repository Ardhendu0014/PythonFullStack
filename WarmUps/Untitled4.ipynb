{
 "cells": [
  {
   "cell_type": "markdown",
   "metadata": {},
   "source": [
    "# Python Warmups"
   ]
  },
  {
   "cell_type": "markdown",
   "metadata": {},
   "source": [
    "A website requires the users to input username and password to register. Write a program to check the validity of password input by users.\n",
    "\n",
    "Following are the criteria for checking the password:\n",
    "1. At least 1 lowercase letter\n",
    "2. At least 1 number\n",
    "1. At least 1 uppercase letter\n",
    "3. At least 1 special char\n",
    "4. Minimum length of 6\n",
    "5. Maximum length of 12"
   ]
  },
  {
   "cell_type": "code",
   "execution_count": 11,
   "metadata": {
    "collapsed": false
   },
   "outputs": [
    {
     "data": {
      "text/plain": [
       "'!\"#$%&\\'()*+,-./:;<=>?@[\\\\]^_`{|}~'"
      ]
     },
     "execution_count": 11,
     "metadata": {},
     "output_type": "execute_result"
    }
   ],
   "source": [
    "import string\n",
    "\n",
    "\n",
    "def validate(password):\n",
    "    password = 'Kier2121'\n",
    "\n",
    "    lower = False\n",
    "    upper = False\n",
    "    digits = False\n",
    "    special = False\n",
    "\n",
    "    for char in password:\n",
    "        if char in string.ascii_lowercase:\n",
    "            lower = True\n",
    "        if char in string.ascii_uppercase:\n",
    "            upper = True\n",
    "        if char in string.punctuation:\n",
    "            special = True\n",
    "        if char in string.digits:\n",
    "            digits = True\n",
    "\n",
    "        if not all(lower, upper, digits, special):\n",
    "            raise ValueError(\"Nope.\")    # TODO: Tell the user which one failed.\n",
    "\n",
    "        if len(password) >= 6 and len(password) <=12:\n",
    "            return True\n",
    "        else:\n",
    "            raise ValueError(\"Password too short.\")\n"
   ]
  },
  {
   "cell_type": "code",
   "execution_count": null,
   "metadata": {
    "collapsed": true
   },
   "outputs": [],
   "source": [
    "a, b, c = False, False, False"
   ]
  },
  {
   "cell_type": "markdown",
   "metadata": {},
   "source": [
    "## Python\n",
    "\n",
    "Write a function that takes a string of parentheses, and determines if the order of the parentheses is valid. \n",
    "\n",
    "Examples:\n",
    "    \n",
    "```\n",
    "\"()\" => True\n",
    "\n",
    "\")(()))\" => False\n",
    "\n",
    "\"(' )\" => True\n",
    "\n",
    "\"(())((()())())\" => True\n",
    "```\n"
   ]
  },
  {
   "cell_type": "markdown",
   "metadata": {},
   "source": [
    "## Python: Find the rarest value.\n",
    "\n",
    "```\n",
    "names = {'Alyssa': 22,\n",
    "         'Charley': 25,\n",
    "         'Dan': 25,\n",
    "         'Jeff': 20,\n",
    "         'Kasey': 20,\n",
    "         'Kim': 20,\n",
    "         'Morgan': 25,\n",
    "         'Ryan': 25,\n",
    "         'Stef': 22 }\n",
    "```"
   ]
  },
  {
   "cell_type": "code",
   "execution_count": 82,
   "metadata": {
    "collapsed": true
   },
   "outputs": [],
   "source": [
    "names = {'Alyssa': 22,\n",
    "         'Charley': 25,\n",
    "         'Dan': 25,\n",
    "         'Jeff': 20,\n",
    "         'Kasey': 20,\n",
    "         'Kim': 20,\n",
    "         'Morgan': 25,\n",
    "         'Ryan': 25,\n",
    "         'Stef': 22 }"
   ]
  },
  {
   "cell_type": "code",
   "execution_count": 87,
   "metadata": {
    "collapsed": false
   },
   "outputs": [],
   "source": [
    "from collections import Counter"
   ]
  },
  {
   "cell_type": "code",
   "execution_count": 92,
   "metadata": {
    "collapsed": false
   },
   "outputs": [],
   "source": [
    "c = Counter(names.values())"
   ]
  },
  {
   "cell_type": "code",
   "execution_count": 99,
   "metadata": {
    "collapsed": false
   },
   "outputs": [
    {
     "data": {
      "text/plain": [
       "[(25, 4), (20, 3), (22, 2)]"
      ]
     },
     "execution_count": 99,
     "metadata": {},
     "output_type": "execute_result"
    }
   ],
   "source": [
    "c.most_common()"
   ]
  },
  {
   "cell_type": "code",
   "execution_count": 78,
   "metadata": {
    "collapsed": false,
    "scrolled": true
   },
   "outputs": [
    {
     "data": {
      "text/plain": [
       "[('Kim', 20),\n",
       " ('Jeff', 20),\n",
       " ('Kasey', 20),\n",
       " ('Alyssa', 22),\n",
       " ('Stef', 22),\n",
       " ('Morgan', 25),\n",
       " ('Ryan', 25),\n",
       " ('Dan', 25),\n",
       " ('Charley', 25)]"
      ]
     },
     "execution_count": 78,
     "metadata": {},
     "output_type": "execute_result"
    }
   ],
   "source": [
    "names = sorted(names.items(), key=lambda t: t[1])\n",
    "names"
   ]
  },
  {
   "cell_type": "code",
   "execution_count": 73,
   "metadata": {
    "collapsed": false
   },
   "outputs": [
    {
     "ename": "AttributeError",
     "evalue": "'list' object has no attribute 'values'",
     "output_type": "error",
     "traceback": [
      "\u001b[0;31m--------------------------------------------------------------------\u001b[0m",
      "\u001b[0;31mAttributeError\u001b[0m                     Traceback (most recent call last)",
      "\u001b[0;32m<ipython-input-73-fb0250ba2836>\u001b[0m in \u001b[0;36m<module>\u001b[0;34m()\u001b[0m\n\u001b[0;32m----> 1\u001b[0;31m \u001b[0mnames\u001b[0m\u001b[0;34m.\u001b[0m\u001b[0mvalues\u001b[0m\u001b[0;34m(\u001b[0m\u001b[0;34m)\u001b[0m\u001b[0;34m\u001b[0m\u001b[0m\n\u001b[0m",
      "\u001b[0;31mAttributeError\u001b[0m: 'list' object has no attribute 'values'"
     ]
    }
   ],
   "source": []
  },
  {
   "cell_type": "code",
   "execution_count": null,
   "metadata": {
    "collapsed": true
   },
   "outputs": [],
   "source": []
  },
  {
   "cell_type": "code",
   "execution_count": null,
   "metadata": {
    "collapsed": true
   },
   "outputs": [],
   "source": []
  },
  {
   "cell_type": "code",
   "execution_count": null,
   "metadata": {
    "collapsed": true
   },
   "outputs": [],
   "source": [
    "from itertools import groupby"
   ]
  },
  {
   "cell_type": "code",
   "execution_count": 69,
   "metadata": {
    "collapsed": false
   },
   "outputs": [
    {
     "data": {
      "text/plain": [
       "[(20, <itertools._grouper at 0x7f17987416a0>),\n",
       " (22, <itertools._grouper at 0x7f1798741748>),\n",
       " (25, <itertools._grouper at 0x7f1798741710>)]"
      ]
     },
     "execution_count": 69,
     "metadata": {},
     "output_type": "execute_result"
    }
   ],
   "source": [
    "list(groupby(names, key=lambda t: t[1]))"
   ]
  },
  {
   "cell_type": "code",
   "execution_count": null,
   "metadata": {
    "collapsed": true
   },
   "outputs": [],
   "source": []
  },
  {
   "cell_type": "code",
   "execution_count": null,
   "metadata": {
    "collapsed": true
   },
   "outputs": [],
   "source": []
  },
  {
   "cell_type": "code",
   "execution_count": null,
   "metadata": {
    "collapsed": true
   },
   "outputs": [],
   "source": []
  },
  {
   "cell_type": "code",
   "execution_count": null,
   "metadata": {
    "collapsed": true
   },
   "outputs": [],
   "source": []
  },
  {
   "cell_type": "code",
   "execution_count": null,
   "metadata": {
    "collapsed": true
   },
   "outputs": [],
   "source": []
  },
  {
   "cell_type": "markdown",
   "metadata": {},
   "source": []
  },
  {
   "cell_type": "code",
   "execution_count": 15,
   "metadata": {
    "collapsed": false
   },
   "outputs": [
    {
     "data": {
      "text/plain": [
       "True"
      ]
     },
     "execution_count": 15,
     "metadata": {},
     "output_type": "execute_result"
    }
   ],
   "source": [
    "isinstance(3, int)"
   ]
  },
  {
   "cell_type": "code",
   "execution_count": 16,
   "metadata": {
    "collapsed": true
   },
   "outputs": [],
   "source": [
    "from itertools import zip_longest"
   ]
  },
  {
   "cell_type": "code",
   "execution_count": 21,
   "metadata": {
    "collapsed": false
   },
   "outputs": [
    {
     "data": {
      "text/plain": [
       "{'kieran': 2, 'lander': 0, 'phil': 7}"
      ]
     },
     "execution_count": 21,
     "metadata": {},
     "output_type": "execute_result"
    }
   ],
   "source": [
    "dict(zip_longest('kieran phil lander'.split(), [2, 7], fillvalue=0))"
   ]
  },
  {
   "cell_type": "code",
   "execution_count": 27,
   "metadata": {
    "collapsed": false
   },
   "outputs": [
    {
     "data": {
      "text/plain": [
       "[('S', ' '),\n",
       " ('p', ' '),\n",
       " ('a', ' '),\n",
       " ('r', ' '),\n",
       " ('s', ' '),\n",
       " ('e', ' '),\n",
       " (' ', ' '),\n",
       " ('i', ' '),\n",
       " ('s', ' '),\n",
       " (' ', ' '),\n",
       " ('b', ' '),\n",
       " ('e', ' '),\n",
       " ('t', ' '),\n",
       " ('t', ' '),\n",
       " ('e', ' '),\n",
       " ('r', ' '),\n",
       " (' ', ' '),\n",
       " ('t', ' '),\n",
       " ('h', ' '),\n",
       " ('a', ' '),\n",
       " ('n', ' '),\n",
       " (' ', ' '),\n",
       " ('d', ' '),\n",
       " ('e', ' '),\n",
       " ('n', ' '),\n",
       " ('s', ' '),\n",
       " ('e', ' ')]"
      ]
     },
     "execution_count": 27,
     "metadata": {},
     "output_type": "execute_result"
    }
   ],
   "source": [
    "quote = \"Sparse is better than dense\"\n",
    "\n",
    "result = list(zip(quote, (\" \" * len(quote))))\n",
    "result"
   ]
  },
  {
   "cell_type": "code",
   "execution_count": null,
   "metadata": {
    "collapsed": true
   },
   "outputs": [],
   "source": [
    "\n",
    "from itertools import chain\n",
    "\"\".join(list(chain.from_iterable(result)))\n",
    "\n",
    "import pdb; pdb.set_trace()"
   ]
  },
  {
   "cell_type": "code",
   "execution_count": null,
   "metadata": {
    "collapsed": true
   },
   "outputs": [],
   "source": []
  },
  {
   "cell_type": "code",
   "execution_count": 32,
   "metadata": {
    "collapsed": true
   },
   "outputs": [],
   "source": [
    "import re"
   ]
  },
  {
   "cell_type": "code",
   "execution_count": 33,
   "metadata": {
    "collapsed": false
   },
   "outputs": [],
   "source": [
    "pattern = re.compile(\"\"\"\n",
    "\n",
    "\n",
    "\"\"\", re.VERBOSE)"
   ]
  },
  {
   "cell_type": "code",
   "execution_count": 34,
   "metadata": {
    "collapsed": false
   },
   "outputs": [
    {
     "data": {
      "text/plain": [
       "'ban$$$$ana'"
      ]
     },
     "execution_count": 34,
     "metadata": {},
     "output_type": "execute_result"
    }
   ],
   "source": [
    "pattern.sub('$', \"ban4545ana\")"
   ]
  },
  {
   "cell_type": "code",
   "execution_count": null,
   "metadata": {
    "collapsed": true
   },
   "outputs": [],
   "source": []
  }
 ],
 "metadata": {
  "anaconda-cloud": {},
  "kernelspec": {
   "display_name": "Python [conda root]",
   "language": "python",
   "name": "conda-root-py"
  },
  "language_info": {
   "codemirror_mode": {
    "name": "ipython",
    "version": 3
   },
   "file_extension": ".py",
   "mimetype": "text/x-python",
   "name": "python",
   "nbconvert_exporter": "python",
   "pygments_lexer": "ipython3",
   "version": "3.5.2"
  },
  "widgets": {
   "state": {},
   "version": "1.1.2"
  }
 },
 "nbformat": 4,
 "nbformat_minor": 0
}
