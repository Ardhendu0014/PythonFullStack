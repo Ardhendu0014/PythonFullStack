{
 "cells": [
  {
   "cell_type": "markdown",
   "metadata": {},
   "source": [
    "# Python\n",
    "\n",
    "## Fancy Phone Numbers\n",
    "Write a small app that asks the user for an all-digits phone number. Then pretty prints it out.\n",
    "\n",
    "In => 5035551234 \n",
    "\n",
    "Out => 503-555-1234 or (503) 555-1234"
   ]
  },
  {
   "cell_type": "markdown",
   "metadata": {},
   "source": [
    "# Python: Count the number of Duplicates\n",
    "\n",
    "Write a function that will return the count of distinct case-insensitive alphabetic characters and numeric digits that occur more than once in the input string.\n",
    "\n",
    "```\n",
    "\"abcde\" -> 0 \n",
    "\"aabbcde\" -> 2 \n",
    "\"aabbcdeB\" -> 2 \n",
    "\"Indivisibilities\" -> 2\n",
    "\"aa11\" -> 2\n",
    "```"
   ]
  }
 ],
 "metadata": {
  "anaconda-cloud": {},
  "kernelspec": {
   "display_name": "Python [conda root]",
   "language": "python",
   "name": "conda-root-py"
  },
  "language_info": {
   "codemirror_mode": {
    "name": "ipython",
    "version": 3
   },
   "file_extension": ".py",
   "mimetype": "text/x-python",
   "name": "python",
   "nbconvert_exporter": "python",
   "pygments_lexer": "ipython3",
   "version": "3.5.2"
  },
  "widgets": {
   "state": {},
   "version": "1.1.2"
  }
 },
 "nbformat": 4,
 "nbformat_minor": 0
}
