{
 "cells": [
  {
   "cell_type": "markdown",
   "metadata": {},
   "source": [
    "### Python:  Average Stopwatch Time\n",
    "\n",
    "\n",
    "A stopwatch records lap times as strings of the form `\"MM:SS:HS\"`. \n",
    "```\n",
    "MM = minutes\n",
    "SS = seconds\n",
    "HS = hundredths of a second\n",
    "```\n",
    "\n",
    "Write a program or script that accepts two lap times\n",
    "and calculates their average, returning the result in the same string format. \n",
    "\n",
    "```\n",
    "In: \"00:02:20\", \"00:04:40\" \n",
    "Out: \"00:03:30\"\n",
    "```"
   ]
  },
  {
   "cell_type": "code",
   "execution_count": null,
   "metadata": {
    "collapsed": true
   },
   "outputs": [],
   "source": []
  }
 ],
 "metadata": {
  "anaconda-cloud": {},
  "kernelspec": {
   "display_name": "Python [conda root]",
   "language": "python",
   "name": "conda-root-py"
  },
  "language_info": {
   "codemirror_mode": {
    "name": "ipython",
    "version": 3
   },
   "file_extension": ".py",
   "mimetype": "text/x-python",
   "name": "python",
   "nbconvert_exporter": "python",
   "pygments_lexer": "ipython3",
   "version": "3.5.2"
  },
  "widgets": {
   "state": {},
   "version": "1.1.2"
  }
 },
 "nbformat": 4,
 "nbformat_minor": 0
}
