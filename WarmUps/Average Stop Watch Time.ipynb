{
 "cells": [
  {
   "cell_type": "markdown",
   "metadata": {},
   "source": [
    "### Python:  Average Stopwatch Time\n",
    "\n",
    "\n",
    "A stopwatch records lap times as strings of the form `\"MM:SS:HS\"`. \n",
    "```\n",
    "MM = minutes\n",
    "SS = seconds\n",
    "HS = hundredths of a second\n",
    "```\n",
    "\n",
    "Write a program or script that accepts two lap times\n",
    "and calculates their average, returning the result in the same string format. \n",
    "\n",
    "```\n",
    "In: \"00:02:20\", \"00:04:40\" \n",
    "Out: \"00:03:30\"\n",
    "```"
   ]
  },
  {
   "cell_type": "code",
   "execution_count": 16,
   "metadata": {
    "collapsed": true
   },
   "outputs": [],
   "source": [
    "def time_avg(time, after_time):\n",
    "    \"\"\"Averages two time strs formatted 00:00:00\"\"\"\n",
    "    \n",
    "    time = [int(t) for t in time.split(':')]\n",
    "    after_time = [int(t) for t in after_time.split(':')]\n",
    "    \n",
    "    mili_avg = (time[2] + after_time[2]) // 2\n",
    "    sec_avg = (time[1] + after_time[1]) // 2\n",
    "    \n",
    "    print(sec_avg, mili_avg)\n",
    "    \n",
    "    \n",
    "    "
   ]
  },
  {
   "cell_type": "code",
   "execution_count": 18,
   "metadata": {
    "collapsed": false
   },
   "outputs": [
    {
     "name": "stdout",
     "output_type": "stream",
     "text": [
      "1 0\n"
     ]
    }
   ],
   "source": [
    "time_avg(\"00:02:00\", \"00:01:00\")"
   ]
  },
  {
   "cell_type": "code",
   "execution_count": null,
   "metadata": {
    "collapsed": true
   },
   "outputs": [],
   "source": []
  }
 ],
 "metadata": {
  "anaconda-cloud": {},
  "kernelspec": {
   "display_name": "Python [conda root]",
   "language": "python",
   "name": "conda-root-py"
  },
  "language_info": {
   "codemirror_mode": {
    "name": "ipython",
    "version": 3
   },
   "file_extension": ".py",
   "mimetype": "text/x-python",
   "name": "python",
   "nbconvert_exporter": "python",
   "pygments_lexer": "ipython3",
   "version": "3.5.2"
  },
  "widgets": {
   "state": {},
   "version": "1.1.2"
  }
 },
 "nbformat": 4,
 "nbformat_minor": 0
}
