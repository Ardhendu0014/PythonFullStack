{
 "cells": [
  {
   "cell_type": "markdown",
   "metadata": {},
   "source": [
    "# Python: \n",
    "\n",
    "\n",
    "Given a number of speed cameras and their positions along a road, along with the speed limit, calculate which vehicles are breaking the speed limit.\n",
    "\n",
    "The camera logs are stored as `speedcams.txt` and `speedcams_sm.txt`.  Use the smaller log for development.\n",
    "\n",
    "Here is sample expected output for `speedcams_sm.txt`:\n",
    "\n",
    "```\n",
    "Vehicle LO04 CHZ broke the speed limit by 3.4 mph.\n",
    "Vehicle LO04 CHZ broke the speed limit by 2.1 mph.\n",
    "Vehicle QW04 SQU broke the speed limit by 10.6 mph.\n",
    "Vehicle R815 FII broke the speed limit by 3.9 mph.\n",
    "```"
   ]
  },
  {
   "cell_type": "code",
   "execution_count": null,
   "metadata": {
    "collapsed": true
   },
   "outputs": [],
   "source": []
  }
 ],
 "metadata": {
  "anaconda-cloud": {},
  "kernelspec": {
   "display_name": "Python [conda root]",
   "language": "python",
   "name": "conda-root-py"
  },
  "language_info": {
   "codemirror_mode": {
    "name": "ipython",
    "version": 3
   },
   "file_extension": ".py",
   "mimetype": "text/x-python",
   "name": "python",
   "nbconvert_exporter": "python",
   "pygments_lexer": "ipython3",
   "version": "3.5.2"
  },
  "widgets": {
   "state": {},
   "version": "1.1.2"
  }
 },
 "nbformat": 4,
 "nbformat_minor": 0
}
