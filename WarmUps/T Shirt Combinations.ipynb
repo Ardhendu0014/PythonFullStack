{
 "cells": [
  {
   "cell_type": "markdown",
   "metadata": {},
   "source": [
    "## Python\n",
    "\n",
    "Create a list of tuples representing every combination of T-Shirt color and size"
   ]
  },
  {
   "cell_type": "markdown",
   "metadata": {},
   "source": [
    "```\n",
    "sizes = ['Sm', 'Md', 'Lg']\n",
    "colors = ['AliceBlue', 'DarkSalmon', 'CloudWhite']\n",
    "```"
   ]
  },
  {
   "cell_type": "code",
   "execution_count": 4,
   "metadata": {
    "collapsed": true
   },
   "outputs": [],
   "source": [
    "from itertools import product\n",
    "\n",
    "\n",
    "sizes = ['Sm', 'Md', 'Lg']\n",
    "colors = ['AliceBlue', 'DarkSalmon', 'CloudWhite']"
   ]
  },
  {
   "cell_type": "code",
   "execution_count": 5,
   "metadata": {
    "collapsed": false
   },
   "outputs": [
    {
     "data": {
      "text/plain": [
       "[('Sm', 'AliceBlue'),\n",
       " ('Sm', 'DarkSalmon'),\n",
       " ('Sm', 'CloudWhite'),\n",
       " ('Md', 'AliceBlue'),\n",
       " ('Md', 'DarkSalmon'),\n",
       " ('Md', 'CloudWhite'),\n",
       " ('Lg', 'AliceBlue'),\n",
       " ('Lg', 'DarkSalmon'),\n",
       " ('Lg', 'CloudWhite')]"
      ]
     },
     "execution_count": 5,
     "metadata": {},
     "output_type": "execute_result"
    }
   ],
   "source": [
    "list(product(sizes, colors))"
   ]
  },
  {
   "cell_type": "code",
   "execution_count": 6,
   "metadata": {
    "collapsed": true
   },
   "outputs": [],
   "source": [
    "# Pre-sorted Data\n",
    "\n",
    "inventory = [\n",
    "    ['Toothpastes', 'Crest', 16],\n",
    "    ['Toothpastes', 'Toms', 16],\n",
    "    ['Toothpastes', 'Colgate', 16],\n",
    "    ['Pirates', 'Cpt Cook', 180],\n",
    "    ['Pirates', 'Jack Sparrow', 120],\n",
    "    ['Artifacts', 'the Ark', 42],\n",
    "    ['Artifacts', 'Dead Sea Scrolls', 2],\n",
    "    ['Artifacts', 'Roswell Debris', float('-inf')],\n",
    "]\n",
    "\n",
    "\n"
   ]
  },
  {
   "cell_type": "code",
   "execution_count": 7,
   "metadata": {
    "collapsed": true
   },
   "outputs": [],
   "source": [
    "from itertools import groupby\n",
    "\n"
   ]
  },
  {
   "cell_type": "code",
   "execution_count": 8,
   "metadata": {
    "collapsed": false
   },
   "outputs": [
    {
     "data": {
      "text/plain": [
       "[('Toothpastes', <itertools._grouper at 0x7f8bac1c8e48>),\n",
       " ('Pirates', <itertools._grouper at 0x7f8bac1c8eb8>),\n",
       " ('Artifacts', <itertools._grouper at 0x7f8bac1c8a90>)]"
      ]
     },
     "execution_count": 8,
     "metadata": {},
     "output_type": "execute_result"
    }
   ],
   "source": [
    "def helper(item: list) -> str:\n",
    "    return item[0]\n",
    "\n",
    "list(groupby(inventory, key=helper))"
   ]
  },
  {
   "cell_type": "code",
   "execution_count": 10,
   "metadata": {
    "collapsed": false
   },
   "outputs": [
    {
     "data": {
      "text/plain": [
       "[('Toothpastes',\n",
       "  [['Toothpastes', 'Crest', 16],\n",
       "   ['Toothpastes', 'Toms', 16],\n",
       "   ['Toothpastes', 'Colgate', 16]]),\n",
       " ('Pirates', [['Pirates', 'Cpt Cook', 180], ['Pirates', 'Jack Sparrow', 120]]),\n",
       " ('Artifacts',\n",
       "  [['Artifacts', 'the Ark', 42],\n",
       "   ['Artifacts', 'Dead Sea Scrolls', 2],\n",
       "   ['Artifacts', 'Roswell Debris', -inf]])]"
      ]
     },
     "execution_count": 10,
     "metadata": {},
     "output_type": "execute_result"
    }
   ],
   "source": [
    "[(cat, list(vals)) for cat, vals in groupby(inventory, key=helper)]"
   ]
  },
  {
   "cell_type": "code",
   "execution_count": null,
   "metadata": {
    "collapsed": true
   },
   "outputs": [],
   "source": []
  }
 ],
 "metadata": {
  "anaconda-cloud": {},
  "kernelspec": {
   "display_name": "Python [conda root]",
   "language": "python",
   "name": "conda-root-py"
  },
  "language_info": {
   "codemirror_mode": {
    "name": "ipython",
    "version": 3
   },
   "file_extension": ".py",
   "mimetype": "text/x-python",
   "name": "python",
   "nbconvert_exporter": "python",
   "pygments_lexer": "ipython3",
   "version": "3.5.2"
  },
  "widgets": {
   "state": {},
   "version": "1.1.2"
  }
 },
 "nbformat": 4,
 "nbformat_minor": 0
}
