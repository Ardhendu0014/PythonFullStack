{
 "cells": [
  {
   "cell_type": "code",
   "execution_count": 2,
   "metadata": {
    "collapsed": true
   },
   "outputs": [],
   "source": [
    "## Defuse!"
   ]
  },
  {
   "cell_type": "markdown",
   "metadata": {},
   "source": [
    "## Python\n",
    "\n",
    "- If you cut a white cable you can't cut white or black cable next.\n",
    "- If you cut a red cable you have to cut a green one next.\n",
    "- If you cut a black cable it is not allowed to cut a white, green or orange one in the future.\n",
    "- If you cut an orange cable you must cut a red or black one next.\n",
    "- If you cut a green one you must cut a orange or white one next.\n",
    "- If you cut a purple cable you can't cut a purple, green, orange or white cable next.\n",
    "\n",
    "\n",
    "```\n",
    "In: [white, red, green, orange] => Out: 'Defused'\n",
    "In: [white, orange, green, white] => Out: 'Boom'\n",
    "In: [white] => Out: 'Defused'\n",
    "In: [purple, black, red, green] => Out: 'Defused'\n",
    "```\n"
   ]
  },
  {
   "cell_type": "code",
   "execution_count": 35,
   "metadata": {
    "collapsed": true
   },
   "outputs": [],
   "source": [
    "nums = '987893274827982374893274893274893279'"
   ]
  },
  {
   "cell_type": "code",
   "execution_count": 36,
   "metadata": {
    "collapsed": false
   },
   "outputs": [],
   "source": [
    "t = (9, 3)"
   ]
  },
  {
   "cell_type": "code",
   "execution_count": 38,
   "metadata": {
    "collapsed": false
   },
   "outputs": [
    {
     "data": {
      "text/plain": [
       "'893274'"
      ]
     },
     "execution_count": 38,
     "metadata": {},
     "output_type": "execute_result"
    }
   ],
   "source": [
    "nums[t[1]:t[0]]"
   ]
  },
  {
   "cell_type": "code",
   "execution_count": 21,
   "metadata": {
    "collapsed": false,
    "scrolled": true
   },
   "outputs": [],
   "source": [
    "pattern = r'(w[wb]|r[^g]|b(?=wgo)|g[^ow]|p[pgow])'\n"
   ]
  },
  {
   "cell_type": "code",
   "execution_count": 41,
   "metadata": {
    "collapsed": false
   },
   "outputs": [],
   "source": [
    "# import time\n",
    "\n",
    "def somefunc():\n",
    "    print(\"Yes\")\n",
    "    return True\n",
    "\n"
   ]
  },
  {
   "cell_type": "code",
   "execution_count": 42,
   "metadata": {
    "collapsed": true
   },
   "outputs": [],
   "source": [
    "llama = somefunc"
   ]
  },
  {
   "cell_type": "code",
   "execution_count": 43,
   "metadata": {
    "collapsed": false
   },
   "outputs": [
    {
     "name": "stdout",
     "output_type": "stream",
     "text": [
      "Yes\n"
     ]
    },
    {
     "data": {
      "text/plain": [
       "True"
      ]
     },
     "execution_count": 43,
     "metadata": {},
     "output_type": "execute_result"
    }
   ],
   "source": [
    "llama()"
   ]
  },
  {
   "cell_type": "code",
   "execution_count": null,
   "metadata": {
    "collapsed": true
   },
   "outputs": [],
   "source": []
  },
  {
   "cell_type": "code",
   "execution_count": 26,
   "metadata": {
    "collapsed": false
   },
   "outputs": [],
   "source": [
    "import re\n",
    "\n",
    "\n",
    "def defuse_checker(cutting_order):\n",
    "    \"\"\"\"\"\"\n",
    "    \n",
    "    antidefusal_pattern = re.compile(r\"\"\"\n",
    "                (\n",
    "                w[wb]      |     #  No black or white next after a white\n",
    "                r[^g]      |     #  Green must follow red\n",
    "                b(?=wgo)   |     #  No white, green, or orange anywhere after black\n",
    "                g[^ow]     |     #  Orange or white must follow green\n",
    "                p[pgow]          #  No purple, green, orange, or white next after purple\n",
    "                )\n",
    "                \"\"\", re.VERBOSE)\n",
    "    \n",
    "    \n",
    "    cuts = \"\".join(color[0] for color in cutting_order)\n",
    "    \n",
    "    if antidefusal_pattern.search(cuts) is None:\n",
    "        print(\"Defused!\")\n",
    "    else:\n",
    "        print(\"Fail!\")\n",
    "        \n",
    "        "
   ]
  },
  {
   "cell_type": "code",
   "execution_count": 27,
   "metadata": {
    "collapsed": false
   },
   "outputs": [
    {
     "name": "stdout",
     "output_type": "stream",
     "text": [
      "Defused!\n"
     ]
    }
   ],
   "source": [
    "defuse_checker(['white', 'orange', 'green', 'white'])"
   ]
  },
  {
   "cell_type": "code",
   "execution_count": null,
   "metadata": {
    "collapsed": true
   },
   "outputs": [],
   "source": []
  },
  {
   "cell_type": "code",
   "execution_count": null,
   "metadata": {
    "collapsed": true
   },
   "outputs": [],
   "source": []
  },
  {
   "cell_type": "code",
   "execution_count": null,
   "metadata": {
    "collapsed": true
   },
   "outputs": [],
   "source": []
  },
  {
   "cell_type": "code",
   "execution_count": 1,
   "metadata": {
    "collapsed": true
   },
   "outputs": [],
   "source": [
    "import sys\n",
    "\n"
   ]
  },
  {
   "cell_type": "code",
   "execution_count": 6,
   "metadata": {
    "collapsed": false
   },
   "outputs": [
    {
     "ename": "OSError",
     "evalue": "Read not supported on a write only stream.",
     "output_type": "error",
     "traceback": [
      "\u001b[0;31m---------------------------------------------------------------------------\u001b[0m",
      "\u001b[0;31mOSError\u001b[0m                                   Traceback (most recent call last)",
      "\u001b[0;32m<ipython-input-6-e1e0d2fd1485>\u001b[0m in \u001b[0;36m<module>\u001b[0;34m()\u001b[0m\n\u001b[0;32m----> 1\u001b[0;31m \u001b[0mprint\u001b[0m\u001b[0;34m(\u001b[0m\u001b[0msys\u001b[0m\u001b[0;34m.\u001b[0m\u001b[0mstdout\u001b[0m\u001b[0;34m.\u001b[0m\u001b[0mread\u001b[0m\u001b[0;34m(\u001b[0m\u001b[0;34m)\u001b[0m\u001b[0;34m)\u001b[0m\u001b[0;34m\u001b[0m\u001b[0m\n\u001b[0m",
      "\u001b[0;32m/home/k/.local/lib/python3.5/site-packages/ipykernel/iostream.py\u001b[0m in \u001b[0;36mread\u001b[0;34m(self, size)\u001b[0m\n\u001b[1;32m    298\u001b[0m \u001b[0;34m\u001b[0m\u001b[0m\n\u001b[1;32m    299\u001b[0m     \u001b[0;32mdef\u001b[0m \u001b[0mread\u001b[0m\u001b[0;34m(\u001b[0m\u001b[0mself\u001b[0m\u001b[0;34m,\u001b[0m \u001b[0msize\u001b[0m\u001b[0;34m=\u001b[0m\u001b[0;34m-\u001b[0m\u001b[0;36m1\u001b[0m\u001b[0;34m)\u001b[0m\u001b[0;34m:\u001b[0m\u001b[0;34m\u001b[0m\u001b[0m\n\u001b[0;32m--> 300\u001b[0;31m         \u001b[0;32mraise\u001b[0m \u001b[0mIOError\u001b[0m\u001b[0;34m(\u001b[0m\u001b[0;34m'Read not supported on a write only stream.'\u001b[0m\u001b[0;34m)\u001b[0m\u001b[0;34m\u001b[0m\u001b[0m\n\u001b[0m\u001b[1;32m    301\u001b[0m \u001b[0;34m\u001b[0m\u001b[0m\n\u001b[1;32m    302\u001b[0m     \u001b[0;32mdef\u001b[0m \u001b[0mreadline\u001b[0m\u001b[0;34m(\u001b[0m\u001b[0mself\u001b[0m\u001b[0;34m,\u001b[0m \u001b[0msize\u001b[0m\u001b[0;34m=\u001b[0m\u001b[0;34m-\u001b[0m\u001b[0;36m1\u001b[0m\u001b[0;34m)\u001b[0m\u001b[0;34m:\u001b[0m\u001b[0;34m\u001b[0m\u001b[0m\n",
      "\u001b[0;31mOSError\u001b[0m: Read not supported on a write only stream."
     ]
    }
   ],
   "source": [
    "print(sys.stdout.read())"
   ]
  },
  {
   "cell_type": "markdown",
   "metadata": {},
   "source": [
    "## Python"
   ]
  },
  {
   "cell_type": "markdown",
   "metadata": {},
   "source": [
    "- You have to start with either with a white or a red wire.\n",
    "\n",
    "- If you picked white wire you can either pick another white wire again or you can take an orange one.\n",
    "\n",
    "- If you picked a red wire you have the choice between a black and red wire.\n",
    "\n",
    "- When a second red wire is picked, you can start from rule one again.\n",
    "\n",
    "- Back to the second rule, if you picked another white one you will have to pick a black or red one now\n",
    "When the red wire is picked, you again go to rule one.\n",
    "\n",
    "- On the other hand if you then picked an orange wire, you can choose between green, orange and black.\n",
    "\n",
    "- When you are at the point where you can choose between green, orange and black and you pick either green or orange you have to choose the other one and then the bomb is defused.\n",
    "\n",
    "- If you ever pick a black wire you will be at the point where you have to choose between green, orange and black\n"
   ]
  },
  {
   "cell_type": "markdown",
   "metadata": {},
   "source": [
    "```\n",
    "In: [white, white, red, white, orange, black, black, green, orange] => Out: Defused\n",
    "\n",
    "In: [white, white, green, orange, green] => Out: Booom!\n",
    "```"
   ]
  },
  {
   "cell_type": "markdown",
   "metadata": {},
   "source": [
    "### Advanced\n",
    "\n",
    "```\n",
    "In: [white, white, red, red, red, white, white, black, green, orange]\n",
    "Out: \n",
    "\n",
    "In: [white , black, black, black, black, green, orange]\n",
    "\n",
    "\n",
    "In: [black, green, green]\n",
    "\n",
    "\n",
    "In: [red, red, white, orange, black, green]\n",
    "    \n",
    "```\n"
   ]
  },
  {
   "cell_type": "markdown",
   "metadata": {},
   "source": [
    "### More Advanced\n",
    "\n",
    "Is the bomb defusable? You have to use all wires, you cannot leave any uncut.\n",
    "\n",
    "```\n",
    "In: {white: 4\n",
    "red: 3\n",
    "black: 4\n",
    "green: 1\n",
    "orange: 1}\n",
    "\n",
    "Out: True\n",
    "\n",
    "---------------------------------------\n",
    "\n",
    "In: {white: 4\n",
    "red: 3\n",
    "black: 4\n",
    "green: 0\n",
    "orange: 1}\n",
    "\n",
    "Out: False\n",
    "```\n",
    "\n"
   ]
  },
  {
   "cell_type": "markdown",
   "metadata": {},
   "source": [
    "## Moar\n",
    "\n",
    "```\n",
    "\n",
    "{white: 3\n",
    "red: 1\n",
    "black: 48\n",
    "green: 1\n",
    "orange: 2}\n",
    "\n",
    "\n",
    "{white: 3\n",
    "red: 1\n",
    "black: 48\n",
    "green: 1\n",
    "orange: 1}\n",
    "\n",
    "```"
   ]
  },
  {
   "cell_type": "code",
   "execution_count": null,
   "metadata": {
    "collapsed": true
   },
   "outputs": [],
   "source": []
  }
 ],
 "metadata": {
  "anaconda-cloud": {},
  "kernelspec": {
   "display_name": "Python [conda root]",
   "language": "python",
   "name": "conda-root-py"
  },
  "language_info": {
   "codemirror_mode": {
    "name": "ipython",
    "version": 3
   },
   "file_extension": ".py",
   "mimetype": "text/x-python",
   "name": "python",
   "nbconvert_exporter": "python",
   "pygments_lexer": "ipython3",
   "version": "3.5.2"
  },
  "widgets": {
   "state": {},
   "version": "1.1.2"
  }
 },
 "nbformat": 4,
 "nbformat_minor": 0
}
