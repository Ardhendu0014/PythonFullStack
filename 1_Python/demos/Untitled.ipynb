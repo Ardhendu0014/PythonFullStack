{
 "cells": [
  {
   "cell_type": "code",
   "execution_count": 3,
   "metadata": {
    "collapsed": false
   },
   "outputs": [
    {
     "name": "stdout",
     "output_type": "stream",
     "text": [
      "Sent to +15416026215\n",
      "Sent to +19712618039\n",
      "Sent to +15032659047\n"
     ]
    }
   ],
   "source": [
    "from twilio.rest import TwilioRestClient\n",
    "\n",
    "\n",
    "# Auth Steps\n",
    "account_sid = \"AC86189c370a1fcca6c3dd11c2fa15ee04\"\n",
    "auth_token = \"1769e4656916ec050cdbe4e58d17e6c1\"\n",
    "client = TwilioRestClient(account_sid, auth_token)\n",
    "\n",
    "\n",
    "numbers = ['+15416026215', '+19712618039', '+15032659047']\n",
    "\n",
    "for number in numbers:\n",
    "    # SMS Itself\n",
    "    message = client.messages.create(to=number,\n",
    "                                     from_=\"+14243512633\",\n",
    "                                     body=\"Hahaha Hello Katie from the class!\")\n",
    "\n",
    "\n",
    "    # Success!\n",
    "    print(\"Sent to {}\".format(number))\n",
    "\n"
   ]
  },
  {
   "cell_type": "code",
   "execution_count": 5,
   "metadata": {
    "collapsed": false
   },
   "outputs": [
    {
     "name": "stdout",
     "output_type": "stream",
     "text": [
      "PDX Code Guild, 2626, Southwest Corbett Avenue, University District, Portland, Multnomah County, Oregon, 97201, United States of America\n"
     ]
    }
   ],
   "source": [
    "from geopy.geocoders import Nominatim\n",
    "\n",
    "\n",
    "geolocator = Nominatim()\n",
    "location = geolocator.geocode(\"2626 SW Corbett, Portland, OR\")\n",
    "print(location.address)"
   ]
  },
  {
   "cell_type": "code",
   "execution_count": 6,
   "metadata": {
    "collapsed": false
   },
   "outputs": [
    {
     "data": {
      "text/plain": [
       "{'boundingbox': ['45.5038934', '45.5041833', '-122.6755042', '-122.6752135'],\n",
       " 'class': 'amenity',\n",
       " 'display_name': 'PDX Code Guild, 2626, Southwest Corbett Avenue, University District, Portland, Multnomah County, Oregon, 97201, United States of America',\n",
       " 'icon': 'https://nominatim.openstreetmap.org/images/mapicons/education_school.p.20.png',\n",
       " 'importance': 0.311,\n",
       " 'lat': '45.5040453',\n",
       " 'licence': 'Data © OpenStreetMap contributors, ODbL 1.0. http://www.openstreetmap.org/copyright',\n",
       " 'lon': '-122.675369823435',\n",
       " 'osm_id': '161313264',\n",
       " 'osm_type': 'way',\n",
       " 'place_id': '101171966',\n",
       " 'type': 'school'}"
      ]
     },
     "execution_count": 6,
     "metadata": {},
     "output_type": "execute_result"
    }
   ],
   "source": [
    "location.raw"
   ]
  },
  {
   "cell_type": "code",
   "execution_count": null,
   "metadata": {
    "collapsed": true
   },
   "outputs": [],
   "source": []
  }
 ],
 "metadata": {
  "anaconda-cloud": {},
  "kernelspec": {
   "display_name": "Python [conda root]",
   "language": "python",
   "name": "conda-root-py"
  },
  "language_info": {
   "codemirror_mode": {
    "name": "ipython",
    "version": 3
   },
   "file_extension": ".py",
   "mimetype": "text/x-python",
   "name": "python",
   "nbconvert_exporter": "python",
   "pygments_lexer": "ipython3",
   "version": "3.5.2"
  },
  "widgets": {
   "state": {},
   "version": "1.1.2"
  }
 },
 "nbformat": 4,
 "nbformat_minor": 0
}
