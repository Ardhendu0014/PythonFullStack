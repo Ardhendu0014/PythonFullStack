{
 "cells": [
  {
   "cell_type": "code",
   "execution_count": 1,
   "metadata": {
    "collapsed": true
   },
   "outputs": [],
   "source": [
    "import matplotlib"
   ]
  },
  {
   "cell_type": "code",
   "execution_count": 2,
   "metadata": {},
   "outputs": [
    {
     "name": "stdout",
     "output_type": "stream",
     "text": [
      "analysis.py  Crime Data Analysis.ipynb\tcrime_data_analysis.md\tdata\r\n"
     ]
    }
   ],
   "source": [
    "!ls"
   ]
  },
  {
   "cell_type": "code",
   "execution_count": 3,
   "metadata": {},
   "outputs": [
    {
     "name": "stdout",
     "output_type": "stream",
     "text": [
      "crime_incident_data_2011.csv  crime_incident_data_2014.csv\r\n",
      "crime_incident_data_2012.csv  crime_incident_data_recent.csv\r\n",
      "crime_incident_data_2013.csv\r\n"
     ]
    }
   ],
   "source": [
    "!ls data"
   ]
  },
  {
   "cell_type": "code",
   "execution_count": 4,
   "metadata": {
    "collapsed": true
   },
   "outputs": [],
   "source": [
    "import glob"
   ]
  },
  {
   "cell_type": "code",
   "execution_count": 5,
   "metadata": {
    "collapsed": true
   },
   "outputs": [],
   "source": [
    "crime_data = glob.glob('data/*.csv')"
   ]
  },
  {
   "cell_type": "code",
   "execution_count": 33,
   "metadata": {},
   "outputs": [
    {
     "data": {
      "text/plain": [
       "['data/crime_incident_data_2013.csv',\n",
       " 'data/crime_incident_data_2012.csv',\n",
       " 'data/crime_incident_data_2011.csv',\n",
       " 'data/crime_incident_data_2014.csv',\n",
       " 'data/crime_incident_data_recent.csv']"
      ]
     },
     "execution_count": 33,
     "metadata": {},
     "output_type": "execute_result"
    }
   ],
   "source": [
    "crime_data"
   ]
  },
  {
   "cell_type": "code",
   "execution_count": 34,
   "metadata": {},
   "outputs": [
    {
     "name": "stdout",
     "output_type": "stream",
     "text": [
      "\"Record ID\",\"Report Date\",\"Report Time\",\"Major Offense Type\",\"Address\",\"Neighborhood\",\"Police Precinct\",\"Police District\",X Coordinate,Y Coordinate\n",
      "\n"
     ]
    }
   ],
   "source": [
    "with open(crime_data[0], 'r') as f:\n",
    "    print(f.readline())"
   ]
  },
  {
   "cell_type": "code",
   "execution_count": 56,
   "metadata": {
    "collapsed": true
   },
   "outputs": [],
   "source": [
    "csv_fields = str()\n",
    "with open(crime_data[0], 'r') as f:\n",
    "    csv_fields = f.readline()"
   ]
  },
  {
   "cell_type": "code",
   "execution_count": 57,
   "metadata": {},
   "outputs": [
    {
     "data": {
      "text/plain": [
       "'\"Record ID\",\"Report Date\",\"Report Time\",\"Major Offense Type\",\"Address\",\"Neighborhood\",\"Police Precinct\",\"Police District\",X Coordinate,Y Coordinate\\n'"
      ]
     },
     "execution_count": 57,
     "metadata": {},
     "output_type": "execute_result"
    }
   ],
   "source": [
    "csv_fields"
   ]
  },
  {
   "cell_type": "code",
   "execution_count": 58,
   "metadata": {},
   "outputs": [],
   "source": [
    "# Split out our unformatted data.\n",
    "csv_fields = csv_fields.split(',')\n",
    "# Remove excess quotes.\n",
    "csv_fields = [field.replace('\"', '').strip() for field in csv_fields]\n",
    "# Casefold and replace spaces with underscores.\n",
    "csv_fields = [field.casefold().replace(' ', '_') for field in csv_fields]"
   ]
  },
  {
   "cell_type": "code",
   "execution_count": 59,
   "metadata": {},
   "outputs": [
    {
     "data": {
      "text/plain": [
       "['record_id',\n",
       " 'report_date',\n",
       " 'report_time',\n",
       " 'major_offense_type',\n",
       " 'address',\n",
       " 'neighborhood',\n",
       " 'police_precinct',\n",
       " 'police_district',\n",
       " 'x_coordinate',\n",
       " 'y_coordinate']"
      ]
     },
     "execution_count": 59,
     "metadata": {},
     "output_type": "execute_result"
    }
   ],
   "source": [
    "csv_fields"
   ]
  },
  {
   "cell_type": "code",
   "execution_count": 53,
   "metadata": {
    "collapsed": true
   },
   "outputs": [],
   "source": [
    "csv_fields_string = ', '.join(csv_fields)"
   ]
  },
  {
   "cell_type": "code",
   "execution_count": 64,
   "metadata": {
    "collapsed": true
   },
   "outputs": [],
   "source": [
    "crimes = list()"
   ]
  },
  {
   "cell_type": "code",
   "execution_count": 65,
   "metadata": {
    "collapsed": true
   },
   "outputs": [],
   "source": [
    "from collections import namedtuple\n",
    "\n",
    "Crime = namedtuple('Crime', csv_fields_string)"
   ]
  },
  {
   "cell_type": "code",
   "execution_count": 76,
   "metadata": {},
   "outputs": [],
   "source": [
    "import csv\n",
    "\n",
    "for crime in map(Crime._make, csv.reader(open(crime_data[0], \"r\"))):\n",
    "    crimes.append(crime)"
   ]
  },
  {
   "cell_type": "code",
   "execution_count": 77,
   "metadata": {
    "collapsed": true
   },
   "outputs": [],
   "source": [
    "crime_counts = dict()"
   ]
  },
  {
   "cell_type": "code",
   "execution_count": 78,
   "metadata": {
    "collapsed": true
   },
   "outputs": [],
   "source": [
    "for crime in crimes:\n",
    "    crime_counts[crime.major_offense_type] = crime_counts.get(crime.major_offense_type, 0) + 1"
   ]
  },
  {
   "cell_type": "code",
   "execution_count": 79,
   "metadata": {},
   "outputs": [
    {
     "data": {
      "text/plain": [
       "{'Aggravated Assault': 3474,\n",
       " 'Arson': 344,\n",
       " 'Assault, Simple': 8034,\n",
       " 'Burglary': 8058,\n",
       " 'Curfew': 58,\n",
       " 'DUII': 3552,\n",
       " 'Disorderly Conduct': 8092,\n",
       " 'Drugs': 6514,\n",
       " 'Embezzlement': 278,\n",
       " 'Forgery': 2228,\n",
       " 'Fraud': 3326,\n",
       " 'Gambling': 4,\n",
       " 'Homicide': 32,\n",
       " 'Kidnap': 18,\n",
       " 'Larceny': 43858,\n",
       " 'Liquor Laws': 5522,\n",
       " 'Major Offense Type': 2,\n",
       " 'Motor Vehicle Theft': 6726,\n",
       " 'Offenses Against Family': 90,\n",
       " 'Prostitution': 390,\n",
       " 'Rape': 410,\n",
       " 'Robbery': 1804,\n",
       " 'Runaway': 3024,\n",
       " 'Sex Offenses': 738,\n",
       " 'Stolen Property': 154,\n",
       " 'Trespass': 5624,\n",
       " 'Vandalism': 10448,\n",
       " 'Weapons': 758}"
      ]
     },
     "execution_count": 79,
     "metadata": {},
     "output_type": "execute_result"
    }
   ],
   "source": [
    "crime_counts"
   ]
  },
  {
   "cell_type": "code",
   "execution_count": 83,
   "metadata": {
    "collapsed": true
   },
   "outputs": [],
   "source": [
    "def crimes_by_occurance(crimes):\n",
    "    crime_counts = dict()\n",
    "    for crime in crimes:\n",
    "        crime_counts[crime.major_offense_type] = crime_counts.get(crime.major_offense_type, 0) + 1\n",
    "        \n",
    "    return OrderedDict(sorted(crime_counts.items(), key=lambda c: c[1]))"
   ]
  },
  {
   "cell_type": "code",
   "execution_count": 84,
   "metadata": {},
   "outputs": [
    {
     "data": {
      "text/plain": [
       "OrderedDict([('Major Offense Type', 2),\n",
       "             ('Gambling', 4),\n",
       "             ('Kidnap', 18),\n",
       "             ('Homicide', 32),\n",
       "             ('Curfew', 58),\n",
       "             ('Offenses Against Family', 90),\n",
       "             ('Stolen Property', 154),\n",
       "             ('Embezzlement', 278),\n",
       "             ('Arson', 344),\n",
       "             ('Prostitution', 390),\n",
       "             ('Rape', 410),\n",
       "             ('Sex Offenses', 738),\n",
       "             ('Weapons', 758),\n",
       "             ('Robbery', 1804),\n",
       "             ('Forgery', 2228),\n",
       "             ('Runaway', 3024),\n",
       "             ('Fraud', 3326),\n",
       "             ('Aggravated Assault', 3474),\n",
       "             ('DUII', 3552),\n",
       "             ('Liquor Laws', 5522),\n",
       "             ('Trespass', 5624),\n",
       "             ('Drugs', 6514),\n",
       "             ('Motor Vehicle Theft', 6726),\n",
       "             ('Assault, Simple', 8034),\n",
       "             ('Burglary', 8058),\n",
       "             ('Disorderly Conduct', 8092),\n",
       "             ('Vandalism', 10448),\n",
       "             ('Larceny', 43858)])"
      ]
     },
     "execution_count": 84,
     "metadata": {},
     "output_type": "execute_result"
    }
   ],
   "source": [
    "crimes_by_occurance(crimes)"
   ]
  },
  {
   "cell_type": "code",
   "execution_count": 130,
   "metadata": {
    "collapsed": true
   },
   "outputs": [],
   "source": [
    "def crimes_by_fields(_crimes, **kwargs):\n",
    "    crimes = list()\n",
    "    for crime in _crimes:\n",
    "        checks = len(kwargs.items())\n",
    "        \n",
    "        for name, arg in kwargs.items():\n",
    "            if getattr(crime, name).casefold() == arg.casefold():\n",
    "                checks -= 1\n",
    "                \n",
    "        if checks == 0:\n",
    "            crimes.append(crime)\n",
    "    \n",
    "    return crimes"
   ]
  },
  {
   "cell_type": "code",
   "execution_count": 189,
   "metadata": {},
   "outputs": [
    {
     "data": {
      "text/plain": [
       "[Crime(record_id='14134123', report_date='05/14/2013', report_time='19:33:00', major_offense_type='Burglary', address='301-399 block of NW 9TH AVE, PORTLAND, OR 97209', neighborhood='PEARL', police_precinct='PORTLAND PREC CE', police_district='821', x_coordinate='7643416.7975700004', y_coordinate='685089.59415999998'),\n",
       " Crime(record_id='14182806', report_date='07/29/2013', report_time='10:40:00', major_offense_type='Burglary', address='100-198 block of NW 11TH AVE, PORTLAND, OR 97209', neighborhood='PEARL', police_precinct='PORTLAND PREC CE', police_district='821', x_coordinate='7642898.0636499999', y_coordinate='684568.34251999995'),\n",
       " Crime(record_id='14232236', report_date='10/16/2013', report_time='12:55:00', major_offense_type='Burglary', address='200-298 block of NW 11TH AVE, PORTLAND, OR 97209', neighborhood='PEARL', police_precinct='PORTLAND PREC CE', police_district='821', x_coordinate='7642896.53773', y_coordinate='684830.11023999995'),\n",
       " Crime(record_id='14243227', report_date='10/27/2013', report_time='07:54:00', major_offense_type='Burglary', address='200-298 block of NW 11TH AVE, PORTLAND, OR 97209', neighborhood='PEARL', police_precinct='PORTLAND PREC CE', police_district='821', x_coordinate='7642896.53773', y_coordinate='684830.11023999995'),\n",
       " Crime(record_id='14272802', report_date='12/23/2013', report_time='17:56:00', major_offense_type='Burglary', address='301-399 block of NW 12TH AVE, PORTLAND, OR 97209', neighborhood='PEARL', police_precinct='PORTLAND PREC CE', police_district='821', x_coordinate='7642636.79495', y_coordinate='685090.36580999999'),\n",
       " Crime(record_id='14138044', report_date='05/13/2013', report_time='10:41:00', major_offense_type='Burglary', address='1101-1199 block of NW 12TH AVE, PORTLAND, OR 97209', neighborhood='PEARL', police_precinct='PORTLAND PREC CE', police_district='821', x_coordinate='7642638.8631899999', y_coordinate='687170.36023999995'),\n",
       " Crime(record_id='14076382', report_date='01/04/2013', report_time='13:00:00', major_offense_type='Burglary', address='301-399 block of NW 13TH AVE, PORTLAND, OR 97209', neighborhood='PEARL', police_precinct='PORTLAND PREC CE', police_district='821', x_coordinate='7642376.7939600004', y_coordinate='685090.62369000004'),\n",
       " Crime(record_id='14082855', report_date='02/15/2013', report_time='00:20:00', major_offense_type='Burglary', address='400-498 block of NW 14TH AVE, PORTLAND, OR 97209', neighborhood='PEARL', police_precinct='PORTLAND PREC CE', police_district='821', x_coordinate='7642117.0531500001', y_coordinate='685350.87991999998'),\n",
       " Crime(record_id='14146815', report_date='06/05/2013', report_time='05:04:00', major_offense_type='Burglary', address='1401-1499 block of NW FLANDERS ST, PORTLAND, OR 97209', neighborhood='PEARL', police_precinct='PORTLAND PREC CE', police_district='810', x_coordinate='7642117.0531500001', y_coordinate='685350.87991999998'),\n",
       " Crime(record_id='14227953', report_date='10/09/2013', report_time='08:00:00', major_offense_type='Burglary', address='1401-1499 block of NW FLANDERS ST, PORTLAND, OR 97209', neighborhood='PEARL', police_precinct='PORTLAND PREC CE', police_district='810', x_coordinate='7642117.0531500001', y_coordinate='685350.87991999998'),\n",
       " Crime(record_id='14263200', report_date='12/09/2013', report_time='05:00:00', major_offense_type='Burglary', address='1401-1499 block of NW FLANDERS ST, PORTLAND, OR 97209', neighborhood='PEARL', police_precinct='PORTLAND PREC CE', police_district='810', x_coordinate='7642117.0531500001', y_coordinate='685350.87991999998'),\n",
       " Crime(record_id='14222857', report_date='08/24/2013', report_time='21:23:00', major_offense_type='Burglary', address='1300-1398 block of NW HOYT ST, PORTLAND, OR 97209', neighborhood='PEARL', police_precinct='PORTLAND PREC CE', police_district='821', x_coordinate='7642377.5698800003', y_coordinate='685870.62172000005'),\n",
       " Crime(record_id='14071224', report_date='01/29/2013', report_time='22:48:00', major_offense_type='Burglary', address='1300-1398 block of NW HOYT ST, PORTLAND, OR 97209', neighborhood='PEARL', police_precinct='PORTLAND PREC CE', police_district='821', x_coordinate='7642377.5698800003', y_coordinate='685870.62172000005'),\n",
       " Crime(record_id='14123793', report_date='05/01/2013', report_time='10:30:00', major_offense_type='Burglary', address='1300-1398 block of NW JOHNSON ST, PORTLAND, OR 97209', neighborhood='PEARL', police_precinct='PORTLAND PREC CE', police_district='821', x_coordinate='7642378.0869399998', y_coordinate='686390.62008000002'),\n",
       " Crime(record_id='14224961', report_date='10/05/2013', report_time='18:26:00', major_offense_type='Burglary', address='1300-1398 block of NW LOVEJOY ST, PORTLAND, OR 97209', neighborhood='PEARL', police_precinct='PORTLAND PREC CE', police_district='821', x_coordinate='7642378.5570900002', y_coordinate='686912.79790000001'),\n",
       " Crime(record_id='14239390', report_date='10/27/2013', report_time='06:25:00', major_offense_type='Burglary', address='1101-1199 block of NW NORTHRUP ST, PORTLAND, OR 97209', neighborhood='PEARL', police_precinct='PORTLAND PREC CE', police_district='821', x_coordinate='7642896.9790000003', y_coordinate='687428.03937000001'),\n",
       " Crime(record_id='14058570', report_date='01/04/2013', report_time='18:01:00', major_offense_type='Burglary', address='1201-1299 block of NW 11TH AVE, PORTLAND, OR 97209', neighborhood='PEARL', police_precinct='PORTLAND PREC CE', police_district='821', x_coordinate='7642896.9790000003', y_coordinate='687428.03937000001'),\n",
       " Crime(record_id='14105877', report_date='03/27/2013', report_time='11:07:00', major_offense_type='Burglary', address='901-999 block of NW 11TH AVE, PORTLAND, OR 97209', neighborhood='PEARL', police_precinct='PORTLAND PREC CE', police_district='821', x_coordinate='7642897.3536700001', y_coordinate='686646.30576999998'),\n",
       " Crime(record_id='14184995', report_date='07/31/2013', report_time='19:51:00', major_offense_type='Burglary', address='900-998 block of NW KEARNEY ST, PORTLAND, OR 97209', neighborhood='PEARL', police_precinct='PORTLAND PREC CE', police_district='821', x_coordinate='', y_coordinate=''),\n",
       " Crime(record_id='14069122', report_date='01/11/2013', report_time='04:57:00', major_offense_type='Burglary', address='900-998 block of NW KEARNEY ST, PORTLAND, OR 97209', neighborhood='PEARL', police_precinct='PORTLAND PREC CE', police_district='821', x_coordinate='', y_coordinate=''),\n",
       " Crime(record_id='14174851', report_date='07/15/2013', report_time='20:05:00', major_offense_type='Burglary', address='900-998 block of NW KEARNEY ST, PORTLAND, OR 97209', neighborhood='PEARL', police_precinct='PORTLAND PREC CE', police_district='821', x_coordinate='', y_coordinate=''),\n",
       " Crime(record_id='14107263', report_date='04/01/2013', report_time='05:38:00', major_offense_type='Burglary', address='1300-1398 block of NW NORTHRUP ST, PORTLAND, OR 97209', neighborhood='PEARL', police_precinct='PORTLAND PREC CE', police_district='821', x_coordinate='7642377.7053800002', y_coordinate='687429.06200999999'),\n",
       " Crime(record_id='14277565', report_date='12/30/2013', report_time='04:05:00', major_offense_type='Burglary', address='1301-1399 block of NW HOYT ST, PORTLAND, OR 97209', neighborhood='PEARL', police_precinct='PORTLAND PREC CE', police_district='821', x_coordinate='7642377.5698800003', y_coordinate='685870.62172000005'),\n",
       " Crime(record_id='14136627', report_date='05/22/2013', report_time='13:23:00', major_offense_type='Burglary', address='1101-1199 block of NW COUCH ST, PORTLAND, OR 97209', neighborhood='PEARL', police_precinct='PORTLAND PREC CE', police_district='821', x_coordinate='7642898.0636499999', y_coordinate='684568.34251999995'),\n",
       " Crime(record_id='14174871', report_date='07/16/2013', report_time='03:52:00', major_offense_type='Burglary', address='400-498 block of NW 9TH AVE, PORTLAND, OR 97209', neighborhood='PEARL', police_precinct='PORTLAND PREC CE', police_district='821', x_coordinate='7643417.0560999997', y_coordinate='685349.59285000002'),\n",
       " Crime(record_id='14219079', report_date='09/22/2013', report_time='07:34:00', major_offense_type='Burglary', address='200-298 block of NW 11TH AVE, PORTLAND, OR 97209', neighborhood='PEARL', police_precinct='PORTLAND PREC CE', police_district='821', x_coordinate='7642896.53773', y_coordinate='684830.11023999995'),\n",
       " Crime(record_id='14076381', report_date='01/04/2013', report_time='13:00:00', major_offense_type='Burglary', address='301-399 block of NW 13TH AVE, PORTLAND, OR 97209', neighborhood='PEARL', police_precinct='PORTLAND PREC CE', police_district='821', x_coordinate='7642376.7939600004', y_coordinate='685090.62369000004'),\n",
       " Crime(record_id='14120386', report_date='04/26/2013', report_time='05:20:00', major_offense_type='Burglary', address='1401-1499 block of NW FLANDERS ST, PORTLAND, OR 97209', neighborhood='PEARL', police_precinct='PORTLAND PREC CE', police_district='810', x_coordinate='7642117.0531500001', y_coordinate='685350.87991999998'),\n",
       " Crime(record_id='14197820', report_date='08/25/2013', report_time='12:38:00', major_offense_type='Burglary', address='1100-1132 block of NW GLISAN ST, PORTLAND, OR 97209', neighborhood='PEARL', police_precinct='PORTLAND PREC CE', police_district='821', x_coordinate='7642897.3129899995', y_coordinate='685610.10696'),\n",
       " Crime(record_id='14086998', report_date='02/24/2013', report_time='09:39:00', major_offense_type='Burglary', address='500-598 block of NW 9TH AVE, PORTLAND, OR 97209', neighborhood='PEARL', police_precinct='PORTLAND PREC CE', police_district='821', x_coordinate='7643417.3142999997', y_coordinate='685609.59317999997'),\n",
       " Crime(record_id='14106270', report_date='05/27/2013', report_time='03:01:00', major_offense_type='Burglary', address='1301-1399 block of W BURNSIDE ST, PORTLAND, OR 97209', neighborhood='PEARL', police_precinct='PORTLAND PREC CE', police_district='821', x_coordinate='7642381.7139100004', y_coordinate='684316.75558'),\n",
       " Crime(record_id='14137316', report_date='05/24/2013', report_time='18:15:00', major_offense_type='Burglary', address='401-499 block of NW 11TH AVE, PORTLAND, OR 97209', neighborhood='PEARL', police_precinct='PORTLAND PREC CE', police_district='821', x_coordinate='7642897.0551199997', y_coordinate='685350.10794000002'),\n",
       " Crime(record_id='14265749', report_date='12/12/2013', report_time='20:11:00', major_offense_type='Burglary', address='1200-1298 block of NW COUCH ST, PORTLAND, OR 97209', neighborhood='PEARL', police_precinct='PORTLAND PREC CE', police_district='821', x_coordinate='7642635.4196199998', y_coordinate='684570.13681000005'),\n",
       " Crime(record_id='14260844', report_date='12/04/2013', report_time='10:00:00', major_offense_type='Burglary', address='1301-1399 block of NW IRVING ST, PORTLAND, OR 97209', neighborhood='PEARL', police_precinct='PORTLAND PREC CE', police_district='821', x_coordinate='7642377.82907', y_coordinate='686130.62106000003'),\n",
       " Crime(record_id='14177990', report_date='07/21/2013', report_time='18:47:00', major_offense_type='Burglary', address='900-998 block of NW KEARNEY ST, PORTLAND, OR 97209', neighborhood='PEARL', police_precinct='PORTLAND PREC CE', police_district='821', x_coordinate='', y_coordinate=''),\n",
       " Crime(record_id='14276127', report_date='12/29/2013', report_time='08:19:00', major_offense_type='Burglary', address='1301-1399 block of NW IRVING ST, PORTLAND, OR 97209', neighborhood='PEARL', police_precinct='PORTLAND PREC CE', police_district='821', x_coordinate='7642377.82907', y_coordinate='686130.62106000003'),\n",
       " Crime(record_id='14178691', report_date='07/23/2013', report_time='07:35:00', major_offense_type='Burglary', address='1401-1459 block of NW SAVIER ST, PORTLAND, OR 97209', neighborhood='PEARL', police_precinct='PORTLAND PREC CE', police_district='810', x_coordinate='7642122.4439000003', y_coordinate='688731.38812000002'),\n",
       " Crime(record_id='14229286', report_date='10/11/2013', report_time='20:10:00', major_offense_type='Burglary', address='301-399 block of NW 12TH AVE, PORTLAND, OR 97209', neighborhood='PEARL', police_precinct='PORTLAND PREC CE', police_district='821', x_coordinate='7642636.79495', y_coordinate='685090.36580999999'),\n",
       " Crime(record_id='14076383', report_date='01/04/2013', report_time='13:00:00', major_offense_type='Burglary', address='301-399 block of NW 13TH AVE, PORTLAND, OR 97209', neighborhood='PEARL', police_precinct='PORTLAND PREC CE', police_district='821', x_coordinate='7642376.7939600004', y_coordinate='685090.62369000004'),\n",
       " Crime(record_id='14184828', report_date='08/03/2013', report_time='15:00:00', major_offense_type='Burglary', address='501-599 block of NW 13TH AVE, PORTLAND, OR 97209', neighborhood='PEARL', police_precinct='PORTLAND PREC CE', police_district='821', x_coordinate='7642377.3133199997', y_coordinate='685610.62269999995'),\n",
       " Crime(record_id='14277566', report_date='12/30/2013', report_time='04:16:00', major_offense_type='Burglary', address='600-698 block of NW 12TH AVE, PORTLAND, OR 97209', neighborhood='PEARL', police_precinct='PORTLAND PREC CE', police_district='821', x_coordinate='7642637.5698800003', y_coordinate='685870.36318999995'),\n",
       " Crime(record_id='14113519', report_date='04/15/2013', report_time='09:35:00', major_offense_type='Burglary', address='901-999 block of NW OVERTON ST, PORTLAND, OR 97209', neighborhood='PEARL', police_precinct='PORTLAND PREC CE', police_district='821', x_coordinate='7643433.2329399996', y_coordinate='687687.51083000004'),\n",
       " Crime(record_id='14070803', report_date='01/31/2013', report_time='11:22:00', major_offense_type='Burglary', address='301-399 block of NW 13TH AVE, PORTLAND, OR 97209', neighborhood='PEARL', police_precinct='PORTLAND PREC CE', police_district='821', x_coordinate='7642376.7939600004', y_coordinate='685090.62369000004'),\n",
       " Crime(record_id='14278283', report_date='12/31/2013', report_time='07:40:00', major_offense_type='Burglary', address='1301-1399 block of NW OVERTON ST, PORTLAND, OR 97209', neighborhood='PEARL', police_precinct='PORTLAND PREC CE', police_district='821', x_coordinate='7642379.3792700004', y_coordinate='687690.61679999996'),\n",
       " Crime(record_id='14134123', report_date='05/14/2013', report_time='19:33:00', major_offense_type='Burglary', address='301-399 block of NW 9TH AVE, PORTLAND, OR 97209', neighborhood='PEARL', police_precinct='PORTLAND PREC CE', police_district='821', x_coordinate='7643416.7975700004', y_coordinate='685089.59415999998'),\n",
       " Crime(record_id='14182806', report_date='07/29/2013', report_time='10:40:00', major_offense_type='Burglary', address='100-198 block of NW 11TH AVE, PORTLAND, OR 97209', neighborhood='PEARL', police_precinct='PORTLAND PREC CE', police_district='821', x_coordinate='7642898.0636499999', y_coordinate='684568.34251999995'),\n",
       " Crime(record_id='14232236', report_date='10/16/2013', report_time='12:55:00', major_offense_type='Burglary', address='200-298 block of NW 11TH AVE, PORTLAND, OR 97209', neighborhood='PEARL', police_precinct='PORTLAND PREC CE', police_district='821', x_coordinate='7642896.53773', y_coordinate='684830.11023999995'),\n",
       " Crime(record_id='14243227', report_date='10/27/2013', report_time='07:54:00', major_offense_type='Burglary', address='200-298 block of NW 11TH AVE, PORTLAND, OR 97209', neighborhood='PEARL', police_precinct='PORTLAND PREC CE', police_district='821', x_coordinate='7642896.53773', y_coordinate='684830.11023999995'),\n",
       " Crime(record_id='14272802', report_date='12/23/2013', report_time='17:56:00', major_offense_type='Burglary', address='301-399 block of NW 12TH AVE, PORTLAND, OR 97209', neighborhood='PEARL', police_precinct='PORTLAND PREC CE', police_district='821', x_coordinate='7642636.79495', y_coordinate='685090.36580999999'),\n",
       " Crime(record_id='14138044', report_date='05/13/2013', report_time='10:41:00', major_offense_type='Burglary', address='1101-1199 block of NW 12TH AVE, PORTLAND, OR 97209', neighborhood='PEARL', police_precinct='PORTLAND PREC CE', police_district='821', x_coordinate='7642638.8631899999', y_coordinate='687170.36023999995'),\n",
       " Crime(record_id='14076382', report_date='01/04/2013', report_time='13:00:00', major_offense_type='Burglary', address='301-399 block of NW 13TH AVE, PORTLAND, OR 97209', neighborhood='PEARL', police_precinct='PORTLAND PREC CE', police_district='821', x_coordinate='7642376.7939600004', y_coordinate='685090.62369000004'),\n",
       " Crime(record_id='14082855', report_date='02/15/2013', report_time='00:20:00', major_offense_type='Burglary', address='400-498 block of NW 14TH AVE, PORTLAND, OR 97209', neighborhood='PEARL', police_precinct='PORTLAND PREC CE', police_district='821', x_coordinate='7642117.0531500001', y_coordinate='685350.87991999998'),\n",
       " Crime(record_id='14146815', report_date='06/05/2013', report_time='05:04:00', major_offense_type='Burglary', address='1401-1499 block of NW FLANDERS ST, PORTLAND, OR 97209', neighborhood='PEARL', police_precinct='PORTLAND PREC CE', police_district='810', x_coordinate='7642117.0531500001', y_coordinate='685350.87991999998'),\n",
       " Crime(record_id='14227953', report_date='10/09/2013', report_time='08:00:00', major_offense_type='Burglary', address='1401-1499 block of NW FLANDERS ST, PORTLAND, OR 97209', neighborhood='PEARL', police_precinct='PORTLAND PREC CE', police_district='810', x_coordinate='7642117.0531500001', y_coordinate='685350.87991999998'),\n",
       " Crime(record_id='14263200', report_date='12/09/2013', report_time='05:00:00', major_offense_type='Burglary', address='1401-1499 block of NW FLANDERS ST, PORTLAND, OR 97209', neighborhood='PEARL', police_precinct='PORTLAND PREC CE', police_district='810', x_coordinate='7642117.0531500001', y_coordinate='685350.87991999998'),\n",
       " Crime(record_id='14222857', report_date='08/24/2013', report_time='21:23:00', major_offense_type='Burglary', address='1300-1398 block of NW HOYT ST, PORTLAND, OR 97209', neighborhood='PEARL', police_precinct='PORTLAND PREC CE', police_district='821', x_coordinate='7642377.5698800003', y_coordinate='685870.62172000005'),\n",
       " Crime(record_id='14071224', report_date='01/29/2013', report_time='22:48:00', major_offense_type='Burglary', address='1300-1398 block of NW HOYT ST, PORTLAND, OR 97209', neighborhood='PEARL', police_precinct='PORTLAND PREC CE', police_district='821', x_coordinate='7642377.5698800003', y_coordinate='685870.62172000005'),\n",
       " Crime(record_id='14123793', report_date='05/01/2013', report_time='10:30:00', major_offense_type='Burglary', address='1300-1398 block of NW JOHNSON ST, PORTLAND, OR 97209', neighborhood='PEARL', police_precinct='PORTLAND PREC CE', police_district='821', x_coordinate='7642378.0869399998', y_coordinate='686390.62008000002'),\n",
       " Crime(record_id='14224961', report_date='10/05/2013', report_time='18:26:00', major_offense_type='Burglary', address='1300-1398 block of NW LOVEJOY ST, PORTLAND, OR 97209', neighborhood='PEARL', police_precinct='PORTLAND PREC CE', police_district='821', x_coordinate='7642378.5570900002', y_coordinate='686912.79790000001'),\n",
       " Crime(record_id='14239390', report_date='10/27/2013', report_time='06:25:00', major_offense_type='Burglary', address='1101-1199 block of NW NORTHRUP ST, PORTLAND, OR 97209', neighborhood='PEARL', police_precinct='PORTLAND PREC CE', police_district='821', x_coordinate='7642896.9790000003', y_coordinate='687428.03937000001'),\n",
       " Crime(record_id='14058570', report_date='01/04/2013', report_time='18:01:00', major_offense_type='Burglary', address='1201-1299 block of NW 11TH AVE, PORTLAND, OR 97209', neighborhood='PEARL', police_precinct='PORTLAND PREC CE', police_district='821', x_coordinate='7642896.9790000003', y_coordinate='687428.03937000001'),\n",
       " Crime(record_id='14105877', report_date='03/27/2013', report_time='11:07:00', major_offense_type='Burglary', address='901-999 block of NW 11TH AVE, PORTLAND, OR 97209', neighborhood='PEARL', police_precinct='PORTLAND PREC CE', police_district='821', x_coordinate='7642897.3536700001', y_coordinate='686646.30576999998'),\n",
       " Crime(record_id='14184995', report_date='07/31/2013', report_time='19:51:00', major_offense_type='Burglary', address='900-998 block of NW KEARNEY ST, PORTLAND, OR 97209', neighborhood='PEARL', police_precinct='PORTLAND PREC CE', police_district='821', x_coordinate='', y_coordinate=''),\n",
       " Crime(record_id='14069122', report_date='01/11/2013', report_time='04:57:00', major_offense_type='Burglary', address='900-998 block of NW KEARNEY ST, PORTLAND, OR 97209', neighborhood='PEARL', police_precinct='PORTLAND PREC CE', police_district='821', x_coordinate='', y_coordinate=''),\n",
       " Crime(record_id='14174851', report_date='07/15/2013', report_time='20:05:00', major_offense_type='Burglary', address='900-998 block of NW KEARNEY ST, PORTLAND, OR 97209', neighborhood='PEARL', police_precinct='PORTLAND PREC CE', police_district='821', x_coordinate='', y_coordinate=''),\n",
       " Crime(record_id='14107263', report_date='04/01/2013', report_time='05:38:00', major_offense_type='Burglary', address='1300-1398 block of NW NORTHRUP ST, PORTLAND, OR 97209', neighborhood='PEARL', police_precinct='PORTLAND PREC CE', police_district='821', x_coordinate='7642377.7053800002', y_coordinate='687429.06200999999'),\n",
       " Crime(record_id='14277565', report_date='12/30/2013', report_time='04:05:00', major_offense_type='Burglary', address='1301-1399 block of NW HOYT ST, PORTLAND, OR 97209', neighborhood='PEARL', police_precinct='PORTLAND PREC CE', police_district='821', x_coordinate='7642377.5698800003', y_coordinate='685870.62172000005'),\n",
       " Crime(record_id='14136627', report_date='05/22/2013', report_time='13:23:00', major_offense_type='Burglary', address='1101-1199 block of NW COUCH ST, PORTLAND, OR 97209', neighborhood='PEARL', police_precinct='PORTLAND PREC CE', police_district='821', x_coordinate='7642898.0636499999', y_coordinate='684568.34251999995'),\n",
       " Crime(record_id='14174871', report_date='07/16/2013', report_time='03:52:00', major_offense_type='Burglary', address='400-498 block of NW 9TH AVE, PORTLAND, OR 97209', neighborhood='PEARL', police_precinct='PORTLAND PREC CE', police_district='821', x_coordinate='7643417.0560999997', y_coordinate='685349.59285000002'),\n",
       " Crime(record_id='14219079', report_date='09/22/2013', report_time='07:34:00', major_offense_type='Burglary', address='200-298 block of NW 11TH AVE, PORTLAND, OR 97209', neighborhood='PEARL', police_precinct='PORTLAND PREC CE', police_district='821', x_coordinate='7642896.53773', y_coordinate='684830.11023999995'),\n",
       " Crime(record_id='14076381', report_date='01/04/2013', report_time='13:00:00', major_offense_type='Burglary', address='301-399 block of NW 13TH AVE, PORTLAND, OR 97209', neighborhood='PEARL', police_precinct='PORTLAND PREC CE', police_district='821', x_coordinate='7642376.7939600004', y_coordinate='685090.62369000004'),\n",
       " Crime(record_id='14120386', report_date='04/26/2013', report_time='05:20:00', major_offense_type='Burglary', address='1401-1499 block of NW FLANDERS ST, PORTLAND, OR 97209', neighborhood='PEARL', police_precinct='PORTLAND PREC CE', police_district='810', x_coordinate='7642117.0531500001', y_coordinate='685350.87991999998'),\n",
       " Crime(record_id='14197820', report_date='08/25/2013', report_time='12:38:00', major_offense_type='Burglary', address='1100-1132 block of NW GLISAN ST, PORTLAND, OR 97209', neighborhood='PEARL', police_precinct='PORTLAND PREC CE', police_district='821', x_coordinate='7642897.3129899995', y_coordinate='685610.10696'),\n",
       " Crime(record_id='14086998', report_date='02/24/2013', report_time='09:39:00', major_offense_type='Burglary', address='500-598 block of NW 9TH AVE, PORTLAND, OR 97209', neighborhood='PEARL', police_precinct='PORTLAND PREC CE', police_district='821', x_coordinate='7643417.3142999997', y_coordinate='685609.59317999997'),\n",
       " Crime(record_id='14106270', report_date='05/27/2013', report_time='03:01:00', major_offense_type='Burglary', address='1301-1399 block of W BURNSIDE ST, PORTLAND, OR 97209', neighborhood='PEARL', police_precinct='PORTLAND PREC CE', police_district='821', x_coordinate='7642381.7139100004', y_coordinate='684316.75558'),\n",
       " Crime(record_id='14137316', report_date='05/24/2013', report_time='18:15:00', major_offense_type='Burglary', address='401-499 block of NW 11TH AVE, PORTLAND, OR 97209', neighborhood='PEARL', police_precinct='PORTLAND PREC CE', police_district='821', x_coordinate='7642897.0551199997', y_coordinate='685350.10794000002'),\n",
       " Crime(record_id='14265749', report_date='12/12/2013', report_time='20:11:00', major_offense_type='Burglary', address='1200-1298 block of NW COUCH ST, PORTLAND, OR 97209', neighborhood='PEARL', police_precinct='PORTLAND PREC CE', police_district='821', x_coordinate='7642635.4196199998', y_coordinate='684570.13681000005'),\n",
       " Crime(record_id='14260844', report_date='12/04/2013', report_time='10:00:00', major_offense_type='Burglary', address='1301-1399 block of NW IRVING ST, PORTLAND, OR 97209', neighborhood='PEARL', police_precinct='PORTLAND PREC CE', police_district='821', x_coordinate='7642377.82907', y_coordinate='686130.62106000003'),\n",
       " Crime(record_id='14177990', report_date='07/21/2013', report_time='18:47:00', major_offense_type='Burglary', address='900-998 block of NW KEARNEY ST, PORTLAND, OR 97209', neighborhood='PEARL', police_precinct='PORTLAND PREC CE', police_district='821', x_coordinate='', y_coordinate=''),\n",
       " Crime(record_id='14276127', report_date='12/29/2013', report_time='08:19:00', major_offense_type='Burglary', address='1301-1399 block of NW IRVING ST, PORTLAND, OR 97209', neighborhood='PEARL', police_precinct='PORTLAND PREC CE', police_district='821', x_coordinate='7642377.82907', y_coordinate='686130.62106000003'),\n",
       " Crime(record_id='14178691', report_date='07/23/2013', report_time='07:35:00', major_offense_type='Burglary', address='1401-1459 block of NW SAVIER ST, PORTLAND, OR 97209', neighborhood='PEARL', police_precinct='PORTLAND PREC CE', police_district='810', x_coordinate='7642122.4439000003', y_coordinate='688731.38812000002'),\n",
       " Crime(record_id='14229286', report_date='10/11/2013', report_time='20:10:00', major_offense_type='Burglary', address='301-399 block of NW 12TH AVE, PORTLAND, OR 97209', neighborhood='PEARL', police_precinct='PORTLAND PREC CE', police_district='821', x_coordinate='7642636.79495', y_coordinate='685090.36580999999'),\n",
       " Crime(record_id='14076383', report_date='01/04/2013', report_time='13:00:00', major_offense_type='Burglary', address='301-399 block of NW 13TH AVE, PORTLAND, OR 97209', neighborhood='PEARL', police_precinct='PORTLAND PREC CE', police_district='821', x_coordinate='7642376.7939600004', y_coordinate='685090.62369000004'),\n",
       " Crime(record_id='14184828', report_date='08/03/2013', report_time='15:00:00', major_offense_type='Burglary', address='501-599 block of NW 13TH AVE, PORTLAND, OR 97209', neighborhood='PEARL', police_precinct='PORTLAND PREC CE', police_district='821', x_coordinate='7642377.3133199997', y_coordinate='685610.62269999995'),\n",
       " Crime(record_id='14277566', report_date='12/30/2013', report_time='04:16:00', major_offense_type='Burglary', address='600-698 block of NW 12TH AVE, PORTLAND, OR 97209', neighborhood='PEARL', police_precinct='PORTLAND PREC CE', police_district='821', x_coordinate='7642637.5698800003', y_coordinate='685870.36318999995'),\n",
       " Crime(record_id='14113519', report_date='04/15/2013', report_time='09:35:00', major_offense_type='Burglary', address='901-999 block of NW OVERTON ST, PORTLAND, OR 97209', neighborhood='PEARL', police_precinct='PORTLAND PREC CE', police_district='821', x_coordinate='7643433.2329399996', y_coordinate='687687.51083000004'),\n",
       " Crime(record_id='14070803', report_date='01/31/2013', report_time='11:22:00', major_offense_type='Burglary', address='301-399 block of NW 13TH AVE, PORTLAND, OR 97209', neighborhood='PEARL', police_precinct='PORTLAND PREC CE', police_district='821', x_coordinate='7642376.7939600004', y_coordinate='685090.62369000004'),\n",
       " Crime(record_id='14278283', report_date='12/31/2013', report_time='07:40:00', major_offense_type='Burglary', address='1301-1399 block of NW OVERTON ST, PORTLAND, OR 97209', neighborhood='PEARL', police_precinct='PORTLAND PREC CE', police_district='821', x_coordinate='7642379.3792700004', y_coordinate='687690.61679999996')]"
      ]
     },
     "execution_count": 189,
     "metadata": {},
     "output_type": "execute_result"
    }
   ],
   "source": [
    "crimes_by_fields(crimes, neighborhood='pearl', major_offense_type='burglary')"
   ]
  },
  {
   "cell_type": "code",
   "execution_count": 170,
   "metadata": {},
   "outputs": [],
   "source": [
    "from datetime import datetime\n",
    "\n",
    "def get_crime_time(crime):\n",
    "    date_format = f'{crime.report_date} {crime.report_time}'\n",
    "    try:\n",
    "        return datetime.strptime(f'{crime.report_date} {crime.report_time}', '%m/%d/%Y %X')\n",
    "    except ValueError:\n",
    "        return datetime.now()\n",
    "        \n",
    "    "
   ]
  },
  {
   "cell_type": "code",
   "execution_count": 175,
   "metadata": {},
   "outputs": [
    {
     "data": {
      "text/plain": [
       "datetime.datetime(2017, 6, 21, 1, 26, 27, 81503)"
      ]
     },
     "execution_count": 175,
     "metadata": {},
     "output_type": "execute_result"
    }
   ],
   "source": [
    "get_crime_time(crimes[0])"
   ]
  },
  {
   "cell_type": "code",
   "execution_count": null,
   "metadata": {},
   "outputs": [],
   "source": [
    "from pprint import pprint\n",
    "\n",
    "pprint(list(sorted(crimes[1:], key=lambda c: get_crime_time(c)))[10:])"
   ]
  },
  {
   "cell_type": "code",
   "execution_count": null,
   "metadata": {
    "collapsed": true
   },
   "outputs": [],
   "source": []
  }
 ],
 "metadata": {
  "kernelspec": {
   "display_name": "Python 3",
   "language": "python",
   "name": "python3"
  },
  "language_info": {
   "codemirror_mode": {
    "name": "ipython",
    "version": 3
   },
   "file_extension": ".py",
   "mimetype": "text/x-python",
   "name": "python",
   "nbconvert_exporter": "python",
   "pygments_lexer": "ipython3",
   "version": "3.6.1"
  }
 },
 "nbformat": 4,
 "nbformat_minor": 2
}
