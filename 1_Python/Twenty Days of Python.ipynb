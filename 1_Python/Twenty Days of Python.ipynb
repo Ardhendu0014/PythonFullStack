{
 "cells": [
  {
   "cell_type": "markdown",
   "metadata": {},
   "source": [
    "# Section One: Python"
   ]
  },
  {
   "cell_type": "markdown",
   "metadata": {},
   "source": [
    "## Table of Contents\n",
    "\n",
    "### Week 1\t- Into to Python\n",
    "1. Introduction & Python Basics\n",
    "2. Python Absolute Fundamentals\n",
    "3. String Operations\n",
    "4. Function Usage and Definition\n",
    "5. Lists and Iteration\n",
    "\t\n",
    "### Week 2\t-  Python Essentials\n",
    "6. Pythonic Design Patterns\n",
    "7. Intermediate Sequence Operations\n",
    "8. Data Structures\n",
    "9. Python Modules and Libraries\n",
    "10. Basic Data Analysis\n",
    "\t\n",
    "### Week 3\t-  Python Power\n",
    "11. The Standard Library\n",
    "12. Interacting with APIs\n",
    "13. Iterators and Generators\n",
    "14. Decorators\n",
    "15. Testing\n",
    "\n",
    "\t\n",
    "### Week 4\t-  Python Objects\n",
    "16. Pythonic Classes and Objects\n",
    "17. Object and Interface Design\n",
    "18. Object Oriented Programming\n",
    "19. \n",
    "20. Advanced Python Concepts\n"
   ]
  },
  {
   "cell_type": "markdown",
   "metadata": {},
   "source": [
    "### Week 1\t- Into to Python\n",
    "1. Introduction & Python Basics\n",
    "2. Python Absolute Fundamentals\n",
    "3. String Operations\n",
    "4. Function Usage and Definition\n",
    "5. Lists and Iteration\n",
    "\n",
    "#### Labs\n",
    "- Shell Games\n",
    "- Hello, World\n",
    "- Python Calculator\n",
    "- Name Banner\n",
    "- Wall Painting\n",
    "- Change Return\n",
    "- Case\n",
    "- Hammer\n",
    "- Distance Converter\n",
    "- Extract Header\n",
    "- I Before E\n",
    "- Palindrome Detector\n",
    "- Join\n",
    "- Strings\n",
    "- Credit"
   ]
  },
  {
   "cell_type": "markdown",
   "metadata": {},
   "source": [
    "### Week 2\t-  Python Essentials\n",
    "6. Pythonic Design Patterns\n",
    "7. Sequence Operations\n",
    "8. Data Structures\n",
    "9. Python Libraries\n",
    "10. Basic Data Analysis\n",
    "\n",
    "#### Labs\n",
    "- Letter Locate\n",
    "- Functions 2\n",
    "- Higher Order\n",
    "- Together\n",
    "- Dice\n",
    "- Taxes\n",
    "- Voting Booth\n",
    "- Text Crawler\n",
    "- ROT13\n",
    "- Scrub\n",
    "- List Intro\n",
    "- Arb Args\n",
    "- List Practice\n",
    "- List Patterns\n",
    "- Nest\n",
    "- Peaks and Valleys\n",
    "- Sum Pairs\n",
    "- Quantify Words\n",
    "- Mimick\n",
    "- Rain Data\n",
    "- ARI"
   ]
  },
  {
   "cell_type": "markdown",
   "metadata": {},
   "source": [
    "### Week 3\t-  Python Power\n",
    "11. The Standard Library\n",
    "12. Interacting with APIs\n",
    "13. Iterators and Generators\n",
    "14. Decorators\n",
    "15. Testing\n",
    "\n",
    "#### Labs\n",
    "- Data Finder\n",
    "- Fun with Networks\n",
    "- Crime Data\n",
    "- List Comp\n",
    "- Phonebook\n",
    "- Shrink\n",
    "- Powerball\n",
    "- Fibo"
   ]
  },
  {
   "cell_type": "markdown",
   "metadata": {},
   "source": [
    "\t\n",
    "### Week 4\t-  Python Objects and Testing\n",
    "16. Pythonic Classes and Objects\n",
    "17. Object and Interface Design\n",
    "18. Object Oriented Programming\n",
    "19. Test Driven Development\n",
    "20. Advanced Python Concepts\n",
    "\n",
    "#### Labs\n",
    "- Cars\n",
    "- Animals\n",
    "- ATM Simulator\n",
    "- Geometery\n",
    "- Book Stats\n",
    "- BlackJack\n",
    "- Family\n",
    "- Valet\n",
    "- Vectors"
   ]
  },
  {
   "cell_type": "code",
   "execution_count": null,
   "metadata": {
    "collapsed": true
   },
   "outputs": [],
   "source": []
  }
 ],
 "metadata": {
  "anaconda-cloud": {},
  "kernelspec": {
   "display_name": "Python [conda root]",
   "language": "python",
   "name": "conda-root-py"
  },
  "language_info": {
   "codemirror_mode": {
    "name": "ipython",
    "version": 3
   },
   "file_extension": ".py",
   "mimetype": "text/x-python",
   "name": "python",
   "nbconvert_exporter": "python",
   "pygments_lexer": "ipython3",
   "version": "3.5.2"
  },
  "widgets": {
   "state": {},
   "version": "1.1.2"
  }
 },
 "nbformat": 4,
 "nbformat_minor": 0
}
