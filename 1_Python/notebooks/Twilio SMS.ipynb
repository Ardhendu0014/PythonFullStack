{
 "cells": [
  {
   "cell_type": "markdown",
   "metadata": {},
   "source": [
    "# Twilio: Send SMS"
   ]
  },
  {
   "cell_type": "code",
   "execution_count": 12,
   "metadata": {
    "collapsed": true
   },
   "outputs": [],
   "source": [
    "from twilio.rest import TwilioRestClient\n",
    "import requests\n",
    "\n"
   ]
  },
  {
   "cell_type": "markdown",
   "metadata": {},
   "source": [
    "Using the Twilio Python Module, we will:\n",
    "- Authenticate\n",
    "- Send SMS\n",
    "\n",
    "[Twilio Python Docs](https://www.twilio.com/docs/libraries/python)"
   ]
  },
  {
   "cell_type": "code",
   "execution_count": 13,
   "metadata": {
    "collapsed": true
   },
   "outputs": [],
   "source": [
    "\"\"\"Get Private Keys From Instructor\"\"\"\n",
    "\n",
    "account_sid = \"AC86189c370a1fcca6c3dd11c2fa15ee04\"\n",
    "auth_token = \"1769e4656916ec050cdbe4e58d17e6c1\""
   ]
  },
  {
   "cell_type": "code",
   "execution_count": 14,
   "metadata": {
    "collapsed": true
   },
   "outputs": [],
   "source": [
    "#  Initialize the Twilio client with our security credentials.\n",
    "client = TwilioRestClient(account_sid, auth_token)"
   ]
  },
  {
   "cell_type": "code",
   "execution_count": 15,
   "metadata": {
    "collapsed": true
   },
   "outputs": [],
   "source": [
    "#  The Message we want to send in the SMS body.\n",
    "body = \"Hello!!!\" \n",
    "destination = '8456331959'"
   ]
  },
  {
   "cell_type": "code",
   "execution_count": 16,
   "metadata": {
    "collapsed": false
   },
   "outputs": [
    {
     "name": "stdout",
     "output_type": "stream",
     "text": [
      "Sent to 8456331959\n"
     ]
    }
   ],
   "source": [
    "#  Finally, send the message.\n",
    "message = client.messages.create(to='+1' + destination, #  Outgoing\n",
    "                                 from_=\"+14243512633\",  #  Twilio Num\n",
    "                                 body=body)             #  SMS Body\n",
    "\n",
    "print(\"Sent to {}\".format(destination))                 #  Success"
   ]
  },
  {
   "cell_type": "markdown",
   "metadata": {},
   "source": [
    "Now let's make this more functional..."
   ]
  },
  {
   "cell_type": "code",
   "execution_count": 18,
   "metadata": {
    "collapsed": true
   },
   "outputs": [],
   "source": [
    "def send_blast(numbers, payload):\n",
    "    \"\"\"\n",
    "    Accepts a list of US phone number strings, \n",
    "    sending each of them a blast text message.\n",
    "    \"\"\"\n",
    "    for destination in numbers:\n",
    "        message = client.messages.create(to='+1' + destination, #  Outgoing\n",
    "                                         from_=\"+14243512633\",  #  Twilio Num\n",
    "                                         body=payload)          #  SMS Body\n",
    "\n",
    "        print(\"Sent to {}\".format(destination))                 #  Success\n",
    "        "
   ]
  },
  {
   "cell_type": "code",
   "execution_count": 19,
   "metadata": {
    "collapsed": false
   },
   "outputs": [
    {
     "name": "stdout",
     "output_type": "stream",
     "text": [
      "Sent to 8456331959\n"
     ]
    }
   ],
   "source": [
    "send_blast(['8456331959'], 'testllamas')"
   ]
  },
  {
   "cell_type": "code",
   "execution_count": null,
   "metadata": {
    "collapsed": true
   },
   "outputs": [],
   "source": []
  },
  {
   "cell_type": "code",
   "execution_count": null,
   "metadata": {
    "collapsed": true
   },
   "outputs": [],
   "source": []
  },
  {
   "cell_type": "code",
   "execution_count": null,
   "metadata": {
    "collapsed": true
   },
   "outputs": [],
   "source": []
  },
  {
   "cell_type": "code",
   "execution_count": null,
   "metadata": {
    "collapsed": true
   },
   "outputs": [],
   "source": []
  }
 ],
 "metadata": {
  "anaconda-cloud": {},
  "kernelspec": {
   "display_name": "Python [conda root]",
   "language": "python",
   "name": "conda-root-py"
  },
  "language_info": {
   "codemirror_mode": {
    "name": "ipython",
    "version": 3
   },
   "file_extension": ".py",
   "mimetype": "text/x-python",
   "name": "python",
   "nbconvert_exporter": "python",
   "pygments_lexer": "ipython3",
   "version": "3.5.2"
  },
  "widgets": {
   "state": {},
   "version": "1.1.2"
  }
 },
 "nbformat": 4,
 "nbformat_minor": 0
}
