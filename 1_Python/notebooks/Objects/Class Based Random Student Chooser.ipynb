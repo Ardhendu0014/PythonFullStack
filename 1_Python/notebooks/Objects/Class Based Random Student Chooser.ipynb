{
 "cells": [
  {
   "cell_type": "code",
   "execution_count": 1,
   "metadata": {
    "collapsed": false
   },
   "outputs": [],
   "source": [
    "import random\n",
    "import time\n",
    "\n",
    "\n",
    "class RandomStudentChooser:\n",
    "    QUIT = ('q', 'quit', 'exit')\n",
    "    \n",
    "    \n",
    "    def __init__(self, students=None, shuf_num=100):\n",
    "        if students is None:\n",
    "            students = list()\n",
    "            self.collect_info()\n",
    "        \n",
    "        self.shuf_num = shuf_num\n",
    "        self.students = students\n",
    "        self.shuffle()\n",
    "        \n",
    "    def shuffle(self):\n",
    "        for _ in range(self.shuf_num):\n",
    "            random.shuffle(self)\n",
    "            \n",
    "        \n",
    "    def choose(self, everyone=False):\n",
    "            \n",
    "        print('Choosing...')\n",
    "        time.sleep(2)\n",
    "        \n",
    "        try:\n",
    "            random_num = random.randint(0, len(self))\n",
    "            choice = self.students.pop()\n",
    "            return choice \n",
    "            \n",
    "        except IndexError:\n",
    "            raise ValueError(\"No students in list.\")\n",
    "            \n",
    "        \n",
    "    def collect_info(self):\n",
    "        print('OK - Lets add some students to the list...')\n",
    "        \n",
    "        while True:\n",
    "            response = input(\"What is the students name? (or quit).\")\n",
    "            \n",
    "            if response in QUIT:\n",
    "                break\n",
    "            else:\n",
    "                self.students.append(response)\n",
    "        \n",
    "        self.display()\n",
    "        \n",
    "    def __len__(self):\n",
    "        return len(self.students)\n",
    "        \n",
    "    def __getitem__(self, i):\n",
    "        return self.students[i]\n",
    "    \n",
    "    def __setitem__(self, i, value):\n",
    "        self.students[i] = value\n",
    "        return self\n",
    "        \n",
    "    def display(self):\n",
    "        for index, student in enumerate(self):\n",
    "            print(index, student)\n",
    "            \n",
    "#     def calibrate(self):\n",
    "#         print(\"Current initial shuffle amount is {0.shuf_num}\".format(self)\n",
    "\n",
    "            "
   ]
  },
  {
   "cell_type": "code",
   "execution_count": 2,
   "metadata": {
    "collapsed": true
   },
   "outputs": [],
   "source": [
    "day_2017_winter = ['anders', 'alex', 'mark', 'jessee', 'danny']"
   ]
  },
  {
   "cell_type": "code",
   "execution_count": 3,
   "metadata": {
    "collapsed": false
   },
   "outputs": [],
   "source": [
    "chooser = RandomStudentChooser(students=day_2017_winter)"
   ]
  },
  {
   "cell_type": "code",
   "execution_count": 4,
   "metadata": {
    "collapsed": true
   },
   "outputs": [],
   "source": [
    "chooser.shuffle()"
   ]
  },
  {
   "cell_type": "code",
   "execution_count": 5,
   "metadata": {
    "collapsed": false
   },
   "outputs": [
    {
     "name": "stdout",
     "output_type": "stream",
     "text": [
      "0 mark\n",
      "1 danny\n",
      "2 alex\n",
      "3 jessee\n",
      "4 anders\n"
     ]
    }
   ],
   "source": [
    "chooser.display()"
   ]
  },
  {
   "cell_type": "code",
   "execution_count": null,
   "metadata": {
    "collapsed": false
   },
   "outputs": [],
   "source": [
    "chooser.choose()"
   ]
  },
  {
   "cell_type": "code",
   "execution_count": null,
   "metadata": {
    "collapsed": true
   },
   "outputs": [],
   "source": []
  }
 ],
 "metadata": {
  "anaconda-cloud": {},
  "kernelspec": {
   "display_name": "Python [conda root]",
   "language": "python",
   "name": "conda-root-py"
  },
  "language_info": {
   "codemirror_mode": {
    "name": "ipython",
    "version": 3
   },
   "file_extension": ".py",
   "mimetype": "text/x-python",
   "name": "python",
   "nbconvert_exporter": "python",
   "pygments_lexer": "ipython3",
   "version": "3.5.2"
  },
  "widgets": {
   "state": {},
   "version": "1.1.2"
  }
 },
 "nbformat": 4,
 "nbformat_minor": 0
}
