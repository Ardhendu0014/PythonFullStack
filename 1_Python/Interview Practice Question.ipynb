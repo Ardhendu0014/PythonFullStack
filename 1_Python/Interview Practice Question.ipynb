{
 "cells": [
  {
   "cell_type": "markdown",
   "metadata": {},
   "source": [
    "# Python - 40 Min.\n",
    "\n",
    "Reformat a number string so that there are groups of three chars, followed by a dash.  \n",
    "\n",
    "If the last group has only 1 char, reformat so that the last two groups have two chars each.\n",
    "\n",
    "Example:\n",
    "\n",
    "```py\n",
    "In: '922323454'\n",
    "Out: '922-323-454'\n",
    "\n",
    "In: '1223  - -234--543'\n",
    "Out: '122-323-45-43'\n",
    "```\n"
   ]
  },
  {
   "cell_type": "code",
   "execution_count": null,
   "metadata": {
    "collapsed": true
   },
   "outputs": [],
   "source": []
  }
 ],
 "metadata": {
  "anaconda-cloud": {},
  "kernelspec": {
   "display_name": "Python [conda root]",
   "language": "python",
   "name": "conda-root-py"
  },
  "language_info": {
   "codemirror_mode": {
    "name": "ipython",
    "version": 3
   },
   "file_extension": ".py",
   "mimetype": "text/x-python",
   "name": "python",
   "nbconvert_exporter": "python",
   "pygments_lexer": "ipython3",
   "version": "3.5.2"
  },
  "widgets": {
   "state": {},
   "version": "1.1.2"
  }
 },
 "nbformat": 4,
 "nbformat_minor": 0
}
