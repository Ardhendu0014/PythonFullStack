{
 "cells": [
  {
   "cell_type": "code",
   "execution_count": 9,
   "metadata": {
    "collapsed": false
   },
   "outputs": [
    {
     "data": {
      "text/plain": [
       "<super: __main__.LaundryMat, <__main__.LaundryMat at 0x7f6944e4c160>>"
      ]
     },
     "execution_count": 9,
     "metadata": {},
     "output_type": "execute_result"
    }
   ],
   "source": [
    "super(LaundryMat, bobs_matt24)"
   ]
  },
  {
   "cell_type": "code",
   "execution_count": 3,
   "metadata": {
    "collapsed": true
   },
   "outputs": [],
   "source": [
    "class Building(object):\n",
    "    \n",
    "    def __init__(self, height_ft, construction):\n",
    "        \"\"\"Initializer\"\"\"\n",
    "        \n",
    "        self.height_ft = height_ft\n",
    "        self.construction = construction\n",
    "        \n",
    "    "
   ]
  },
  {
   "cell_type": "code",
   "execution_count": 4,
   "metadata": {
    "collapsed": false
   },
   "outputs": [],
   "source": [
    "generic_building = Building(height_ft=35, construction='type 3')    #  Instantiation"
   ]
  },
  {
   "cell_type": "code",
   "execution_count": 5,
   "metadata": {
    "collapsed": false
   },
   "outputs": [
    {
     "data": {
      "text/plain": [
       "35"
      ]
     },
     "execution_count": 5,
     "metadata": {},
     "output_type": "execute_result"
    }
   ],
   "source": [
    "generic_building.height_ft                                          # Access by attr"
   ]
  },
  {
   "cell_type": "code",
   "execution_count": 10,
   "metadata": {
    "collapsed": false
   },
   "outputs": [],
   "source": [
    "class LaundryMat(Building):\n",
    "    \"\"\"A building where we wash clothing.\"\"\"\n",
    "    \n",
    "    def __init__(self, washers, dryers, *args, **kwargs):\n",
    "        super().__init__(*args, **kwargs)\n",
    "        self.washers = washers\n",
    "        self.dryers = dryers\n",
    "    \n",
    "    "
   ]
  },
  {
   "cell_type": "code",
   "execution_count": 8,
   "metadata": {
    "collapsed": false
   },
   "outputs": [],
   "source": [
    "bobs_matt24 = LaundryMat(washers=24, dryers=14, height_ft=33, construction='type 1')"
   ]
  },
  {
   "cell_type": "code",
   "execution_count": 26,
   "metadata": {
    "collapsed": false
   },
   "outputs": [
    {
     "data": {
      "text/plain": [
       "{'construction': 'type 1', 'dryers': 14, 'height_ft': 33, 'washers': 24}"
      ]
     },
     "execution_count": 26,
     "metadata": {},
     "output_type": "execute_result"
    }
   ],
   "source": [
    "bobs_matt24.__dict__"
   ]
  },
  {
   "cell_type": "code",
   "execution_count": 27,
   "metadata": {
    "collapsed": true
   },
   "outputs": [],
   "source": [
    "class Restaurant:\n",
    "    def __init__(self, rating, name, genre):\n",
    "        self.rating = rating\n",
    "        self.name = name\n",
    "        self.genre = genre\n",
    "        \n",
    "    def __repr__(self):\n",
    "        result = \"{0.__class__.__name__}({0.rating}, '{0.name}', '{0.genre}')\".format(self)\n",
    "        return result\n",
    "\n",
    "    def __str__(self):\n",
    "        result = \"{0.name} makes {0.genre} food.\".format(self)\n",
    "        return result\n"
   ]
  },
  {
   "cell_type": "code",
   "execution_count": 28,
   "metadata": {
    "collapsed": false
   },
   "outputs": [],
   "source": [
    "del_sol = Restaurant(5.0, 'Del Sol', 'Mexican')\n",
    "\n",
    "uhhred_lobster = Restaurant(3.2, 'UhRed Lobster', 'Italian')\n",
    "\n",
    "king_cone = Restaurant(3.2, 'King Cone', 'Kinda dirty')\n",
    "\n",
    "bolly = Restaurant(5.0, 'Bollywood Theater', 'Indian')"
   ]
  },
  {
   "cell_type": "code",
   "execution_count": 11,
   "metadata": {
    "collapsed": false
   },
   "outputs": [],
   "source": [
    "rests = [del_sol, uhhred_lobster, king_cone, bolly]"
   ]
  },
  {
   "cell_type": "code",
   "execution_count": 12,
   "metadata": {
    "collapsed": false
   },
   "outputs": [
    {
     "name": "stdout",
     "output_type": "stream",
     "text": [
      "['Mexican', 'Italian', 'Kinda dirty', 'Indian']\n"
     ]
    }
   ],
   "source": [
    "genres = [r.genre for r in rests]\n",
    "print(genres)"
   ]
  },
  {
   "cell_type": "code",
   "execution_count": 13,
   "metadata": {
    "collapsed": false
   },
   "outputs": [
    {
     "data": {
      "text/plain": [
       "'King Cone makes Kinda dirty food.'"
      ]
     },
     "execution_count": 13,
     "metadata": {},
     "output_type": "execute_result"
    }
   ],
   "source": [
    "str(king_cone)"
   ]
  },
  {
   "cell_type": "code",
   "execution_count": 14,
   "metadata": {
    "collapsed": false
   },
   "outputs": [
    {
     "data": {
      "text/plain": [
       "Restaurant(3.2, 'King Cone', 'Kinda dirty')"
      ]
     },
     "execution_count": 14,
     "metadata": {},
     "output_type": "execute_result"
    }
   ],
   "source": [
    "king_cone"
   ]
  },
  {
   "cell_type": "code",
   "execution_count": null,
   "metadata": {
    "collapsed": true
   },
   "outputs": [],
   "source": []
  },
  {
   "cell_type": "markdown",
   "metadata": {},
   "source": [
    "# Overiding Python built in methods\n",
    "\n",
    "http://www.rafekettler.com/magicmethods.html"
   ]
  },
  {
   "cell_type": "code",
   "execution_count": 15,
   "metadata": {
    "collapsed": false
   },
   "outputs": [],
   "source": [
    "class Heading:\n",
    "    \"\"\"\"\"\"\n",
    "    \n",
    "    def __init__(self, heading, duration, speed):\n",
    "        self.heading = heading\n",
    "        self.duration = duration\n",
    "        self.speed = speed\n",
    "        \n",
    "    # Readable \n",
    "    def __str__(self):\n",
    "        return \"Bearing {0.heading!s} degrees\".format(self)\n",
    "    \n",
    "    # Represents the function as calltime.  Will return an equal object when passed to eval()\n",
    "    def __repr__(self):\n",
    "        return '{0.__class__.__name__}(heading={0.heading}, duration={0.duration}, speed={0.speed})'.format(self)\n",
    "   \n",
    "     # Overides the + operator\n",
    "#     def __add__(self, other):\n",
    "#         new_heading = self.heading + other.heading\n",
    "#         if new_heading > 360:\n",
    "#             new_heading -= 360\n",
    "#         return new_heading\n",
    "    \n",
    "#     # Overides the == operator.\n",
    "#     def __eq__(self, other):\n",
    "#         if self.heading == other.heading:\n",
    "#             return True\n",
    "#         else:\n",
    "#             return False\n",
    "    "
   ]
  },
  {
   "cell_type": "code",
   "execution_count": 16,
   "metadata": {
    "collapsed": false
   },
   "outputs": [],
   "source": [
    "waypoint = Heading(292, 300, 400)"
   ]
  },
  {
   "cell_type": "code",
   "execution_count": 17,
   "metadata": {
    "collapsed": true
   },
   "outputs": [],
   "source": [
    "waypoint2 = Heading(200, 300, 300)"
   ]
  },
  {
   "cell_type": "code",
   "execution_count": 18,
   "metadata": {
    "collapsed": false
   },
   "outputs": [
    {
     "ename": "TypeError",
     "evalue": "unsupported operand type(s) for +: 'Heading' and 'Heading'",
     "output_type": "error",
     "traceback": [
      "\u001b[0;31m---------------------------------------------------------------------------\u001b[0m",
      "\u001b[0;31mTypeError\u001b[0m                                 Traceback (most recent call last)",
      "\u001b[0;32m<ipython-input-18-9e7930cba7e6>\u001b[0m in \u001b[0;36m<module>\u001b[0;34m()\u001b[0m\n\u001b[0;32m----> 1\u001b[0;31m \u001b[0mwaypoint\u001b[0m \u001b[0;34m+\u001b[0m \u001b[0mwaypoint2\u001b[0m\u001b[0;34m\u001b[0m\u001b[0m\n\u001b[0m",
      "\u001b[0;31mTypeError\u001b[0m: unsupported operand type(s) for +: 'Heading' and 'Heading'"
     ]
    }
   ],
   "source": [
    "waypoint + waypoint2"
   ]
  },
  {
   "cell_type": "code",
   "execution_count": 19,
   "metadata": {
    "collapsed": false
   },
   "outputs": [
    {
     "data": {
      "text/plain": [
       "True"
      ]
     },
     "execution_count": 19,
     "metadata": {},
     "output_type": "execute_result"
    }
   ],
   "source": [
    "waypoint == waypoint"
   ]
  },
  {
   "cell_type": "code",
   "execution_count": 20,
   "metadata": {
    "collapsed": false
   },
   "outputs": [
    {
     "data": {
      "text/plain": [
       "False"
      ]
     },
     "execution_count": 20,
     "metadata": {},
     "output_type": "execute_result"
    }
   ],
   "source": [
    "waypoint == waypoint2"
   ]
  },
  {
   "cell_type": "code",
   "execution_count": 21,
   "metadata": {
    "collapsed": true
   },
   "outputs": [],
   "source": [
    "from datetime import datetime\n",
    "\n",
    "\n",
    "x = datetime.now()"
   ]
  },
  {
   "cell_type": "code",
   "execution_count": 22,
   "metadata": {
    "collapsed": false
   },
   "outputs": [
    {
     "data": {
      "text/plain": [
       "datetime.datetime(2017, 2, 7, 20, 31, 26, 136453)"
      ]
     },
     "execution_count": 22,
     "metadata": {},
     "output_type": "execute_result"
    }
   ],
   "source": [
    "# __repr__\n",
    "x"
   ]
  },
  {
   "cell_type": "code",
   "execution_count": 23,
   "metadata": {
    "collapsed": false
   },
   "outputs": [
    {
     "data": {
      "text/plain": [
       "'2017-02-07 20:31:26.136453'"
      ]
     },
     "execution_count": 23,
     "metadata": {},
     "output_type": "execute_result"
    }
   ],
   "source": [
    "# __str__\n",
    "str(x)"
   ]
  }
 ],
 "metadata": {
  "anaconda-cloud": {},
  "kernelspec": {
   "display_name": "Python [conda root]",
   "language": "python",
   "name": "conda-root-py"
  },
  "language_info": {
   "codemirror_mode": {
    "name": "ipython",
    "version": 3
   },
   "file_extension": ".py",
   "mimetype": "text/x-python",
   "name": "python",
   "nbconvert_exporter": "python",
   "pygments_lexer": "ipython3",
   "version": "3.5.2"
  },
  "widgets": {
   "state": {},
   "version": "1.1.2"
  }
 },
 "nbformat": 4,
 "nbformat_minor": 0
}
