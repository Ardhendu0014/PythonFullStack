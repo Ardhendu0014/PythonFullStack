{
 "cells": [
  {
   "cell_type": "code",
   "execution_count": null,
   "metadata": {
    "collapsed": true
   },
   "outputs": [],
   "source": [
    "class Sphere:\n",
    "    \"\"\"A geometric sphere object\"\"\"\n",
    "    \n",
    "    def __init__(self, radius):\n",
    "        self.center = center = 0, 0\n",
    "        self.radius = radius\n",
    "        \n",
    "    def enclosed(self):\n",
    "        \"\"\"Returns the enclosed volume of the sphere.\"\"\"\n",
    "        \n",
    "    def surface_area(self):\n",
    "        \"\"\"Returns the surface area of the sphere.\"\"\""
   ]
  }
 ],
 "metadata": {
  "anaconda-cloud": {},
  "kernelspec": {
   "display_name": "Python [conda root]",
   "language": "python",
   "name": "conda-root-py"
  },
  "language_info": {
   "codemirror_mode": {
    "name": "ipython",
    "version": 3
   },
   "file_extension": ".py",
   "mimetype": "text/x-python",
   "name": "python",
   "nbconvert_exporter": "python",
   "pygments_lexer": "ipython3",
   "version": "3.5.2"
  },
  "widgets": {
   "state": {},
   "version": "1.1.2"
  }
 },
 "nbformat": 4,
 "nbformat_minor": 0
}
