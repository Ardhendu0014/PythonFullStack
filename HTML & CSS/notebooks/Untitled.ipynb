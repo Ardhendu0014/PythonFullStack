{
 "cells": [
  {
   "cell_type": "markdown",
   "metadata": {},
   "source": [
    "###### Flexbox\n",
    "\n",
    "Responsive Design Tool\n",
    "Built into CSS\n",
    "Non Column System\n",
    "Prevents marginal collapse\n",
    "display property\n",
    "can be applied to either parent or child\n",
    "\n",
    "##### color\n",
    "CSS prop. `color` text only.\n",
    "background-color\n",
    "hex / kwarg / rgb(a)\n",
    "Web Safe Colors\n",
    "\n",
    "##### Z-index\n",
    "Stack of elements on the pages 3D space\n",
    "vales are ints\n",
    "higher number = forward\n",
    "\n",
    "#####  Float\n",
    "CSS Property - \n",
    "Image text wrap\n",
    "Respinsive design\n",
    "left , right, none\n",
    "clear - right - left\n",
    "\n",
    "##### CSS Position\n",
    "Absolute - Relative - Fixed - Inheret - Static\n",
    "Absolute - absolutely!\n",
    "Relative - relative to first non static parent element \n",
    "\n",
    "##### Typography\n"
   ]
  },
  {
   "cell_type": "code",
   "execution_count": null,
   "metadata": {
    "collapsed": true
   },
   "outputs": [],
   "source": []
  }
 ],
 "metadata": {
  "anaconda-cloud": {},
  "kernelspec": {
   "display_name": "Python [Root]",
   "language": "python",
   "name": "Python [Root]"
  },
  "language_info": {
   "codemirror_mode": {
    "name": "ipython",
    "version": 3
   },
   "file_extension": ".py",
   "mimetype": "text/x-python",
   "name": "python",
   "nbconvert_exporter": "python",
   "pygments_lexer": "ipython3",
   "version": "3.5.2"
  }
 },
 "nbformat": 4,
 "nbformat_minor": 0
}
