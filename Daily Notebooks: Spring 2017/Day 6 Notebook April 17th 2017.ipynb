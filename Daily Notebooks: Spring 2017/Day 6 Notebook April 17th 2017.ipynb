{
 "cells": [
  {
   "cell_type": "markdown",
   "metadata": {},
   "source": [
    "# Lab Pool\n",
    "\n",
    "All prior works (as always!) plus...\n",
    "\n",
    "\n",
    "1. Dice\n",
    "1. Functional Refactor\n",
    "1. Greeting\n",
    "1. Pig Latin\n",
    "1. Extract Header\n",
    "1. Case Detector\n",
    "1. 21 Advice\n",
    "1. ROT13 Cipher\n",
    "---------------\n",
    "1. Phone Format\n",
    "1. Distance Converter\n",
    "1. List Intro\n",
    "1. Looping Patterns\n",
    "1. Together\n",
    "---------------\n",
    "1. List Practice\n",
    "1. List Practice 2\n",
    "---------------\n",
    "1. Credit\n",
    "1. Magic Ball\n",
    "1. Guess The Number\n",
    "1. FizzBuzz\n",
    "--------------\n",
    "1. Nest\n",
    "1. List Doubles\n",
    "1. List Comp\n",
    "1. Letter Locate\n",
    "--------------\n",
    "1. Written Numbers\n",
    "1. Fibo List\n",
    "---------------\n",
    "\n",
    "1. Peaks and Valleys\n",
    "\n",
    "---------------\n",
    "1. Arb Args\n",
    "1. Functions II\n",
    "1. Shrink\n",
    "---------------\n",
    "1. Higher Order\n",
    "1. Quantify Words\n",
    "----------------\n",
    "1. Sum Pairs\n",
    "\n",
    "\n",
    "\n"
   ]
  },
  {
   "cell_type": "markdown",
   "metadata": {},
   "source": [
    "# Topics This Week"
   ]
  },
  {
   "cell_type": "markdown",
   "metadata": {},
   "source": [
    "- Strings\n",
    "- List Type and Methods\n",
    "- For and While Looping\n",
    "- Intermediate Function Definition and Calling\n",
    "- Sequential Data Structures\n",
    "- Iteration Patterns in Python\n",
    "- Python Standard Library\n"
   ]
  },
  {
   "cell_type": "code",
   "execution_count": null,
   "metadata": {
    "collapsed": true
   },
   "outputs": [],
   "source": []
  },
  {
   "cell_type": "markdown",
   "metadata": {},
   "source": [
    "# Today\n",
    "\n",
    "- Git Pull\n",
    "- Show and Tell / Student Intro\n",
    "- Cheat Sheets!\n",
    "- Git Push and Source Control Basics.\n",
    "- Markdown Tutorial\n",
    "- Big Review!\n",
    "- Lots of Labs!\n",
    "- Writing Doctests: Good Habits\n",
    "- PyCharm Comfort (Guest Spkr: Chris?)\n",
    "- Python Idioms: DRY, DLBYL, Permission vs. Forgiveness\n",
    "- Exception Handling\n",
    "- Built-In functions and lists\n",
    "- Lunch Screening: Raymond Hettinger - Beyond PEP 8 -- Best practices for beautiful intelligible code\n",
    "- List Type Methods\n",
    "- List Operations"
   ]
  },
  {
   "cell_type": "markdown",
   "metadata": {},
   "source": [
    "# Resources\n",
    "\n",
    "- PodCast: Talk Python to Me\n",
    "- Monday Night Python"
   ]
  },
  {
   "cell_type": "code",
   "execution_count": null,
   "metadata": {
    "collapsed": true
   },
   "outputs": [],
   "source": []
  }
 ],
 "metadata": {
  "anaconda-cloud": {},
  "kernelspec": {
   "display_name": "Python [conda root]",
   "language": "python",
   "name": "conda-root-py"
  },
  "language_info": {
   "codemirror_mode": {
    "name": "ipython",
    "version": 3
   },
   "file_extension": ".py",
   "mimetype": "text/x-python",
   "name": "python",
   "nbconvert_exporter": "python",
   "pygments_lexer": "ipython3",
   "version": "3.5.2"
  },
  "widgets": {
   "state": {},
   "version": "1.1.2"
  }
 },
 "nbformat": 4,
 "nbformat_minor": 0
}
