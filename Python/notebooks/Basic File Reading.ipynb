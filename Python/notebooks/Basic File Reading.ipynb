{
 "cells": [
  {
   "cell_type": "code",
   "execution_count": 4,
   "metadata": {
    "collapsed": false
   },
   "outputs": [],
   "source": [
    "file = open('/home/k/Desktop/nasa.txt', 'r')"
   ]
  },
  {
   "cell_type": "code",
   "execution_count": 4,
   "metadata": {
    "collapsed": false
   },
   "outputs": [
    {
     "data": {
      "text/plain": [
       "<_io.TextIOWrapper name='/home/k/Desktop/nasa.txt' mode='r' encoding='UTF-8'>"
      ]
     },
     "execution_count": 4,
     "metadata": {},
     "output_type": "execute_result"
    }
   ],
   "source": [
    "file"
   ]
  },
  {
   "cell_type": "code",
   "execution_count": 5,
   "metadata": {
    "collapsed": true
   },
   "outputs": [],
   "source": [
    "file.close()"
   ]
  },
  {
   "cell_type": "code",
   "execution_count": 6,
   "metadata": {
    "collapsed": false
   },
   "outputs": [
    {
     "ename": "ValueError",
     "evalue": "I/O operation on closed file.",
     "output_type": "error",
     "traceback": [
      "\u001b[0;31m---------------------------------------------------------------------------\u001b[0m",
      "\u001b[0;31mValueError\u001b[0m                                Traceback (most recent call last)",
      "\u001b[0;32m<ipython-input-6-b95781cf6aa3>\u001b[0m in \u001b[0;36m<module>\u001b[0;34m()\u001b[0m\n\u001b[0;32m----> 1\u001b[0;31m \u001b[0mfile\u001b[0m\u001b[0;34m.\u001b[0m\u001b[0mread\u001b[0m\u001b[0;34m(\u001b[0m\u001b[0;34m)\u001b[0m\u001b[0;34m\u001b[0m\u001b[0m\n\u001b[0m",
      "\u001b[0;31mValueError\u001b[0m: I/O operation on closed file."
     ]
    }
   ],
   "source": [
    "file.read()"
   ]
  },
  {
   "cell_type": "code",
   "execution_count": 10,
   "metadata": {
    "collapsed": false
   },
   "outputs": [],
   "source": [
    "with open('/home/k/Desktop/nasa.txt', 'r') as file:\n",
    "    text = file.readline()\n",
    "    "
   ]
  },
  {
   "cell_type": "code",
   "execution_count": 12,
   "metadata": {
    "collapsed": true
   },
   "outputs": [
    {
     "name": "stdout",
     "output_type": "stream",
     "text": [
      "MIMICKING BLACK HOLE GEOMETRY IN THE LAB\n",
      "\n",
      "\n",
      "\n",
      "All three of the quantum level matter/spacetimc interaction mechanisms proposed above depend upon oppos-\n",
      "\n",
      "ingly chiral nuclear spin orientation manipulations. All three mechanisms may be tested in a spinning nuclear\n",
      "\n",
      "magnetic resonance apparatus in which a ring of working fluid is held in a magnetic field rotating with and\n",
      "\n",
      "therefore stationary to the fluid. This field quantizes the fluid and orders its nuclei into spin up or spin down\n",
      "\n",
      "states, with one state dominating depending on polarization of the magnetic field.\n",
      "\n",
      "\n",
      "\n",
      "Application of a scanning radio frequency field, properly tuned for isotopic make up of the fluid and for\n",
      "\n",
      "magnetic field strength, interacts with nuclei through photon absorption to cause quantum spin flips. When\n",
      "\n",
      "the nucleus later emits the absorbed photon, (resonance), it returns to its original spin orientation. The relative\n",
      "\n",
      "proportion of spin up to spin down populations upon initial alignment defines a thermal equilibrium state for\n",
      "\n",
      "the working fluid as a whole, (Chandrakumar and Subramanian, 1987).\n",
      "\n",
      "\n",
      "\n",
      "Since the testing program here proposed is concerned not with resonance return signals, but with demonstration\n",
      "\n",
      "of spacetime distortion caused by nuclear spin manipulations, the Z axis of the spinning ring would be aligned\n",
      "\n",
      "with the solar neutrino flux. Nuclear spin up and spin down states then present opposingiy chiral aspects to\n",
      "\n",
      "incident neutrinos to take advantage of weak force parity violation temperament. Similarly, spinning the ring\n",
      "\n",
      "cyclically reverses random off-alignment-spin nuclear aspects across the X-Y plane to give a uniform\n",
      "\n",
      "probability of interaction for the fluid overall. Any spacetime distortion produced in the local region surround-\n",
      "\n",
      "ing working fluid nuclei could be expected to induce beta\" reactions through uncertainty relation influence\n",
      "\n",
      "and blueshiftinp energies - just as in the spacetime distorted region near a black hole in space.\n",
      "\n",
      "\n",
      "\n",
      "The first goal of a laboratory experiment would be to maximize the number of quantum spin flips in order to\n",
      "\n",
      "locally overwhelm some natural equilibrium state between weak nuclear force \"charge\" and the vacuum, or to\n",
      "\n",
      "maximize the number of quantum particle inversions locally crowded into a postulated fourth spatial dimension,\n",
      "\n",
      "or to maximize the number of \"twists\" introduced in the assigned phase entanglement spacetime property of an\n",
      "\n",
      "appropriate working fluid. For all three rationales the stationary magnetic field would be as strong as possible to\n",
      "\n",
      "maximally skew aligned spin populations to a single dominant orientation, while the scanning radio frequency\n",
      "\n",
      "field would be applied at intensity to suddenly and massively invert thermal equilibrium in the fluid. Hopefully\n",
      "\n",
      "this results in sufficient distortion of local spacetime p»omc ,r y to induce neurtrino/mattcr interaction in nuclei\n",
      "\n",
      "chirally aligned with the solar flux.\n",
      "\n",
      "\n",
      "\n",
      "Success in the testing program for any one of the three quantum level rationales would thus be indicated by\n",
      "\n",
      "induced beta\" decay reactions. For all three mechanisms success then also results in enrichment of the working\n",
      "\n",
      "fluid by more phase entangled beta\" partner particles. Assuming that phase entanglement is appropriately\n",
      "\n",
      "assigned as a spacetime property, then the potential for a runaway reaction is evident for any of the three test\n",
      "\n",
      "regimens.\n",
      "\n",
      "\n",
      "\n",
      "Given induced beta' reactions in the working fluid, removal of proton rich and unstable nuclei along an axial\n",
      "\n",
      "pathway then completes the mime with black hole geometry and allows release of spacetime energy to the\n",
      "\n",
      "environment as radiant and kinetic energy. In the lab, however, this working fluid may be returned to the NMR\n",
      "\n",
      "ring to give a closed loop of catalytic vacuum energy extraction. Perhaps a central black hole with its jets and\n",
      "\n",
      "galaxy of stars and gas clouds attendant fo: .is a grand sort of gravitationally bound closed loop too.\n",
      "\n",
      "\n",
      "\n",
      "The proposed test regimen uses known technology aiid virtually off-the-shelf equipment so planning, assembly\n",
      "\n",
      "and start up should be possible on a near-term basis for at ieast two of the three matter/spacetime interaction\n",
      "\n",
      "rationales. Preparation and timing for test of a phase entanglement enriched fluid will take longer and require\n",
      "\n",
      "standard health physics safeguards in the lab. No major design challenges would seem to present except for\n",
      "\n",
      "consideration of the \"runaway\" reaction possibility. This might dictate a hydrogen atmosphere surrounding the\n",
      "\n",
      "test apparatus and/or very high threshold and very short lived reverse beta half-life structural materials for the\n",
      "\n",
      "test apparatus such as silicon and its oxide (Nuclides and Isotopes. 1989).\n",
      "\n"
     ]
    }
   ],
   "source": [
    "for line in text:\n",
    "    print(line)"
   ]
  },
  {
   "cell_type": "code",
   "execution_count": 12,
   "metadata": {
    "collapsed": true
   },
   "outputs": [],
   "source": [
    "file = open('/home/k/Desktop/nasa.txt', 'r')"
   ]
  },
  {
   "cell_type": "code",
   "execution_count": 14,
   "metadata": {
    "collapsed": false
   },
   "outputs": [
    {
     "data": {
      "text/plain": [
       "''"
      ]
     },
     "execution_count": 14,
     "metadata": {},
     "output_type": "execute_result"
    }
   ],
   "source": [
    "file.read"
   ]
  },
  {
   "cell_type": "code",
   "execution_count": 26,
   "metadata": {
    "collapsed": false
   },
   "outputs": [
    {
     "data": {
      "text/plain": [
       "False"
      ]
     },
     "execution_count": 26,
     "metadata": {},
     "output_type": "execute_result"
    }
   ],
   "source": [
    "file.writable()"
   ]
  },
  {
   "cell_type": "code",
   "execution_count": 28,
   "metadata": {
    "collapsed": false
   },
   "outputs": [
    {
     "ename": "UnsupportedOperation",
     "evalue": "not writable",
     "output_type": "error",
     "traceback": [
      "\u001b[0;31m---------------------------------------------------------------------------\u001b[0m",
      "\u001b[0;31mUnsupportedOperation\u001b[0m                      Traceback (most recent call last)",
      "\u001b[0;32m<ipython-input-28-0ff8d4d176f5>\u001b[0m in \u001b[0;36m<module>\u001b[0;34m()\u001b[0m\n\u001b[0;32m----> 1\u001b[0;31m \u001b[0mfile\u001b[0m\u001b[0;34m.\u001b[0m\u001b[0mwrite\u001b[0m\u001b[0;34m(\u001b[0m\u001b[0;34m\"Llamas\"\u001b[0m\u001b[0;34m)\u001b[0m\u001b[0;34m\u001b[0m\u001b[0m\n\u001b[0m",
      "\u001b[0;31mUnsupportedOperation\u001b[0m: not writable"
     ]
    }
   ],
   "source": [
    "file.write(\"Llamas\")"
   ]
  },
  {
   "cell_type": "code",
   "execution_count": 29,
   "metadata": {
    "collapsed": false
   },
   "outputs": [
    {
     "data": {
      "text/plain": [
       "['/home/k/.local/lib/python3.5/site-packages/ipykernel/__main__.py',\n",
       " '-f',\n",
       " '/run/user/1000/jupyter/kernel-8fd0d5fb-23af-4912-b95d-eb9d1b6c60b9.json']"
      ]
     },
     "execution_count": 29,
     "metadata": {},
     "output_type": "execute_result"
    }
   ],
   "source": [
    "import sys\n",
    "\n",
    "sys.argv"
   ]
  },
  {
   "cell_type": "code",
   "execution_count": 9,
   "metadata": {
    "collapsed": false
   },
   "outputs": [
    {
     "data": {
      "text/plain": [
       "''"
      ]
     },
     "execution_count": 9,
     "metadata": {},
     "output_type": "execute_result"
    }
   ],
   "source": [
    "file.read()"
   ]
  },
  {
   "cell_type": "code",
   "execution_count": 1,
   "metadata": {
    "collapsed": false
   },
   "outputs": [
    {
     "ename": "NameError",
     "evalue": "name 'file' is not defined",
     "output_type": "error",
     "traceback": [
      "\u001b[0;31m---------------------------------------------------------------------------\u001b[0m",
      "\u001b[0;31mNameError\u001b[0m                                 Traceback (most recent call last)",
      "\u001b[0;32m<ipython-input-1-bbe02f946d54>\u001b[0m in \u001b[0;36m<module>\u001b[0;34m()\u001b[0m\n\u001b[0;32m----> 1\u001b[0;31m \u001b[0mfile\u001b[0m\u001b[0;34m\u001b[0m\u001b[0m\n\u001b[0m",
      "\u001b[0;31mNameError\u001b[0m: name 'file' is not defined"
     ]
    }
   ],
   "source": [
    "file"
   ]
  },
  {
   "cell_type": "code",
   "execution_count": 11,
   "metadata": {
    "collapsed": true
   },
   "outputs": [],
   "source": [
    "file = open('/home/k/Desktop/gettysburg-address.txt', 'r')"
   ]
  },
  {
   "cell_type": "code",
   "execution_count": null,
   "metadata": {
    "collapsed": false
   },
   "outputs": [],
   "source": [
    "\n"
   ]
  },
  {
   "cell_type": "code",
   "execution_count": 12,
   "metadata": {
    "collapsed": false
   },
   "outputs": [
    {
     "data": {
      "text/plain": [
       "'Four score and seven years ago our fathers brought forth on this continent, a new nation, conceived in Liberty, and dedicated to the proposition that all men are created equal.\\n'"
      ]
     },
     "execution_count": 12,
     "metadata": {},
     "output_type": "execute_result"
    }
   ],
   "source": [
    "file.readline()"
   ]
  },
  {
   "cell_type": "code",
   "execution_count": 13,
   "metadata": {
    "collapsed": false
   },
   "outputs": [
    {
     "data": {
      "text/plain": [
       "100"
      ]
     },
     "execution_count": 13,
     "metadata": {},
     "output_type": "execute_result"
    }
   ],
   "source": [
    "file.seek(100)"
   ]
  },
  {
   "cell_type": "code",
   "execution_count": 23,
   "metadata": {
    "collapsed": false
   },
   "outputs": [],
   "source": [
    "x = file.readline()"
   ]
  },
  {
   "cell_type": "code",
   "execution_count": 22,
   "metadata": {
    "collapsed": false
   },
   "outputs": [
    {
     "data": {
      "text/plain": [
       "100"
      ]
     },
     "execution_count": 22,
     "metadata": {},
     "output_type": "execute_result"
    }
   ],
   "source": [
    "file.seek(100)"
   ]
  },
  {
   "cell_type": "code",
   "execution_count": 17,
   "metadata": {
    "collapsed": false
   },
   "outputs": [
    {
     "data": {
      "text/plain": [
       "'thus far so nobly advanced. It is rather for us to be here dedicated to the great task remaining before us -- that from these honored dead we take increased devotion to that cause for which they gave the last full measure of devotion -- that we here highly resolve that these dead shall not have died in vain -- that this nation, under God, shall have a new birth of freedom -- and that government of the people, by the people, for the people, shall not perish from the earth.\\n'"
      ]
     },
     "execution_count": 17,
     "metadata": {},
     "output_type": "execute_result"
    }
   ],
   "source": [
    "file.readline()"
   ]
  },
  {
   "cell_type": "code",
   "execution_count": 18,
   "metadata": {
    "collapsed": false
   },
   "outputs": [
    {
     "data": {
      "text/plain": [
       "''"
      ]
     },
     "execution_count": 18,
     "metadata": {},
     "output_type": "execute_result"
    }
   ],
   "source": [
    "file.read()"
   ]
  },
  {
   "cell_type": "code",
   "execution_count": null,
   "metadata": {
    "collapsed": true
   },
   "outputs": [],
   "source": []
  },
  {
   "cell_type": "code",
   "execution_count": 24,
   "metadata": {
    "collapsed": false
   },
   "outputs": [
    {
     "data": {
      "text/plain": [
       "'in Liberty, and dedicated to the proposition that all men are created equal.\\n'"
      ]
     },
     "execution_count": 24,
     "metadata": {},
     "output_type": "execute_result"
    }
   ],
   "source": [
    "x"
   ]
  },
  {
   "cell_type": "code",
   "execution_count": 25,
   "metadata": {
    "collapsed": false
   },
   "outputs": [
    {
     "data": {
      "text/plain": [
       "b'in Liberty, and dedicated to the proposition that all men are created equal.\\n'"
      ]
     },
     "execution_count": 25,
     "metadata": {},
     "output_type": "execute_result"
    }
   ],
   "source": [
    "x.encode('ascii')"
   ]
  },
  {
   "cell_type": "code",
   "execution_count": 29,
   "metadata": {
    "collapsed": false
   },
   "outputs": [
    {
     "data": {
      "text/plain": [
       "'{\"thing\": \"in Liberty, and dedicated to the proposition that all men are created equal.\\\\n\"}'"
      ]
     },
     "execution_count": 29,
     "metadata": {},
     "output_type": "execute_result"
    }
   ],
   "source": [
    "import json\n",
    "my_json = {'thing': x}\n",
    "json.dumps(my_json)"
   ]
  },
  {
   "cell_type": "code",
   "execution_count": null,
   "metadata": {
    "collapsed": true
   },
   "outputs": [],
   "source": []
  }
 ],
 "metadata": {
  "anaconda-cloud": {},
  "kernelspec": {
   "display_name": "Python [Root]",
   "language": "python",
   "name": "Python [Root]"
  },
  "language_info": {
   "codemirror_mode": {
    "name": "ipython",
    "version": 3
   },
   "file_extension": ".py",
   "mimetype": "text/x-python",
   "name": "python",
   "nbconvert_exporter": "python",
   "pygments_lexer": "ipython3",
   "version": "3.5.2"
  }
 },
 "nbformat": 4,
 "nbformat_minor": 0
}
