{
 "cells": [
  {
   "cell_type": "code",
   "execution_count": 9,
   "metadata": {
    "collapsed": false
   },
   "outputs": [],
   "source": [
    "import re\n",
    "\n",
    "def scrub(message):\n",
    "    '''\n",
    "    Helper function for scrubbing string data of all non-alphanumeric characters.\n",
    "    :param message:\n",
    "    :return:\n",
    "    '''\n",
    "    message = message.casefold()\n",
    "    message = re.sub('[^0-9a-zA-Z\\s]+', '', message)\n",
    "    return message\n"
   ]
  },
  {
   "cell_type": "code",
   "execution_count": 10,
   "metadata": {
    "collapsed": false
   },
   "outputs": [
    {
     "data": {
      "text/plain": [
       "'jay38  mcg4rath'"
      ]
     },
     "execution_count": 10,
     "metadata": {},
     "output_type": "execute_result"
    }
   ],
   "source": [
    "scrub('Jay&%38 --- McG^4rat(h)')"
   ]
  },
  {
   "cell_type": "code",
   "execution_count": 3,
   "metadata": {
    "collapsed": false
   },
   "outputs": [
    {
     "name": "stdout",
     "output_type": "stream",
     "text": [
      "Fteak and Rggs\n"
     ]
    },
    {
     "data": {
      "text/plain": [
       "'Fteak and Rggs'"
      ]
     },
     "execution_count": 3,
     "metadata": {},
     "output_type": "execute_result"
    }
   ],
   "source": [
    "def rot(message, rot=13, scrub=False):\n",
    "   '''\n",
    "   >>> rot('Fgrnx naq Rttf')\n",
    "   steak and eggs\n",
    "   '''\n",
    "\n",
    "   if message == '':\n",
    "       raise ValueError('Message cannot be an empty string.')\n",
    "\n",
    "   # Set up the translation dictionary for ROT cipher\n",
    "   alphabet = 'abcdefghijklmnopqrstuvwxyz'\n",
    "   digest = alphabet[rot::] + alphabet[:rot:]\n",
    "   mentaculus = str.maketrans(alphabet, digest)\n",
    "\n",
    "   if scrub == True:\n",
    "       message = scrub(message)\n",
    "\n",
    "   decrypted = message.translate(mentaculus)\n",
    "\n",
    "   print(decrypted)\n",
    "   return decrypted\n",
    "\n",
    "rot('Fgrnx naq Rttf')"
   ]
  },
  {
   "cell_type": "code",
   "execution_count": null,
   "metadata": {
    "collapsed": true
   },
   "outputs": [],
   "source": []
  },
  {
   "cell_type": "code",
   "execution_count": null,
   "metadata": {
    "collapsed": true
   },
   "outputs": [],
   "source": []
  }
 ],
 "metadata": {
  "anaconda-cloud": {},
  "kernelspec": {
   "display_name": "Python [conda root]",
   "language": "python",
   "name": "conda-root-py"
  },
  "language_info": {
   "codemirror_mode": {
    "name": "ipython",
    "version": 3
   },
   "file_extension": ".py",
   "mimetype": "text/x-python",
   "name": "python",
   "nbconvert_exporter": "python",
   "pygments_lexer": "ipython3",
   "version": "3.5.2"
  },
  "widgets": {
   "state": {},
   "version": "1.1.2"
  }
 },
 "nbformat": 4,
 "nbformat_minor": 0
}
