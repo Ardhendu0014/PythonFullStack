{
 "cells": [
  {
   "cell_type": "code",
   "execution_count": 2,
   "metadata": {
    "collapsed": false
   },
   "outputs": [
    {
     "ename": "FileNotFoundError",
     "evalue": "[Errno 2] No such file or directory: 'home/k/Git/PythonFullStack/labs/ari/gettysburg-address.txt'",
     "output_type": "error",
     "traceback": [
      "\u001b[0;31m---------------------------------------------------------------------------\u001b[0m",
      "\u001b[0;31mFileNotFoundError\u001b[0m                         Traceback (most recent call last)",
      "\u001b[0;32m<ipython-input-2-48982a7a708f>\u001b[0m in \u001b[0;36m<module>\u001b[0;34m()\u001b[0m\n\u001b[1;32m      4\u001b[0m         \u001b[0;32mreturn\u001b[0m \u001b[0msorted\u001b[0m\u001b[0;34m(\u001b[0m\u001b[0mtext\u001b[0m\u001b[0;34m.\u001b[0m\u001b[0msplit\u001b[0m\u001b[0;34m(\u001b[0m\u001b[0;34m\" \"\u001b[0m\u001b[0;34m)\u001b[0m\u001b[0;34m)\u001b[0m\u001b[0;34m\u001b[0m\u001b[0m\n\u001b[1;32m      5\u001b[0m \u001b[0;34m\u001b[0m\u001b[0m\n\u001b[0;32m----> 6\u001b[0;31m \u001b[0mtext\u001b[0m \u001b[0;34m=\u001b[0m \u001b[0mget_data\u001b[0m\u001b[0;34m(\u001b[0m\u001b[0;34m)\u001b[0m\u001b[0;34m\u001b[0m\u001b[0m\n\u001b[0m\u001b[1;32m      7\u001b[0m \u001b[0;31m#text\u001b[0m\u001b[0;34m\u001b[0m\u001b[0;34m\u001b[0m\u001b[0m\n",
      "\u001b[0;32m<ipython-input-2-48982a7a708f>\u001b[0m in \u001b[0;36mget_data\u001b[0;34m()\u001b[0m\n\u001b[1;32m      1\u001b[0m \u001b[0;32mdef\u001b[0m \u001b[0mget_data\u001b[0m\u001b[0;34m(\u001b[0m\u001b[0;34m)\u001b[0m\u001b[0;34m:\u001b[0m\u001b[0;34m\u001b[0m\u001b[0m\n\u001b[0;32m----> 2\u001b[0;31m     \u001b[0;32mwith\u001b[0m \u001b[0mopen\u001b[0m\u001b[0;34m(\u001b[0m\u001b[0;34m'home/k/Git/PythonFullStack/labs/ari/gettysburg-address.txt'\u001b[0m\u001b[0;34m,\u001b[0m \u001b[0;34m'r'\u001b[0m\u001b[0;34m)\u001b[0m \u001b[0;32mas\u001b[0m \u001b[0mf\u001b[0m\u001b[0;34m:\u001b[0m\u001b[0;34m\u001b[0m\u001b[0m\n\u001b[0m\u001b[1;32m      3\u001b[0m         \u001b[0mtext\u001b[0m \u001b[0;34m=\u001b[0m \u001b[0mf\u001b[0m\u001b[0;34m.\u001b[0m\u001b[0mread\u001b[0m\u001b[0;34m(\u001b[0m\u001b[0;34m)\u001b[0m\u001b[0;34m.\u001b[0m\u001b[0mreplace\u001b[0m\u001b[0;34m(\u001b[0m\u001b[0;34m','\u001b[0m\u001b[0;34m,\u001b[0m \u001b[0;34m''\u001b[0m\u001b[0;34m)\u001b[0m\u001b[0;34m.\u001b[0m\u001b[0mreplace\u001b[0m\u001b[0;34m(\u001b[0m\u001b[0;34m'.'\u001b[0m\u001b[0;34m,\u001b[0m \u001b[0;34m''\u001b[0m\u001b[0;34m)\u001b[0m\u001b[0;34m.\u001b[0m\u001b[0mreplace\u001b[0m\u001b[0;34m(\u001b[0m\u001b[0;34m'\\n'\u001b[0m\u001b[0;34m,\u001b[0m \u001b[0;34m''\u001b[0m\u001b[0;34m)\u001b[0m\u001b[0;34m.\u001b[0m\u001b[0mlower\u001b[0m\u001b[0;34m(\u001b[0m\u001b[0;34m)\u001b[0m\u001b[0;34m\u001b[0m\u001b[0m\n\u001b[1;32m      4\u001b[0m         \u001b[0;32mreturn\u001b[0m \u001b[0msorted\u001b[0m\u001b[0;34m(\u001b[0m\u001b[0mtext\u001b[0m\u001b[0;34m.\u001b[0m\u001b[0msplit\u001b[0m\u001b[0;34m(\u001b[0m\u001b[0;34m\" \"\u001b[0m\u001b[0;34m)\u001b[0m\u001b[0;34m)\u001b[0m\u001b[0;34m\u001b[0m\u001b[0m\n\u001b[1;32m      5\u001b[0m \u001b[0;34m\u001b[0m\u001b[0m\n",
      "\u001b[0;31mFileNotFoundError\u001b[0m: [Errno 2] No such file or directory: 'home/k/Git/PythonFullStack/labs/ari/gettysburg-address.txt'"
     ]
    }
   ],
   "source": [
    "def get_data():\n",
    "    \n",
    "    with open('home/k/Git/PythonFullStack/labs/ari/gettysburg-address.txt', 'r') as f:\n",
    "        text = f.read()\n",
    "        \n",
    "        \n",
    "        return sorted(text.split(\" \"))\n",
    "    \n",
    "text = get_data()\n",
    "#text"
   ]
  },
  {
   "cell_type": "code",
   "execution_count": 33,
   "metadata": {
    "collapsed": false
   },
   "outputs": [],
   "source": [
    "from itertools import groupby\n",
    "\n",
    "text = get_data()\n",
    "\n",
    "groups = groupby(text, key=lambda word: word)"
   ]
  },
  {
   "cell_type": "code",
   "execution_count": 34,
   "metadata": {
    "collapsed": false
   },
   "outputs": [],
   "source": [
    "gram = {k: len(list(v)) for k, v in groups}"
   ]
  },
  {
   "cell_type": "code",
   "execution_count": 35,
   "metadata": {
    "collapsed": false
   },
   "outputs": [
    {
     "data": {
      "text/plain": [
       "{'--': 7,\n",
       " 'a': 7,\n",
       " 'above': 1,\n",
       " 'add': 1,\n",
       " 'advanced': 1,\n",
       " 'ago': 1,\n",
       " 'all': 1,\n",
       " 'altogether': 1,\n",
       " 'and': 6,\n",
       " 'any': 1,\n",
       " 'are': 3,\n",
       " 'as': 1,\n",
       " 'battle-field': 1,\n",
       " 'be': 2,\n",
       " 'before': 1,\n",
       " 'birth': 1,\n",
       " 'brave': 1,\n",
       " 'brought': 1,\n",
       " 'but': 1,\n",
       " 'by': 1,\n",
       " 'can': 5,\n",
       " 'cause': 1,\n",
       " 'civil': 1,\n",
       " 'come': 1,\n",
       " 'conceived': 2,\n",
       " 'consecrate': 1,\n",
       " 'consecrated': 1,\n",
       " 'continent': 1,\n",
       " 'created': 1,\n",
       " 'dead': 3,\n",
       " 'dedicate': 2,\n",
       " 'dedicated': 4,\n",
       " 'detract': 1,\n",
       " 'devotion': 2,\n",
       " 'did': 1,\n",
       " 'died': 1,\n",
       " 'do': 1,\n",
       " 'earth': 1,\n",
       " 'endure': 1,\n",
       " 'engaged': 1,\n",
       " 'equalnow': 1,\n",
       " 'far': 2,\n",
       " 'fathers': 1,\n",
       " 'field': 1,\n",
       " 'final': 1,\n",
       " 'fitting': 1,\n",
       " 'for': 5,\n",
       " 'forget': 1,\n",
       " 'forth': 1,\n",
       " 'fought': 1,\n",
       " 'four': 1,\n",
       " 'freedom': 1,\n",
       " 'from': 2,\n",
       " 'full': 1,\n",
       " 'gave': 2,\n",
       " 'god': 1,\n",
       " 'government': 1,\n",
       " 'great': 3,\n",
       " 'ground': 1,\n",
       " 'hallow': 1,\n",
       " 'have': 5,\n",
       " 'here': 8,\n",
       " 'highly': 1,\n",
       " 'honored': 1,\n",
       " 'in': 4,\n",
       " 'increased': 1,\n",
       " 'is': 3,\n",
       " 'it': 5,\n",
       " 'larger': 1,\n",
       " 'last': 1,\n",
       " 'liberty': 1,\n",
       " 'little': 1,\n",
       " 'live': 1,\n",
       " 'lives': 1,\n",
       " 'living': 2,\n",
       " 'long': 2,\n",
       " 'measure': 1,\n",
       " 'men': 2,\n",
       " 'met': 1,\n",
       " 'might': 1,\n",
       " 'nation': 5,\n",
       " 'never': 1,\n",
       " 'new': 2,\n",
       " 'nobly': 1,\n",
       " 'nor': 1,\n",
       " 'not': 5,\n",
       " 'note': 1,\n",
       " 'of': 5,\n",
       " 'on': 2,\n",
       " 'or': 2,\n",
       " 'our': 2,\n",
       " 'people': 3,\n",
       " 'perish': 1,\n",
       " 'place': 1,\n",
       " 'poor': 1,\n",
       " 'portion': 1,\n",
       " 'power': 1,\n",
       " 'proper': 1,\n",
       " 'proposition': 1,\n",
       " 'rather': 2,\n",
       " 'remaining': 1,\n",
       " 'remember': 1,\n",
       " 'resolve': 1,\n",
       " 'resting': 1,\n",
       " 'say': 1,\n",
       " 'score': 1,\n",
       " 'sense': 1,\n",
       " 'seven': 1,\n",
       " 'shall': 3,\n",
       " 'should': 1,\n",
       " 'so': 3,\n",
       " 'struggled': 1,\n",
       " 'take': 1,\n",
       " 'task': 1,\n",
       " 'testing': 1,\n",
       " 'that': 13,\n",
       " 'the': 11,\n",
       " 'their': 1,\n",
       " 'these': 2,\n",
       " 'they': 3,\n",
       " 'this': 3,\n",
       " 'thisbut': 1,\n",
       " 'those': 1,\n",
       " 'thus': 1,\n",
       " 'to': 8,\n",
       " 'under': 1,\n",
       " 'unfinished': 1,\n",
       " 'us': 3,\n",
       " 'vain': 1,\n",
       " 'war': 2,\n",
       " 'we': 10,\n",
       " 'what': 2,\n",
       " 'whether': 1,\n",
       " 'which': 2,\n",
       " 'who': 3,\n",
       " 'will': 1,\n",
       " 'work': 1,\n",
       " 'world': 1,\n",
       " 'years': 1}"
      ]
     },
     "execution_count": 35,
     "metadata": {},
     "output_type": "execute_result"
    }
   ],
   "source": [
    "gram"
   ]
  },
  {
   "cell_type": "code",
   "execution_count": null,
   "metadata": {
    "collapsed": true
   },
   "outputs": [],
   "source": []
  }
 ],
 "metadata": {
  "anaconda-cloud": {},
  "kernelspec": {
   "display_name": "Python [conda root]",
   "language": "python",
   "name": "conda-root-py"
  },
  "language_info": {
   "codemirror_mode": {
    "name": "ipython",
    "version": 3
   },
   "file_extension": ".py",
   "mimetype": "text/x-python",
   "name": "python",
   "nbconvert_exporter": "python",
   "pygments_lexer": "ipython3",
   "version": "3.5.2"
  },
  "widgets": {
   "state": {},
   "version": "1.1.2"
  }
 },
 "nbformat": 4,
 "nbformat_minor": 0
}
