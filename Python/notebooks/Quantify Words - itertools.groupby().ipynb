{
 "cells": [
  {
   "cell_type": "code",
   "execution_count": 24,
   "metadata": {
    "collapsed": true
   },
   "outputs": [],
   "source": [
    "def get_data():\n",
    "    with open('../../labs/ari/gettysburg-address.txt', 'r') as f:\n",
    "        text = f.read().replace(',', '').replace('.', '').replace('\\n', '').lower()\n",
    "        return sorted(text.split(\" \"))\n",
    "    \n",
    "text = get_data()\n",
    "#text"
   ]
  },
  {
   "cell_type": "code",
   "execution_count": 33,
   "metadata": {
    "collapsed": false
   },
   "outputs": [],
   "source": [
    "from itertools import groupby\n",
    "\n",
    "text = get_data()\n",
    "\n",
    "groups = groupby(text, key=lambda word: word)"
   ]
  },
  {
   "cell_type": "code",
   "execution_count": 34,
   "metadata": {
    "collapsed": false
   },
   "outputs": [],
   "source": [
    "gram = {k: len(list(v)) for k, v in groups}"
   ]
  },
  {
   "cell_type": "code",
   "execution_count": 35,
   "metadata": {
    "collapsed": false
   },
   "outputs": [
    {
     "data": {
      "text/plain": [
       "{'--': 7,\n",
       " 'a': 7,\n",
       " 'above': 1,\n",
       " 'add': 1,\n",
       " 'advanced': 1,\n",
       " 'ago': 1,\n",
       " 'all': 1,\n",
       " 'altogether': 1,\n",
       " 'and': 6,\n",
       " 'any': 1,\n",
       " 'are': 3,\n",
       " 'as': 1,\n",
       " 'battle-field': 1,\n",
       " 'be': 2,\n",
       " 'before': 1,\n",
       " 'birth': 1,\n",
       " 'brave': 1,\n",
       " 'brought': 1,\n",
       " 'but': 1,\n",
       " 'by': 1,\n",
       " 'can': 5,\n",
       " 'cause': 1,\n",
       " 'civil': 1,\n",
       " 'come': 1,\n",
       " 'conceived': 2,\n",
       " 'consecrate': 1,\n",
       " 'consecrated': 1,\n",
       " 'continent': 1,\n",
       " 'created': 1,\n",
       " 'dead': 3,\n",
       " 'dedicate': 2,\n",
       " 'dedicated': 4,\n",
       " 'detract': 1,\n",
       " 'devotion': 2,\n",
       " 'did': 1,\n",
       " 'died': 1,\n",
       " 'do': 1,\n",
       " 'earth': 1,\n",
       " 'endure': 1,\n",
       " 'engaged': 1,\n",
       " 'equalnow': 1,\n",
       " 'far': 2,\n",
       " 'fathers': 1,\n",
       " 'field': 1,\n",
       " 'final': 1,\n",
       " 'fitting': 1,\n",
       " 'for': 5,\n",
       " 'forget': 1,\n",
       " 'forth': 1,\n",
       " 'fought': 1,\n",
       " 'four': 1,\n",
       " 'freedom': 1,\n",
       " 'from': 2,\n",
       " 'full': 1,\n",
       " 'gave': 2,\n",
       " 'god': 1,\n",
       " 'government': 1,\n",
       " 'great': 3,\n",
       " 'ground': 1,\n",
       " 'hallow': 1,\n",
       " 'have': 5,\n",
       " 'here': 8,\n",
       " 'highly': 1,\n",
       " 'honored': 1,\n",
       " 'in': 4,\n",
       " 'increased': 1,\n",
       " 'is': 3,\n",
       " 'it': 5,\n",
       " 'larger': 1,\n",
       " 'last': 1,\n",
       " 'liberty': 1,\n",
       " 'little': 1,\n",
       " 'live': 1,\n",
       " 'lives': 1,\n",
       " 'living': 2,\n",
       " 'long': 2,\n",
       " 'measure': 1,\n",
       " 'men': 2,\n",
       " 'met': 1,\n",
       " 'might': 1,\n",
       " 'nation': 5,\n",
       " 'never': 1,\n",
       " 'new': 2,\n",
       " 'nobly': 1,\n",
       " 'nor': 1,\n",
       " 'not': 5,\n",
       " 'note': 1,\n",
       " 'of': 5,\n",
       " 'on': 2,\n",
       " 'or': 2,\n",
       " 'our': 2,\n",
       " 'people': 3,\n",
       " 'perish': 1,\n",
       " 'place': 1,\n",
       " 'poor': 1,\n",
       " 'portion': 1,\n",
       " 'power': 1,\n",
       " 'proper': 1,\n",
       " 'proposition': 1,\n",
       " 'rather': 2,\n",
       " 'remaining': 1,\n",
       " 'remember': 1,\n",
       " 'resolve': 1,\n",
       " 'resting': 1,\n",
       " 'say': 1,\n",
       " 'score': 1,\n",
       " 'sense': 1,\n",
       " 'seven': 1,\n",
       " 'shall': 3,\n",
       " 'should': 1,\n",
       " 'so': 3,\n",
       " 'struggled': 1,\n",
       " 'take': 1,\n",
       " 'task': 1,\n",
       " 'testing': 1,\n",
       " 'that': 13,\n",
       " 'the': 11,\n",
       " 'their': 1,\n",
       " 'these': 2,\n",
       " 'they': 3,\n",
       " 'this': 3,\n",
       " 'thisbut': 1,\n",
       " 'those': 1,\n",
       " 'thus': 1,\n",
       " 'to': 8,\n",
       " 'under': 1,\n",
       " 'unfinished': 1,\n",
       " 'us': 3,\n",
       " 'vain': 1,\n",
       " 'war': 2,\n",
       " 'we': 10,\n",
       " 'what': 2,\n",
       " 'whether': 1,\n",
       " 'which': 2,\n",
       " 'who': 3,\n",
       " 'will': 1,\n",
       " 'work': 1,\n",
       " 'world': 1,\n",
       " 'years': 1}"
      ]
     },
     "execution_count": 35,
     "metadata": {},
     "output_type": "execute_result"
    }
   ],
   "source": [
    "gram"
   ]
  },
  {
   "cell_type": "code",
   "execution_count": null,
   "metadata": {
    "collapsed": true
   },
   "outputs": [],
   "source": []
  }
 ],
 "metadata": {
  "anaconda-cloud": {},
  "kernelspec": {
   "display_name": "Python [Root]",
   "language": "python",
   "name": "Python [Root]"
  },
  "language_info": {
   "codemirror_mode": {
    "name": "ipython",
    "version": 3
   },
   "file_extension": ".py",
   "mimetype": "text/x-python",
   "name": "python",
   "nbconvert_exporter": "python",
   "pygments_lexer": "ipython3",
   "version": "3.5.2"
  }
 },
 "nbformat": 4,
 "nbformat_minor": 0
}
