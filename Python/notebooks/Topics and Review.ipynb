{
 "cells": [
  {
   "cell_type": "markdown",
   "metadata": {},
   "source": [
    "# Mentaculus of Topics Covered and to be Covered:\n",
    "\n",
    "- Basic Python Types: Numbers & Strings\n",
    "- Calling Functions\n",
    "- Defining Functions\n",
    "- String Methods\n",
    "- Type Casting\n",
    "- Sequence Slicing\n",
    "- Math Operators\n",
    "- Reserved Words\n",
    "- Branching, Boolean\n",
    "- Python Style\n",
    "- Doctest\n",
    "- Interactive Interpreter\n",
    "- Equality Versus Identity \n",
    "- Terminal IO\n",
    "- Code Reviews\n",
    "- Built In Functions \n",
    "- Function Signatures\n",
    "- Advanced String Operations\n",
    "- Branching and Blocks\n",
    "- List Type and Methods\n",
    "- Common List Operations\n",
    "- For Loop Iteration\n",
    "- While Loop Iteration\n",
    "- Basic Module Importing\n",
    "- Exception Handling\n",
    "- Default Function Parameters\n",
    "- Arbitrary Number of Parameters\n",
    "- Common Loop Patterns\n",
    "- Basic Data Structure Problem Solving\n",
    "- Pair Programming\n",
    "- Git Workflow Basics\n",
    "- Dictionary Type\n",
    "- Common Dictionary Operations\n",
    "- File I/O\n",
    "- Importing Modules\n",
    "-----------------------------------------------------------\n",
    "- Classes\n",
    "- Defning Class Methids\n",
    "- Defining Instance Methods\n",
    "- Defning Static Methods\n",
    "- Class init constructor\n",
    "- Private vs Public Names \n",
    "- Self\n",
    "- Inheritance / Multiple Inheritance\n",
    "- Name Overiding\n",
    "- Magic Methods\n",
    "- Abstract Base Classes\n",
    "- 3rd Party API Usage\n",
    "- PyCharm Editor and Debugger\n",
    "- Git Team Flow\n",
    "- Testing\n",
    "- Iterators and Generators\n",
    "- Yield vs Return\n",
    "- Creating Python Modules\n",
    "- For / Else\n",
    "- Try / Except / Else / Finally\n",
    "- args / kwargs packing / unpacking bidirectionally\n",
    "- Built In Decorators\n",
    "- Named Tuples\n",
    "- Alternate Syntax for defning Classes\n",
    "- Python Developer Roles\n",
    "- More Modules\n",
    "\n"
   ]
  },
  {
   "cell_type": "markdown",
   "metadata": {},
   "source": [
    "# RainData Reviews\n",
    "\n",
    "* Use Imports, or remove them\n",
    "* PEP8\n",
    "* Better Var Names\n",
    "* More Docs\n",
    "* More Error Consideration\n",
    "* Remember: list.append returns None!\n",
    "* Encapsulate all code - Use a Main function 'runner'\n",
    "* Don't type cast iterators\n",
    "* Use Tuples, and define vars inline\n",
    "* Use .format() anywhere possible\n",
    "* Remove PDB Breakpoints"
   ]
  },
  {
   "cell_type": "code",
   "execution_count": null,
   "metadata": {
    "collapsed": true
   },
   "outputs": [],
   "source": [
    "a , b = 0, 1"
   ]
  }
 ],
 "metadata": {
  "anaconda-cloud": {},
  "kernelspec": {
   "display_name": "Python [Root]",
   "language": "python",
   "name": "Python [Root]"
  },
  "language_info": {
   "codemirror_mode": {
    "name": "ipython",
    "version": 3
   },
   "file_extension": ".py",
   "mimetype": "text/x-python",
   "name": "python",
   "nbconvert_exporter": "python",
   "pygments_lexer": "ipython3",
   "version": "3.5.2"
  }
 },
 "nbformat": 4,
 "nbformat_minor": 0
}
