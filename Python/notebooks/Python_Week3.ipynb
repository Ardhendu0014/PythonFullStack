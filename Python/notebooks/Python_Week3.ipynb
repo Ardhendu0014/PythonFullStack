{
 "cells": [
  {
   "cell_type": "markdown",
   "metadata": {
    "nbpresent": {
     "id": "74a5d874-1edb-4271-85ad-409e8ad2abf4"
    }
   },
   "source": [
    "# PDX Code Guild: Python Full Stack 16 Week Bootcamp"
   ]
  },
  {
   "cell_type": "markdown",
   "metadata": {
    "nbpresent": {
     "id": "b2869731-8392-447c-aa8e-d34d9875db36"
    }
   },
   "source": [
    "# Week 3"
   ]
  },
  {
   "cell_type": "markdown",
   "metadata": {
    "nbpresent": {
     "id": "b579f516-da85-4923-a342-d46a839d74c0"
    }
   },
   "source": [
    "## Recap\n",
    "\n",
    "### Week One and Two\n",
    "    - Basic Python Types: Numbers & Strings\n",
    "    - *Calling Functions\n",
    "    - Defining Functions\n",
    "    - String Methods\n",
    "    - Type Casting\n",
    "    - Sequence Slicing\n",
    "    - Math Operators\n",
    "    - Reserved Words\n",
    "    - Branching \n",
    "    - Boolean\n",
    "    - Python Style\n",
    "    - Doctest\n",
    "    - Interactive Interpreter\n",
    "    - *Equality Versus Identity \n",
    "    - Terminal IO\n",
    "    - *Code Reviews\n",
    "    - Built In Functions \n",
    "    - Function Signatures\n",
    "    - Advanced String Operations\n",
    "    - Branching and Blocks\n",
    "    - List Type and Methods\n",
    "    - Common List Operations\n",
    "    - For Loop Iteration\n",
    "    - While Loop Iteration\n",
    "    - Basic Module Importing\n",
    "    - Exception Handling\n",
    "    - Default Function Parameters\n",
    "    - Arbitrary Number of Parameters\n",
    "    - Common Loop Patterns\n",
    "    - Basic Data Structure Problem Solving\n",
    "    - Pair Programming\n",
    "    - Git Workflow Basics\n",
    "    - Dictionary Type\n",
    "    - Common Dictionary Operations\n",
    "    - File I/O\n",
    "\n",
    "\n",
    "\n"
   ]
  },
  {
   "cell_type": "markdown",
   "metadata": {
    "nbpresent": {
     "id": "71b5bde7-e68e-4534-b1c8-03e6ae9f90ba"
    }
   },
   "source": [
    "## Week Three Topics\n",
    "    - Everything Above!\n",
    "    - Advanced Function Calling\n",
    "    - Standard Library Modules\n",
    "    - 3rd Party Modules\n",
    "    - Diversity of Python Use Cases\n",
    "    - Virtualenv and Python-Pip\n",
    "    - Sets\n",
    "    - Advanced Flow Control\n",
    "    - Git Teamwork Flow Basics\n",
    "    - Higher Order Functions\n",
    "    - Comprehentions\n",
    "    - Sorted\n",
    "    - lambda\n",
    "    - Roles in Technology\n",
    "    - Online APIs and JSON\n",
    "\n",
    "### Labs\n",
    "    - Any lab from last week\n",
    "    - Quantify Words\n",
    "    - Quantify Words - File Input\n",
    "    - Mimick Lab\n",
    "    - NFL Info (Dictionaries) Lab\n",
    "    - ROT13 Cipher Lab\n",
    "    - Log Analyzer Lab\n",
    "    - Random User Parser\n",
    "    - Intermediate Flow Control Lab\n",
    "    - Sorted Lab\n",
    "    - Higher Order Functions Lab\n",
    "    - Comprentions Lab\n",
    " \n",
    "### Projects\n",
    "    - Dungeon Crawler\n",
    "    - Quantify Words Web Scraper\n",
    "    - Quantify Words Command Line Interface\n",
    "    - Mimick Web Scraper\n",
    "    - ROT* Bi-Directional (Ceaser's Cipher)\n",
    "    - Powerball Simulator | Analyzer\n",
    "    - Portland Rain Analysis\n",
    "    - Automated Readability Index CL Tool | Scraper\n",
    "    - Ask about individual Study\n",
    " \n",
    "### Additional Challenges\n",
    "    - Shrink (Data Structures, Medium)\n",
    "    - Rain Collector (Data Structures, Hard)\n",
    "    - Infection Simulator (Data Structures, Hard)\n",
    "    - Credit Validator (Functional, Medium)\n",
    " \n",
    "### Modules\n",
    "    - OS\n",
    "    - Sys\n",
    "    - Subprocess\n",
    "    - Regular Expressions\n",
    "    - Urllib\n",
    "    - Json\n",
    "    - Requests\n",
    "    - Random\n",
    "    - Datetime\n",
    "    - Scrapy\n",
    "    - BeautifulSoup\n",
    "    - PIL\n",
    "    - Pillow\n",
    "    \n"
   ]
  },
  {
   "cell_type": "markdown",
   "metadata": {
    "nbpresent": {
     "id": "980d8cc8-16ef-45ab-a810-82d86855197f"
    }
   },
   "source": [
    "# Monday July 24th, 2016\n",
    "\n",
    "### Announcements:\n",
    "    - Upcoming Guest Speakers:\n",
    "        - Phillip Robinson (This Friday)\n",
    "        - Eric Holscher (First Week of September)\n",
    "    - Trello\n",
    "\n",
    "### Overview:\n",
    "    - Looking into the entire week\n",
    "    - Review Last Week In Depth\n",
    "    - What will happen? (Live code exercise)\n",
    "    - Intro to PyCharm Editor\n",
    "    - The Python Debugger\n",
    "    - Git Commands and Brances\n",
    "    - Dungeon Text Game Team Play\n",
    "    - Modules of the day: OS, and Sys\n",
    "    - File IO\n",
    "    - Dictionaries\n",
    "    - Labs / Projects"
   ]
  },
  {
   "cell_type": "markdown",
   "metadata": {
    "nbpresent": {
     "id": "2da11e96-577a-44ea-b63f-e142b81a34d2"
    }
   },
   "source": [
    "## Check Out Jupyter Notebook:\n",
    "\n",
    "Lets Install Jupyter.\n",
    "http://jupyter.readthedocs.io/en/latest/install.html"
   ]
  },
  {
   "cell_type": "code",
   "execution_count": 1,
   "metadata": {
    "collapsed": false,
    "nbpresent": {
     "id": "c3d34f9b-6a84-43b1-9127-adbc42df0b99"
    }
   },
   "outputs": [
    {
     "name": "stdout",
     "output_type": "stream",
     "text": [
      "llamas\n"
     ]
    }
   ],
   "source": [
    "print('llamas')"
   ]
  },
  {
   "cell_type": "markdown",
   "metadata": {
    "nbpresent": {
     "id": "250f20cf-d7c5-4025-b66d-39d79c25c167"
    }
   },
   "source": [
    "## Review\n",
    "Let's recap all of the concepts from last week."
   ]
  },
  {
   "cell_type": "code",
   "execution_count": 73,
   "metadata": {
    "collapsed": true,
    "nbpresent": {
     "id": "ec0837f2-8363-4ebb-845d-05949dd0c5ec"
    }
   },
   "outputs": [
    {
     "data": {
      "text/plain": [
       "('',)"
      ]
     },
     "execution_count": 73,
     "metadata": {},
     "output_type": "execute_result"
    }
   ],
   "source": [
    "'',"
   ]
  },
  {
   "cell_type": "code",
   "execution_count": 74,
   "metadata": {
    "collapsed": false,
    "nbpresent": {
     "id": "54fb8e76-a0fc-4b4b-8339-940f449d9d21"
    }
   },
   "outputs": [
    {
     "data": {
      "text/plain": [
       "['a', 'b', 'c']"
      ]
     },
     "execution_count": 74,
     "metadata": {},
     "output_type": "execute_result"
    }
   ],
   "source": [
    "list('abc')"
   ]
  },
  {
   "cell_type": "code",
   "execution_count": 75,
   "metadata": {
    "collapsed": false,
    "nbpresent": {
     "id": "a2c816b7-4991-4d2e-9ef7-c89afb43f959"
    }
   },
   "outputs": [
    {
     "data": {
      "text/plain": [
       "['One fish', ' two fish', ' red fish', ' blue fish.']"
      ]
     },
     "execution_count": 75,
     "metadata": {},
     "output_type": "execute_result"
    }
   ],
   "source": [
    "x = \"One fish, two fish, red fish, blue fish.\"\n",
    "x.split(',')"
   ]
  },
  {
   "cell_type": "code",
   "execution_count": 76,
   "metadata": {
    "collapsed": false,
    "nbpresent": {
     "id": "564acbde-aa48-40f6-aab1-a3affab9dd38"
    }
   },
   "outputs": [
    {
     "data": {
      "text/plain": [
       "{}"
      ]
     },
     "execution_count": 76,
     "metadata": {},
     "output_type": "execute_result"
    }
   ],
   "source": [
    "# Empty Dictionary\n",
    "{}"
   ]
  },
  {
   "cell_type": "code",
   "execution_count": 77,
   "metadata": {
    "collapsed": false,
    "nbpresent": {
     "id": "661909eb-ea02-4772-83e8-781e84acf2fb"
    }
   },
   "outputs": [],
   "source": [
    "# Empty Set\n",
    "x = set()"
   ]
  },
  {
   "cell_type": "code",
   "execution_count": 10,
   "metadata": {
    "collapsed": false,
    "nbpresent": {
     "id": "5f742131-b065-4da3-aac6-9eb19498e1f4"
    }
   },
   "outputs": [],
   "source": [
    "x = dict()\n",
    "x['name'] = 'Kieran'\n",
    "x['age'] = 99"
   ]
  },
  {
   "cell_type": "code",
   "execution_count": 79,
   "metadata": {
    "collapsed": false,
    "nbpresent": {
     "id": "ffdce81b-f346-4a36-82d3-a7d229205af6"
    }
   },
   "outputs": [
    {
     "ename": "KeyError",
     "evalue": "'addr'",
     "output_type": "error",
     "traceback": [
      "\u001b[0;31m---------------------------------------------------------------------------\u001b[0m",
      "\u001b[0;31mKeyError\u001b[0m                                  Traceback (most recent call last)",
      "\u001b[0;32m<ipython-input-79-3117c5eafbe7>\u001b[0m in \u001b[0;36m<module>\u001b[0;34m()\u001b[0m\n\u001b[0;32m----> 1\u001b[0;31m \u001b[0mx\u001b[0m\u001b[0;34m[\u001b[0m\u001b[0;34m'addr'\u001b[0m\u001b[0;34m]\u001b[0m\u001b[0;34m\u001b[0m\u001b[0m\n\u001b[0m",
      "\u001b[0;31mKeyError\u001b[0m: 'addr'"
     ]
    }
   ],
   "source": [
    "x['addr']"
   ]
  },
  {
   "cell_type": "code",
   "execution_count": 5,
   "metadata": {
    "collapsed": false,
    "nbpresent": {
     "id": "30ecc06e-8719-4a00-b696-a3f13c250ca8"
    }
   },
   "outputs": [
    {
     "ename": "NameError",
     "evalue": "name 'x' is not defined",
     "output_type": "error",
     "traceback": [
      "\u001b[0;31m---------------------------------------------------------------------------\u001b[0m",
      "\u001b[0;31mNameError\u001b[0m                                 Traceback (most recent call last)",
      "\u001b[0;32m<ipython-input-5-a04aa5236a08>\u001b[0m in \u001b[0;36m<module>\u001b[0;34m()\u001b[0m\n\u001b[1;32m      1\u001b[0m \u001b[0;31m#x.get('name')\u001b[0m\u001b[0;34m\u001b[0m\u001b[0;34m\u001b[0m\u001b[0m\n\u001b[0;32m----> 2\u001b[0;31m \u001b[0mx\u001b[0m\u001b[0;34m\u001b[0m\u001b[0m\n\u001b[0m",
      "\u001b[0;31mNameError\u001b[0m: name 'x' is not defined"
     ]
    }
   ],
   "source": [
    "#x.get('name')\n",
    "x"
   ]
  },
  {
   "cell_type": "code",
   "execution_count": null,
   "metadata": {
    "collapsed": true,
    "nbpresent": {
     "id": "abcdc5e0-c902-4079-947a-a6503d7e1989"
    }
   },
   "outputs": [],
   "source": [
    "x.get('addr', '123 Main St.')"
   ]
  },
  {
   "cell_type": "code",
   "execution_count": null,
   "metadata": {
    "collapsed": false,
    "nbpresent": {
     "id": "883e1600-a31b-4b72-a3f1-261cc610899a"
    }
   },
   "outputs": [],
   "source": [
    "x['addr'] = x.get('addr', '123 Main St.')\n",
    "print(x)"
   ]
  },
  {
   "cell_type": "code",
   "execution_count": 2,
   "metadata": {
    "collapsed": false,
    "nbpresent": {
     "id": "29240df5-b990-4742-b442-d255c43458ea"
    }
   },
   "outputs": [
    {
     "ename": "NameError",
     "evalue": "name 'x' is not defined",
     "output_type": "error",
     "traceback": [
      "\u001b[0;31m---------------------------------------------------------------------------\u001b[0m",
      "\u001b[0;31mNameError\u001b[0m                                 Traceback (most recent call last)",
      "\u001b[0;32m<ipython-input-2-ebdf815bf446>\u001b[0m in \u001b[0;36m<module>\u001b[0;34m()\u001b[0m\n\u001b[1;32m      1\u001b[0m \u001b[0;32mtry\u001b[0m\u001b[0;34m:\u001b[0m\u001b[0;34m\u001b[0m\u001b[0m\n\u001b[0;32m----> 2\u001b[0;31m     \u001b[0mx\u001b[0m\u001b[0;34m[\u001b[0m\u001b[0;34m'phone'\u001b[0m\u001b[0;34m]\u001b[0m\u001b[0;34m\u001b[0m\u001b[0m\n\u001b[0m\u001b[1;32m      3\u001b[0m \u001b[0;32mexcept\u001b[0m \u001b[0mKeyError\u001b[0m\u001b[0;34m:\u001b[0m\u001b[0;34m\u001b[0m\u001b[0m\n\u001b[1;32m      4\u001b[0m     \u001b[0mx\u001b[0m\u001b[0;34m[\u001b[0m\u001b[0;34m'phone'\u001b[0m\u001b[0;34m]\u001b[0m \u001b[0;34m=\u001b[0m \u001b[0;34m'5551235555'\u001b[0m\u001b[0;34m\u001b[0m\u001b[0m\n\u001b[1;32m      5\u001b[0m \u001b[0;34m\u001b[0m\u001b[0m\n",
      "\u001b[0;31mNameError\u001b[0m: name 'x' is not defined"
     ]
    }
   ],
   "source": [
    "try:\n",
    "    x['phone']\n",
    "except KeyError:\n",
    "    x['phone'] = '5551235555'\n",
    "    \n",
    "print(x)"
   ]
  },
  {
   "cell_type": "code",
   "execution_count": null,
   "metadata": {
    "collapsed": true
   },
   "outputs": [],
   "source": [
    "z = 12321\n",
    "str(z[2])"
   ]
  },
  {
   "cell_type": "code",
   "execution_count": 12,
   "metadata": {
    "collapsed": false
   },
   "outputs": [
    {
     "name": "stdout",
     "output_type": "stream",
     "text": [
      "Watch Out!\n",
      "0.5\n",
      "0.6666666666666666\n",
      "0.4\n",
      "Watch Out!\n",
      "1.0\n",
      "0.6666666666666666\n",
      "0.5\n",
      "Watch Out!\n",
      "0.3333333333333333\n",
      "0.5\n",
      "Watch Out!\n"
     ]
    }
   ],
   "source": [
    "y = [0, 4, 3, 5, 0, 2, 3, 4, 0, 6, 4, 0]\n",
    "\n",
    "for i in y:\n",
    "    try:\n",
    "        print(\"{}\".format(2 / i))\n",
    "    except ZeroDivisionError:\n",
    "        print(\"Watch Out!\")\n",
    "        continue"
   ]
  },
  {
   "cell_type": "markdown",
   "metadata": {},
   "source": [
    "## The Python Debugger and PyCharm\n",
    "\n",
    "Python comes with a bult in debugger known as 'PDB'\n",
    "\n",
    "##### Documentation\n",
    "https://docs.python.org/3.5/library/pdb.html\n",
    "\n",
    "##### Cheet Sheet\n",
    "http://appletree.or.kr/quick_reference_cards/Python/Python%20Debugger%20Cheatsheet.pdf\n",
    "\n",
    "Thus far we have been using Atom editor.  If you feel ready to step up to a more robust IDE, let's introduce PyCharm."
   ]
  },
  {
   "cell_type": "code",
   "execution_count": 81,
   "metadata": {
    "collapsed": true
   },
   "outputs": [],
   "source": [
    "import pdb\n",
    "\n",
    "def count_llamas(pasture):\n",
    "    # Python Logic Here\n",
    "    llama_count = 0\n",
    "    for i in range(11):\n",
    "        llama_count += 1\n",
    "        pdb.set_trace() # If this line is executed, an Interctive interpreter session will open at this line and state.\n",
    "        \n",
    "    return llama_count"
   ]
  },
  {
   "cell_type": "markdown",
   "metadata": {},
   "source": [
    "## Git Commands\n",
    "\n",
    "    -init\n",
    "    -clone\n",
    "    -status\n",
    "    -fetch\n",
    "    -merge\n",
    "    -config\n",
    "    -pull\n",
    "    -push\n",
    "    -add\n",
    "    -commit\n",
    "    -branch\n",
    "    -checkout\n",
    "    -log\n",
    "    \n",
    "    Git Cheat Sheet:\n",
    "    https://services.github.com/kit/downloads/github-git-cheat-sheet.pdf\n",
    "    "
   ]
  },
  {
   "cell_type": "markdown",
   "metadata": {
    "nbpresent": {
     "id": "e70f6627-26f3-4788-b729-5f999e796f28"
    }
   },
   "source": [
    "## Dungeon Text Game\n",
    "\n",
    "The Class will be split into 3 Teams: Bug, Feature, and QA\n",
    "Every student will pull the dungeon codebase to a new git repository on thier local machine with:\n",
    "\n",
    "```cmd\n",
    "git clone https://Kprasch@bitbucket.org/Kprasch/dungeon.git\n",
    "```\n",
    "\n",
    "We will create three branches, one for each team.  Pairs will work together to fix bugs, add features, and test the code as we go.\n",
    "\n",
    "This will allow us to get a sense of how interplay with git works, and what issues you may encounter while using git.  The goal is to help further illustrate what is possible with source control, and gain comfortability using git in the command line.\n",
    "\n",
    "##### Bugs Team\n",
    "You guessed it - Fixing the broken stuff.  Reading reports from the issue tracker, and commiting fixes.\n",
    "\n",
    "##### Feature Team\n",
    "Brainstorming and listening.  Use your imagination to add features to the game, or read some of the mock customer feedback for suggestions.\n",
    "\n",
    "##### Quality (De)Assurance Team\n",
    "Identify and resolve a lack of documentation, doctests, spelling errors, Create bug reports, Monitor the other two teams progress, and update the Trello.\n",
    "Create new bugs! (secretly with the instructor)\n",
    "\n"
   ]
  },
  {
   "cell_type": "markdown",
   "metadata": {},
   "source": [
    "## File I/O\n",
    "\n",
    "Python is a great 'on-the-fly' scripting language, but many applications have the need to interact with file-level data persistence.  Perhaps you want to analyze a CSV data set, a piece of literature, or even audio and video files.\n",
    "\n",
    "Python provides some tooling for dealing with file read and write operations.\n",
    "\n",
    "Here is the official documentation:\n",
    "https://docs.python.org/3/tutorial/inputoutput.html\n",
    "\n",
    "Simple file access and file object instantiation can be achieved with the top-level function 'open'"
   ]
  },
  {
   "cell_type": "code",
   "execution_count": 130,
   "metadata": {
    "collapsed": false
   },
   "outputs": [
    {
     "name": "stdout",
     "output_type": "stream",
     "text": [
      "<_io.TextIOWrapper name='nasa.txt' mode='r' encoding='UTF-8'>\n"
     ]
    }
   ],
   "source": [
    "file = open('nasa.txt', 'r')\n",
    "print(file)"
   ]
  },
  {
   "cell_type": "code",
   "execution_count": 109,
   "metadata": {
    "collapsed": false,
    "scrolled": true
   },
   "outputs": [
    {
     "data": {
      "text/plain": [
       "'MIMICKING BLACK HOLE GEOMETRY IN THE LAB\\n\\nAll three of the quantum level matter/spacetimc interaction mechanisms proposed above depend upon oppos-\\ningly chiral nuclear spin orientation manipulations. All three mechanisms may be tested in a spinning nuclear\\nmagnetic resonance apparatus in which a ring of working fluid is held in a magnetic field rotating with and\\ntherefore stationary to the fluid. This field quantizes the fluid and orders its nuclei into spin up or spin down\\nstates, with one state dominating depending on polarization of the magnetic field.\\n\\nApplication of a scanning radio frequency field, properly tuned for isotopic make up of the fluid and for\\nmagnetic field strength, interacts with nuclei through photon absorption to cause quantum spin flips. When\\nthe nucleus later emits the absorbed photon, (resonance), it returns to its original spin orientation. The relative\\nproportion of spin up to spin down populations upon initial alignment defines a thermal equilibrium state for\\nthe working fluid as a whole, (Chandrakumar and Subramanian, 1987).\\n\\nSince the testing program here proposed is concerned not with resonance return signals, but with demonstration\\nof spacetime distortion caused by nuclear spin manipulations, the Z axis of the spinning ring would be aligned\\nwith the solar neutrino flux. Nuclear spin up and spin down states then present opposingiy chiral aspects to\\nincident neutrinos to take advantage of weak force parity violation temperament. Similarly, spinning the ring\\ncyclically reverses random off-alignment-spin nuclear aspects across the X-Y plane to give a uniform\\nprobability of interaction for the fluid overall. Any spacetime distortion produced in the local region surround-\\ning working fluid nuclei could be expected to induce beta\" reactions through uncertainty relation influence\\nand blueshiftinp energies - just as in the spacetime distorted region near a black hole in space.\\n\\nThe first goal of a laboratory experiment would be to maximize the number of quantum spin flips in order to\\nlocally overwhelm some natural equilibrium state between weak nuclear force \"charge\" and the vacuum, or to\\nmaximize the number of quantum particle inversions locally crowded into a postulated fourth spatial dimension,\\nor to maximize the number of \"twists\" introduced in the assigned phase entanglement spacetime property of an\\nappropriate working fluid. For all three rationales the stationary magnetic field would be as strong as possible to\\nmaximally skew aligned spin populations to a single dominant orientation, while the scanning radio frequency\\nfield would be applied at intensity to suddenly and massively invert thermal equilibrium in the fluid. Hopefully\\nthis results in sufficient distortion of local spacetime p»omc ,r y to induce neurtrino/mattcr interaction in nuclei\\nchirally aligned with the solar flux.\\n\\nSuccess in the testing program for any one of the three quantum level rationales would thus be indicated by\\ninduced beta\" decay reactions. For all three mechanisms success then also results in enrichment of the working\\nfluid by more phase entangled beta\" partner particles. Assuming that phase entanglement is appropriately\\nassigned as a spacetime property, then the potential for a runaway reaction is evident for any of the three test\\nregimens.\\n\\nGiven induced beta\\' reactions in the working fluid, removal of proton rich and unstable nuclei along an axial\\npathway then completes the mime with black hole geometry and allows release of spacetime energy to the\\nenvironment as radiant and kinetic energy. In the lab, however, this working fluid may be returned to the NMR\\nring to give a closed loop of catalytic vacuum energy extraction. Perhaps a central black hole with its jets and\\ngalaxy of stars and gas clouds attendant fo: .is a grand sort of gravitationally bound closed loop too.\\n\\nThe proposed test regimen uses known technology aiid virtually off-the-shelf equipment so planning, assembly\\nand start up should be possible on a near-term basis for at ieast two of the three matter/spacetime interaction\\nrationales. Preparation and timing for test of a phase entanglement enriched fluid will take longer and require\\nstandard health physics safeguards in the lab. No major design challenges would seem to present except for\\nconsideration of the \"runaway\" reaction possibility. This might dictate a hydrogen atmosphere surrounding the\\ntest apparatus and/or very high threshold and very short lived reverse beta half-life structural materials for the\\ntest apparatus such as silicon and its oxide (Nuclides and Isotopes. 1989).\\n'"
      ]
     },
     "execution_count": 109,
     "metadata": {},
     "output_type": "execute_result"
    }
   ],
   "source": [
    "# Returns one big string on the entire file's text.\n",
    "file.read()"
   ]
  },
  {
   "cell_type": "code",
   "execution_count": 127,
   "metadata": {
    "collapsed": false
   },
   "outputs": [
    {
     "data": {
      "text/plain": [
       "' proposed above depend upon oppos-\\n'"
      ]
     },
     "execution_count": 127,
     "metadata": {},
     "output_type": "execute_result"
    }
   ],
   "source": [
    "file.seek(112)\n",
    "# Returns one line at a time - May include empty lines!\n",
    "file.readline()"
   ]
  },
  {
   "cell_type": "code",
   "execution_count": 134,
   "metadata": {
    "collapsed": true
   },
   "outputs": [],
   "source": [
    "# Manually closing the file.\n",
    "file.close()"
   ]
  },
  {
   "cell_type": "code",
   "execution_count": 135,
   "metadata": {
    "collapsed": false
   },
   "outputs": [
    {
     "ename": "ValueError",
     "evalue": "I/O operation on closed file.",
     "output_type": "error",
     "traceback": [
      "\u001b[0;31m---------------------------------------------------------------------------\u001b[0m",
      "\u001b[0;31mValueError\u001b[0m                                Traceback (most recent call last)",
      "\u001b[0;32m<ipython-input-135-b95781cf6aa3>\u001b[0m in \u001b[0;36m<module>\u001b[0;34m()\u001b[0m\n\u001b[0;32m----> 1\u001b[0;31m \u001b[0mfile\u001b[0m\u001b[0;34m.\u001b[0m\u001b[0mread\u001b[0m\u001b[0;34m(\u001b[0m\u001b[0;34m)\u001b[0m\u001b[0;34m\u001b[0m\u001b[0m\n\u001b[0m",
      "\u001b[0;31mValueError\u001b[0m: I/O operation on closed file."
     ]
    }
   ],
   "source": [
    "# Files must be opened for file operations.\n",
    "# Once weve retrieved the data we need, its best to close the file.\n",
    "file.read()"
   ]
  },
  {
   "cell_type": "code",
   "execution_count": 136,
   "metadata": {
    "collapsed": false,
    "scrolled": true
   },
   "outputs": [
    {
     "name": "stdout",
     "output_type": "stream",
     "text": [
      "['MIMICKING BLACK HOLE GEOMETRY IN THE LAB\\n', '\\n', 'All three of the quantum level matter/spacetimc interaction mechanisms proposed above depend upon oppos-\\n', 'ingly chiral nuclear spin orientation manipulations. All three mechanisms may be tested in a spinning nuclear\\n', 'magnetic resonance apparatus in which a ring of working fluid is held in a magnetic field rotating with and\\n', 'therefore stationary to the fluid. This field quantizes the fluid and orders its nuclei into spin up or spin down\\n', 'states, with one state dominating depending on polarization of the magnetic field.\\n', '\\n', 'Application of a scanning radio frequency field, properly tuned for isotopic make up of the fluid and for\\n']\n"
     ]
    }
   ],
   "source": [
    "# This task is often handled with a context manager\n",
    "with open('nasa.txt', 'r') as file:\n",
    "    print(file.readlines()[0:9])"
   ]
  },
  {
   "cell_type": "markdown",
   "metadata": {},
   "source": [
    "## The OS and Sys Modules\n",
    "\n",
    "Two notable importable modules with no additional set up are the 'Operating System' and 'System' modules.\n",
    "The division of functionality is subtle, but sensible.\n",
    "Most notably, the system *argument variable* is an import component of any python command line tooling.\n",
    "\n",
    "#### Documentation\n",
    "-https://docs.python.org/3.5/library/os.html\n",
    "\n",
    "-https://docs.python.org/3.5/library/sys.html\n",
    "  \n",
    "\n"
   ]
  }
 ],
 "metadata": {
  "anaconda-cloud": {},
  "kernelspec": {
   "display_name": "Python [Root]",
   "language": "python",
   "name": "Python [Root]"
  },
  "language_info": {
   "codemirror_mode": {
    "name": "ipython",
    "version": 3
   },
   "file_extension": ".py",
   "mimetype": "text/x-python",
   "name": "python",
   "nbconvert_exporter": "python",
   "pygments_lexer": "ipython3",
   "version": "3.5.2"
  },
  "nbpresent": {
   "slides": {
    "0638feb2-148a-4f27-beb7-4abda2d16a25": {
     "id": "0638feb2-148a-4f27-beb7-4abda2d16a25",
     "prev": "1386a2c3-180a-4721-8549-a205b19622f5",
     "regions": {
      "bb295d36-fbb8-47ce-a94e-6b61c1013246": {
       "attrs": {
        "height": 0.8,
        "width": 0.8,
        "x": 0.1,
        "y": 0.1
       },
       "content": {
        "cell": "883e1600-a31b-4b72-a3f1-261cc610899a",
        "part": "whole"
       },
       "id": "bb295d36-fbb8-47ce-a94e-6b61c1013246"
      }
     }
    },
    "1330350b-674f-4ec6-961e-0d6d70c2f0aa": {
     "id": "1330350b-674f-4ec6-961e-0d6d70c2f0aa",
     "prev": "236da525-e386-433e-8192-4f0900f556d2",
     "regions": {
      "835324fc-66c9-4489-a343-366b69b7b221": {
       "attrs": {
        "height": 0.8,
        "width": 0.8,
        "x": 0.1,
        "y": 0.1
       },
       "content": {
        "cell": "ec0837f2-8363-4ebb-845d-05949dd0c5ec",
        "part": "whole"
       },
       "id": "835324fc-66c9-4489-a343-366b69b7b221"
      }
     }
    },
    "1386a2c3-180a-4721-8549-a205b19622f5": {
     "id": "1386a2c3-180a-4721-8549-a205b19622f5",
     "prev": "19b947da-a482-41a2-87af-597b04c8206a",
     "regions": {
      "96710bac-83b6-468e-b463-43552f23cd1c": {
       "attrs": {
        "height": 0.8,
        "width": 0.8,
        "x": 0.1,
        "y": 0.1
       },
       "content": {
        "cell": "abcdc5e0-c902-4079-947a-a6503d7e1989",
        "part": "whole"
       },
       "id": "96710bac-83b6-468e-b463-43552f23cd1c"
      }
     }
    },
    "19b947da-a482-41a2-87af-597b04c8206a": {
     "id": "19b947da-a482-41a2-87af-597b04c8206a",
     "prev": "f4498d7b-58d6-420f-8683-28fd137e8296",
     "regions": {
      "0db1661a-9345-490a-b4c0-238e6ec0b768": {
       "attrs": {
        "height": 0.8,
        "width": 0.8,
        "x": 0.1,
        "y": 0.1
       },
       "content": {
        "cell": "30ecc06e-8719-4a00-b696-a3f13c250ca8",
        "part": "whole"
       },
       "id": "0db1661a-9345-490a-b4c0-238e6ec0b768"
      }
     }
    },
    "1c02d280-632d-4285-b5e4-08f5d6cac8a6": {
     "id": "1c02d280-632d-4285-b5e4-08f5d6cac8a6",
     "prev": "742072a7-de15-4bd0-9848-34cd95132ea4",
     "regions": {
      "4d1b77af-f07f-4d35-b8d8-f7cf5649c001": {
       "attrs": {
        "height": 0.8,
        "width": 0.8,
        "x": 0.1,
        "y": 0.1
       },
       "content": {
        "cell": "39e51997-c5a4-4305-8d82-916d48f6faea",
        "part": "whole"
       },
       "id": "4d1b77af-f07f-4d35-b8d8-f7cf5649c001"
      }
     }
    },
    "236da525-e386-433e-8192-4f0900f556d2": {
     "id": "236da525-e386-433e-8192-4f0900f556d2",
     "prev": "e6624a46-3a2a-4a35-9fcd-7547dd91e2ca",
     "regions": {
      "7beef349-de01-449c-8997-fd865be884df": {
       "attrs": {
        "height": 0.8,
        "width": 0.8,
        "x": 0.1,
        "y": 0.1
       },
       "content": {
        "cell": "250f20cf-d7c5-4025-b66d-39d79c25c167",
        "part": "whole"
       },
       "id": "7beef349-de01-449c-8997-fd865be884df"
      }
     }
    },
    "3189ebdc-ef0d-45bf-8dd4-9deb5276751d": {
     "id": "3189ebdc-ef0d-45bf-8dd4-9deb5276751d",
     "prev": "3e076ccf-0517-4d00-bcc9-4b67fc1c839f",
     "regions": {
      "83b8874a-e985-415f-a4b2-d497f0f4f5a8": {
       "attrs": {
        "height": 0.8,
        "width": 0.8,
        "x": 0.1,
        "y": 0.1
       },
       "content": {
        "cell": "b579f516-da85-4923-a342-d46a839d74c0",
        "part": "whole"
       },
       "id": "83b8874a-e985-415f-a4b2-d497f0f4f5a8"
      }
     }
    },
    "38875281-5d79-4bc0-b5ad-13fe635a601d": {
     "id": "38875281-5d79-4bc0-b5ad-13fe635a601d",
     "prev": "9383dd37-092f-485f-bde5-eb4f36a780db",
     "regions": {
      "8a12ae21-b087-45c6-9f06-4354cb712045": {
       "attrs": {
        "height": 0.8,
        "width": 0.8,
        "x": 0.1,
        "y": 0.1
       },
       "content": {
        "cell": "a2c816b7-4991-4d2e-9ef7-c89afb43f959",
        "part": "whole"
       },
       "id": "8a12ae21-b087-45c6-9f06-4354cb712045"
      }
     }
    },
    "3e076ccf-0517-4d00-bcc9-4b67fc1c839f": {
     "id": "3e076ccf-0517-4d00-bcc9-4b67fc1c839f",
     "prev": "ad91b03e-07e3-4880-99b7-9dbbce6175ab",
     "regions": {
      "9905fd91-38fb-4586-b303-ce3276f3289e": {
       "attrs": {
        "height": 0.8,
        "width": 0.8,
        "x": 0.1,
        "y": 0.1
       },
       "content": {
        "cell": "b2869731-8392-447c-aa8e-d34d9875db36",
        "part": "whole"
       },
       "id": "9905fd91-38fb-4586-b303-ce3276f3289e"
      }
     }
    },
    "4cd62c76-aa41-45df-a8f6-03c4047835c7": {
     "id": "4cd62c76-aa41-45df-a8f6-03c4047835c7",
     "prev": "38875281-5d79-4bc0-b5ad-13fe635a601d",
     "regions": {
      "c7e42bdf-c6d4-44fd-9d36-ea8c0b1ca7a9": {
       "attrs": {
        "height": 0.8,
        "width": 0.8,
        "x": 0.1,
        "y": 0.1
       },
       "content": {
        "cell": "564acbde-aa48-40f6-aab1-a3affab9dd38",
        "part": "whole"
       },
       "id": "c7e42bdf-c6d4-44fd-9d36-ea8c0b1ca7a9"
      }
     }
    },
    "5477fc29-0178-4265-9d1c-d83c7aaf494e": {
     "id": "5477fc29-0178-4265-9d1c-d83c7aaf494e",
     "prev": "988ffcd8-cb21-4897-92ec-55ff58ca551e",
     "regions": {
      "1f27fedb-40ed-44cc-93c8-0503c04d8913": {
       "attrs": {
        "height": 0.8,
        "width": 0.8,
        "x": 0.1,
        "y": 0.1
       },
       "content": {
        "cell": "5f742131-b065-4da3-aac6-9eb19498e1f4",
        "part": "whole"
       },
       "id": "1f27fedb-40ed-44cc-93c8-0503c04d8913"
      }
     }
    },
    "67297f86-e429-441f-aec4-37e94e2efd8f": {
     "id": "67297f86-e429-441f-aec4-37e94e2efd8f",
     "prev": "f283dc31-d421-41db-a630-f9972d6e15cc",
     "regions": {
      "57a23f66-ddf7-4c85-9573-abdbf54b344f": {
       "attrs": {
        "height": 0.8,
        "width": 0.8,
        "x": 0.1,
        "y": 0.1
       },
       "content": {
        "cell": "29240df5-b990-4742-b442-d255c43458ea",
        "part": "whole"
       },
       "id": "57a23f66-ddf7-4c85-9573-abdbf54b344f"
      }
     }
    },
    "742072a7-de15-4bd0-9848-34cd95132ea4": {
     "id": "742072a7-de15-4bd0-9848-34cd95132ea4",
     "prev": "67297f86-e429-441f-aec4-37e94e2efd8f",
     "regions": {
      "68607bb9-2ff0-4932-8c0d-428070088f70": {
       "attrs": {
        "height": 0.8,
        "width": 0.8,
        "x": 0.1,
        "y": 0.1
       },
       "content": {
        "cell": "e70f6627-26f3-4788-b729-5f999e796f28",
        "part": "whole"
       },
       "id": "68607bb9-2ff0-4932-8c0d-428070088f70"
      }
     }
    },
    "90a64e1f-429f-4eab-83fe-04bea36375f5": {
     "id": "90a64e1f-429f-4eab-83fe-04bea36375f5",
     "prev": "3189ebdc-ef0d-45bf-8dd4-9deb5276751d",
     "regions": {
      "12c16d5b-e4db-4aac-aefe-da2aea0e265c": {
       "attrs": {
        "height": 0.8,
        "width": 0.8,
        "x": 0.1,
        "y": 0.1
       },
       "content": {
        "cell": "71b5bde7-e68e-4534-b1c8-03e6ae9f90ba",
        "part": "whole"
       },
       "id": "12c16d5b-e4db-4aac-aefe-da2aea0e265c"
      }
     }
    },
    "9383dd37-092f-485f-bde5-eb4f36a780db": {
     "id": "9383dd37-092f-485f-bde5-eb4f36a780db",
     "prev": "1330350b-674f-4ec6-961e-0d6d70c2f0aa",
     "regions": {
      "077d32da-0299-43e8-baa3-636fd0078e7b": {
       "attrs": {
        "height": 0.8,
        "width": 0.8,
        "x": 0.1,
        "y": 0.1
       },
       "content": {
        "cell": "54fb8e76-a0fc-4b4b-8339-940f449d9d21",
        "part": "whole"
       },
       "id": "077d32da-0299-43e8-baa3-636fd0078e7b"
      }
     }
    },
    "988ffcd8-cb21-4897-92ec-55ff58ca551e": {
     "id": "988ffcd8-cb21-4897-92ec-55ff58ca551e",
     "prev": "4cd62c76-aa41-45df-a8f6-03c4047835c7",
     "regions": {
      "14ae6ed7-a2d0-49d4-96fb-e3957787d3d1": {
       "attrs": {
        "height": 0.8,
        "width": 0.8,
        "x": 0.1,
        "y": 0.1
       },
       "content": {
        "cell": "661909eb-ea02-4772-83e8-781e84acf2fb",
        "part": "whole"
       },
       "id": "14ae6ed7-a2d0-49d4-96fb-e3957787d3d1"
      }
     }
    },
    "ad91b03e-07e3-4880-99b7-9dbbce6175ab": {
     "id": "ad91b03e-07e3-4880-99b7-9dbbce6175ab",
     "prev": null,
     "regions": {
      "b1695988-ea43-4c5e-a19c-5809b28ca6f2": {
       "attrs": {
        "height": 0.8,
        "width": 0.8,
        "x": 0.1,
        "y": 0.1
       },
       "content": {
        "cell": "74a5d874-1edb-4271-85ad-409e8ad2abf4",
        "part": "whole"
       },
       "id": "b1695988-ea43-4c5e-a19c-5809b28ca6f2"
      }
     }
    },
    "e6624a46-3a2a-4a35-9fcd-7547dd91e2ca": {
     "id": "e6624a46-3a2a-4a35-9fcd-7547dd91e2ca",
     "prev": "ef1f197d-52ce-4721-ae87-9382b86a1769",
     "regions": {
      "1c4a25b7-0fa6-4ed3-ad9f-e5c21907fff8": {
       "attrs": {
        "height": 0.8,
        "width": 0.8,
        "x": 0.1,
        "y": 0.1
       },
       "content": {
        "cell": "c3d34f9b-6a84-43b1-9127-adbc42df0b99",
        "part": "whole"
       },
       "id": "1c4a25b7-0fa6-4ed3-ad9f-e5c21907fff8"
      }
     }
    },
    "eb330e01-e98f-4a17-9295-e8273e5b7f8a": {
     "id": "eb330e01-e98f-4a17-9295-e8273e5b7f8a",
     "prev": "1c02d280-632d-4285-b5e4-08f5d6cac8a6",
     "regions": {
      "883ada1e-0e58-4306-a9aa-cb7a63c65c47": {
       "attrs": {
        "height": 0.8,
        "width": 0.8,
        "x": 0.1,
        "y": 0.1
       },
       "content": {
        "cell": "0f8dd16b-e69f-4e29-b3ef-4ec7b58842fe",
        "part": "whole"
       },
       "id": "883ada1e-0e58-4306-a9aa-cb7a63c65c47"
      }
     }
    },
    "ef1f197d-52ce-4721-ae87-9382b86a1769": {
     "id": "ef1f197d-52ce-4721-ae87-9382b86a1769",
     "prev": "f3726357-040e-4585-8d76-0dbc22238c47",
     "regions": {
      "508c57b2-a578-4756-9965-3be20a68e5fe": {
       "attrs": {
        "height": 0.8,
        "width": 0.8,
        "x": 0.1,
        "y": 0.1
       },
       "content": {
        "cell": "2da11e96-577a-44ea-b63f-e142b81a34d2",
        "part": "whole"
       },
       "id": "508c57b2-a578-4756-9965-3be20a68e5fe"
      }
     }
    },
    "f283dc31-d421-41db-a630-f9972d6e15cc": {
     "id": "f283dc31-d421-41db-a630-f9972d6e15cc",
     "prev": "0638feb2-148a-4f27-beb7-4abda2d16a25",
     "regions": {
      "c1e13a3c-ff55-45d5-8c5f-edafc9c44139": {
       "attrs": {
        "height": 0.8,
        "width": 0.8,
        "x": 0.1,
        "y": 0.1
       },
       "content": {
        "cell": "363d7426-0ec8-4f6f-abf5-5e3472d17885",
        "part": "whole"
       },
       "id": "c1e13a3c-ff55-45d5-8c5f-edafc9c44139"
      }
     }
    },
    "f3726357-040e-4585-8d76-0dbc22238c47": {
     "id": "f3726357-040e-4585-8d76-0dbc22238c47",
     "prev": "90a64e1f-429f-4eab-83fe-04bea36375f5",
     "regions": {
      "9c7dca5f-d637-4530-9e2d-1436ee916899": {
       "attrs": {
        "height": 0.8,
        "width": 0.8,
        "x": 0.1,
        "y": 0.1
       },
       "content": {
        "cell": "980d8cc8-16ef-45ab-a810-82d86855197f",
        "part": "whole"
       },
       "id": "9c7dca5f-d637-4530-9e2d-1436ee916899"
      }
     }
    },
    "f4498d7b-58d6-420f-8683-28fd137e8296": {
     "id": "f4498d7b-58d6-420f-8683-28fd137e8296",
     "prev": "5477fc29-0178-4265-9d1c-d83c7aaf494e",
     "regions": {
      "d3ad6190-48e4-429a-911b-ade3ea4735bd": {
       "attrs": {
        "height": 0.8,
        "width": 0.8,
        "x": 0.1,
        "y": 0.1
       },
       "content": {
        "cell": "ffdce81b-f346-4a36-82d3-a7d229205af6",
        "part": "whole"
       },
       "id": "d3ad6190-48e4-429a-911b-ade3ea4735bd"
      }
     }
    }
   },
   "themes": {}
  }
 },
 "nbformat": 4,
 "nbformat_minor": 0
}
