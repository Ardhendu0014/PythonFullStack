{
 "cells": [
  {
   "cell_type": "code",
   "execution_count": 5,
   "metadata": {
    "collapsed": false
   },
   "outputs": [],
   "source": [
    "from collections import defaultdict\n",
    "things = [('drill press', 2), ('eraser', 4), ('lamp shade', 1), ('blouse', 7), ('thermostat', 3), ('packing peanuts', 2), ('hangar', 9), ('sponge', 1), ('eye liner', 1),  ('truck', 9)]"
   ]
  },
  {
   "cell_type": "code",
   "execution_count": 6,
   "metadata": {
    "collapsed": false
   },
   "outputs": [],
   "source": [
    "d = defaultdict(list)"
   ]
  },
  {
   "cell_type": "code",
   "execution_count": 7,
   "metadata": {
    "collapsed": false
   },
   "outputs": [],
   "source": [
    "for k, v in things:\n",
    "...     d[k].append(v)"
   ]
  },
  {
   "cell_type": "code",
   "execution_count": 8,
   "metadata": {
    "collapsed": false
   },
   "outputs": [
    {
     "data": {
      "text/plain": [
       "defaultdict(list,\n",
       "            {'blouse': [7],\n",
       "             'drill press': [2],\n",
       "             'eraser': [4],\n",
       "             'eye liner': [1],\n",
       "             'hangar': [9],\n",
       "             'lamp shade': [1],\n",
       "             'packing peanuts': [2],\n",
       "             'sponge': [1],\n",
       "             'thermostat': [3],\n",
       "             'truck': [9]})"
      ]
     },
     "execution_count": 8,
     "metadata": {},
     "output_type": "execute_result"
    }
   ],
   "source": [
    "d"
   ]
  },
  {
   "cell_type": "code",
   "execution_count": 16,
   "metadata": {
    "collapsed": true
   },
   "outputs": [],
   "source": [
    "d2 = dict()\n",
    "for k, v in things:\n",
    "    d2.setdefault(k, []).append(v)"
   ]
  },
  {
   "cell_type": "code",
   "execution_count": 17,
   "metadata": {
    "collapsed": false
   },
   "outputs": [
    {
     "data": {
      "text/plain": [
       "{'blouse': [7],\n",
       " 'drill press': [2],\n",
       " 'eraser': [4],\n",
       " 'eye liner': [1],\n",
       " 'hangar': [9],\n",
       " 'lamp shade': [1],\n",
       " 'packing peanuts': [2],\n",
       " 'sponge': [1],\n",
       " 'thermostat': [3],\n",
       " 'truck': [9]}"
      ]
     },
     "execution_count": 17,
     "metadata": {},
     "output_type": "execute_result"
    }
   ],
   "source": [
    "d2"
   ]
  },
  {
   "cell_type": "code",
   "execution_count": null,
   "metadata": {
    "collapsed": true
   },
   "outputs": [],
   "source": []
  }
 ],
 "metadata": {
  "anaconda-cloud": {},
  "kernelspec": {
   "display_name": "Python [Root]",
   "language": "python",
   "name": "Python [Root]"
  },
  "language_info": {
   "codemirror_mode": {
    "name": "ipython",
    "version": 3
   },
   "file_extension": ".py",
   "mimetype": "text/x-python",
   "name": "python",
   "nbconvert_exporter": "python",
   "pygments_lexer": "ipython3",
   "version": "3.5.2"
  }
 },
 "nbformat": 4,
 "nbformat_minor": 0
}
