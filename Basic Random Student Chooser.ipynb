{
 "cells": [
  {
   "cell_type": "code",
   "execution_count": 1,
   "metadata": {
    "collapsed": true
   },
   "outputs": [],
   "source": [
    "import random"
   ]
  },
  {
   "cell_type": "code",
   "execution_count": 2,
   "metadata": {
    "collapsed": true
   },
   "outputs": [],
   "source": [
    "studes = ['Jesse', 'Mark', 'Danny', 'Alex', 'Json', 'TJLove', 'Sheri', 'Anders']"
   ]
  },
  {
   "cell_type": "code",
   "execution_count": 3,
   "metadata": {
    "collapsed": false
   },
   "outputs": [
    {
     "name": "stdout",
     "output_type": "stream",
     "text": [
      "Alex\n",
      "7 students remain\n"
     ]
    }
   ],
   "source": [
    "for i in range(101):  # Run the code block indented below 100 times.\n",
    "    random.shuffle(studes)  # Shuffle the list.\n",
    "\n",
    "print(studes.pop())  # Pop off the student appearing last in the list after shuffling.\n",
    "print(\"{} students remain\".format(len(studes)))  # Print the number of remaining Students."
   ]
  },
  {
   "cell_type": "code",
   "execution_count": 4,
   "metadata": {
    "collapsed": false
   },
   "outputs": [
    {
     "name": "stdout",
     "output_type": "stream",
     "text": [
      "Welcome to the One-on-One Schedule Guesstimator.\n",
      "Just a few questions for you...\n",
      "Invalid input.  Please enter 'yes' or 'no'.\n"
     ]
    }
   ],
   "source": [
    "yes = ['y', 'yes']\n",
    "no = ['n', 'no']\n",
    "\n",
    "def add_more():\n",
    "    name = input(\"Enter the Students name that want to add to the roster.\")\n",
    "    studes.append(name)\n",
    "    print(\"Heres the new roster {}\".format(studes))\n",
    "    \n",
    "\n",
    "def guesstimator():\n",
    "    answer = (\"It looks like you have {} students in your roster, is that correct? >> \")\n",
    "    if answer.lower() in yes:\n",
    "\n",
    "        print(\"OK Then.\")\n",
    "        transition_time = int(input(\"About how many minuttes do you want to pass between sessions? >> \"))\n",
    "\n",
    "    elif answer.lower() in no:\n",
    "        more = (\"Would you like to add some? >> \")\n",
    "        \n",
    "        if more in yes:\n",
    "            add_more()\n",
    "    \n",
    "    else:\n",
    "        print(\"Invalid input.  Please enter 'yes' or 'no'.\")\n",
    "\n",
    "        \n",
    "def main():\n",
    "\n",
    "    banner = \"Welcome to the One-on-One Schedule Guesstimator.\"\n",
    "    print(banner)\n",
    "    print(\"Just a few questions for you...\")\n",
    "    guesstimator()\n",
    "    \n",
    "\n",
    "main()\n",
    "        "
   ]
  },
  {
   "cell_type": "code",
   "execution_count": null,
   "metadata": {
    "collapsed": true
   },
   "outputs": [],
   "source": []
  },
  {
   "cell_type": "code",
   "execution_count": null,
   "metadata": {
    "collapsed": true
   },
   "outputs": [],
   "source": []
  }
 ],
 "metadata": {
  "anaconda-cloud": {},
  "kernelspec": {
   "display_name": "Python [conda root]",
   "language": "python",
   "name": "conda-root-py"
  },
  "language_info": {
   "codemirror_mode": {
    "name": "ipython",
    "version": 3
   },
   "file_extension": ".py",
   "mimetype": "text/x-python",
   "name": "python",
   "nbconvert_exporter": "python",
   "pygments_lexer": "ipython3",
   "version": "3.5.2"
  },
  "widgets": {
   "state": {},
   "version": "1.1.2"
  }
 },
 "nbformat": 4,
 "nbformat_minor": 0
}
