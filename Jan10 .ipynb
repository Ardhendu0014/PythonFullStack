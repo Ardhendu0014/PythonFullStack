{
 "cells": [
  {
   "cell_type": "code",
   "execution_count": 13,
   "metadata": {
    "collapsed": false
   },
   "outputs": [],
   "source": [
    "name = 'Kieran'\n",
    "last = 'Prasch'"
   ]
  },
  {
   "cell_type": "code",
   "execution_count": 9,
   "metadata": {
    "collapsed": false
   },
   "outputs": [
    {
     "name": "stdout",
     "output_type": "stream",
     "text": [
      "K 75\n",
      "i 105\n",
      "e 101\n",
      "r 114\n",
      "a 97\n",
      "n 110\n"
     ]
    }
   ],
   "source": [
    "for letter in name:\n",
    "    print(letter, ord(letter))"
   ]
  },
  {
   "cell_type": "code",
   "execution_count": 12,
   "metadata": {
    "collapsed": false
   },
   "outputs": [
    {
     "name": "stdout",
     "output_type": "stream",
     "text": [
      "1\n",
      "4\n",
      "27\n",
      "256\n",
      "3125\n",
      "823543\n"
     ]
    }
   ],
   "source": [
    "for i in [1, 2, 3, 4, 5, 7]:\n",
    "    print(i**i)"
   ]
  },
  {
   "cell_type": "code",
   "execution_count": 20,
   "metadata": {
    "collapsed": false
   },
   "outputs": [
    {
     "name": "stdout",
     "output_type": "stream",
     "text": [
      "K P\n",
      "i r\n",
      "e a\n",
      "r s\n",
      "a c\n",
      "n h\n"
     ]
    }
   ],
   "source": [
    "for num in range(len(name)):\n",
    "    print(name[num], last[num])"
   ]
  },
  {
   "cell_type": "code",
   "execution_count": 21,
   "metadata": {
    "collapsed": false
   },
   "outputs": [
    {
     "name": "stdout",
     "output_type": "stream",
     "text": [
      "K P\n",
      "i r\n",
      "e a\n",
      "r s\n",
      "a c\n",
      "n h\n"
     ]
    }
   ],
   "source": [
    "counter = 0\n",
    "for letter in name:\n",
    "    print(letter, last[counter])\n",
    "    counter += 1"
   ]
  },
  {
   "cell_type": "code",
   "execution_count": 27,
   "metadata": {
    "collapsed": false
   },
   "outputs": [
    {
     "name": "stdout",
     "output_type": "stream",
     "text": [
      "a b\n",
      "c d\n"
     ]
    }
   ],
   "source": [
    "for x, y in [('a', 'b'), ('c', 'd')]:\n",
    "    print(x, y)"
   ]
  },
  {
   "cell_type": "code",
   "execution_count": 29,
   "metadata": {
    "collapsed": false
   },
   "outputs": [
    {
     "data": {
      "text/plain": [
       "[(0, 'K'), (1, 'i'), (2, 'e'), (3, 'r'), (4, 'a'), (5, 'n')]"
      ]
     },
     "execution_count": 29,
     "metadata": {},
     "output_type": "execute_result"
    }
   ],
   "source": [
    "list(enumerate(name))"
   ]
  },
  {
   "cell_type": "code",
   "execution_count": 31,
   "metadata": {
    "collapsed": false
   },
   "outputs": [
    {
     "data": {
      "text/plain": [
       "'Kieran'"
      ]
     },
     "execution_count": 31,
     "metadata": {},
     "output_type": "execute_result"
    }
   ],
   "source": [
    "name"
   ]
  },
  {
   "cell_type": "code",
   "execution_count": 117,
   "metadata": {
    "collapsed": false
   },
   "outputs": [
    {
     "name": "stdout",
     "output_type": "stream",
     "text": [
      "0 K\n",
      "1 i\n",
      "2 e\n",
      "3 r\n",
      "4 a\n",
      "5 n\n"
     ]
    }
   ],
   "source": [
    "# Enum Design Pattern\n",
    "for index, letter in enumerate(name):\n",
    "    print(index, letter)\n",
    "        "
   ]
  },
  {
   "cell_type": "code",
   "execution_count": 35,
   "metadata": {
    "collapsed": false
   },
   "outputs": [
    {
     "data": {
      "text/plain": [
       "'Kieran'"
      ]
     },
     "execution_count": 35,
     "metadata": {},
     "output_type": "execute_result"
    }
   ],
   "source": [
    "name"
   ]
  },
  {
   "cell_type": "code",
   "execution_count": 36,
   "metadata": {
    "collapsed": false
   },
   "outputs": [
    {
     "data": {
      "text/plain": [
       "'Prasch'"
      ]
     },
     "execution_count": 36,
     "metadata": {},
     "output_type": "execute_result"
    }
   ],
   "source": [
    "last"
   ]
  },
  {
   "cell_type": "code",
   "execution_count": 39,
   "metadata": {
    "collapsed": false
   },
   "outputs": [
    {
     "name": "stdout",
     "output_type": "stream",
     "text": [
      "K P\n",
      "i r\n",
      "e a\n",
      "r s\n",
      "a c\n",
      "n h\n"
     ]
    }
   ],
   "source": [
    "for f, l in zip(name, last):\n",
    "    print(f, l)"
   ]
  },
  {
   "cell_type": "code",
   "execution_count": 89,
   "metadata": {
    "collapsed": true
   },
   "outputs": [],
   "source": [
    "account_number = [4, 5, 5, 6, 7, 3, 7, 5, 8, 6, 8, 9, 9, 8, 5, 5]"
   ]
  },
  {
   "cell_type": "code",
   "execution_count": 75,
   "metadata": {
    "collapsed": false
   },
   "outputs": [
    {
     "name": "stdout",
     "output_type": "stream",
     "text": [
      "0 4\n",
      "1 5\n",
      "2 5\n",
      "3 6\n",
      "4 7\n",
      "5 3\n",
      "6 7\n",
      "7 5\n",
      "8 8\n",
      "9 6\n",
      "10 8\n",
      "11 9\n",
      "12 9\n",
      "13 8\n",
      "14 5\n",
      "15 5\n"
     ]
    }
   ],
   "source": [
    "for index, digit in enumerate(account_number):\n",
    "    print(index, digit)"
   ]
  },
  {
   "cell_type": "code",
   "execution_count": 85,
   "metadata": {
    "collapsed": false
   },
   "outputs": [
    {
     "name": "stdout",
     "output_type": "stream",
     "text": [
      "8\n",
      "10\n",
      "10\n",
      "12\n",
      "14\n",
      "6\n",
      "14\n",
      "10\n",
      "16\n",
      "12\n",
      "16\n",
      "18\n",
      "18\n",
      "16\n",
      "10\n",
      "10\n"
     ]
    }
   ],
   "source": [
    "\n",
    "for number in account_number:\n",
    "    number = number * 2\n",
    "    print(number)"
   ]
  },
  {
   "cell_type": "code",
   "execution_count": 87,
   "metadata": {
    "collapsed": false
   },
   "outputs": [],
   "source": [
    "account_number[0] = True"
   ]
  },
  {
   "cell_type": "code",
   "execution_count": 88,
   "metadata": {
    "collapsed": false
   },
   "outputs": [
    {
     "data": {
      "text/plain": [
       "[True, 5, 5, 6, 7, 3, 7, 5, 8, 6, 8, 9, 9, 8, 5, 5]"
      ]
     },
     "execution_count": 88,
     "metadata": {},
     "output_type": "execute_result"
    }
   ],
   "source": [
    "account_number"
   ]
  },
  {
   "cell_type": "code",
   "execution_count": 90,
   "metadata": {
    "collapsed": true
   },
   "outputs": [],
   "source": [
    "n = 42"
   ]
  },
  {
   "cell_type": "code",
   "execution_count": 92,
   "metadata": {
    "collapsed": false
   },
   "outputs": [
    {
     "data": {
      "text/plain": [
       "'4'"
      ]
     },
     "execution_count": 92,
     "metadata": {},
     "output_type": "execute_result"
    }
   ],
   "source": [
    "str(n)[0]"
   ]
  },
  {
   "cell_type": "code",
   "execution_count": 94,
   "metadata": {
    "collapsed": false
   },
   "outputs": [
    {
     "data": {
      "text/plain": [
       "'4'"
      ]
     },
     "execution_count": 94,
     "metadata": {},
     "output_type": "execute_result"
    }
   ],
   "source": [
    "list(str(42))[0]"
   ]
  },
  {
   "cell_type": "code",
   "execution_count": 95,
   "metadata": {
    "collapsed": false
   },
   "outputs": [
    {
     "data": {
      "text/plain": [
       "[4, 5, 5, 6, 7, 3, 7, 5, 8, 6, 8, 9, 9, 8, 5, 5]"
      ]
     },
     "execution_count": 95,
     "metadata": {},
     "output_type": "execute_result"
    }
   ],
   "source": [
    "account_number"
   ]
  },
  {
   "cell_type": "code",
   "execution_count": 99,
   "metadata": {
    "collapsed": false
   },
   "outputs": [
    {
     "data": {
      "text/plain": [
       "9"
      ]
     },
     "execution_count": 99,
     "metadata": {},
     "output_type": "execute_result"
    }
   ],
   "source": [
    "big = max(account_number)\n",
    "\n",
    "big\n"
   ]
  },
  {
   "cell_type": "code",
   "execution_count": 100,
   "metadata": {
    "collapsed": true
   },
   "outputs": [],
   "source": [
    "check_digit = str(big)[0]"
   ]
  },
  {
   "cell_type": "code",
   "execution_count": 101,
   "metadata": {
    "collapsed": false
   },
   "outputs": [
    {
     "data": {
      "text/plain": [
       "'9'"
      ]
     },
     "execution_count": 101,
     "metadata": {},
     "output_type": "execute_result"
    }
   ],
   "source": [
    "check_digit"
   ]
  },
  {
   "cell_type": "code",
   "execution_count": 102,
   "metadata": {
    "collapsed": false
   },
   "outputs": [
    {
     "name": "stdout",
     "output_type": "stream",
     "text": [
      "Yes\n",
      "Yes\n"
     ]
    }
   ],
   "source": [
    "for i in account_number:\n",
    "    if check_digit in str(i):\n",
    "        print(\"Yes\")"
   ]
  },
  {
   "cell_type": "code",
   "execution_count": 103,
   "metadata": {
    "collapsed": true
   },
   "outputs": [],
   "source": [
    "def helper(word):\n",
    "    return word[-1]"
   ]
  },
  {
   "cell_type": "code",
   "execution_count": 106,
   "metadata": {
    "collapsed": false
   },
   "outputs": [
    {
     "data": {
      "text/plain": [
       "['ab', 'ccc', 'dddd']"
      ]
     },
     "execution_count": 106,
     "metadata": {},
     "output_type": "execute_result"
    }
   ],
   "source": [
    "sorted(['dddd', 'ab', 'ccc'], key=len)"
   ]
  },
  {
   "cell_type": "code",
   "execution_count": 107,
   "metadata": {
    "collapsed": false
   },
   "outputs": [
    {
     "data": {
      "text/plain": [
       "[4, 5, 5, 6, 7, 3, 7, 5, 8, 6, 8, 9, 9, 8, 5, 5]"
      ]
     },
     "execution_count": 107,
     "metadata": {},
     "output_type": "execute_result"
    }
   ],
   "source": [
    "account_number"
   ]
  },
  {
   "cell_type": "code",
   "execution_count": 114,
   "metadata": {
    "collapsed": false
   },
   "outputs": [
    {
     "data": {
      "text/plain": [
       "[2, 10, 18, 16, 16, 14, 14, 10, 8]"
      ]
     },
     "execution_count": 114,
     "metadata": {},
     "output_type": "execute_result"
    }
   ],
   "source": [
    "[digit * 2 for index, digit in enumerate(account_number) if index % 2 == 0]"
   ]
  },
  {
   "cell_type": "code",
   "execution_count": 116,
   "metadata": {
    "collapsed": false
   },
   "outputs": [
    {
     "data": {
      "text/plain": [
       "[True, 5, 5, 8, 9, 9, 8, 6, 8, 5, 7, 3, 7, 6, 5, 5, 4]"
      ]
     },
     "execution_count": 116,
     "metadata": {},
     "output_type": "execute_result"
    }
   ],
   "source": [
    "account_number"
   ]
  },
  {
   "cell_type": "code",
   "execution_count": null,
   "metadata": {
    "collapsed": true
   },
   "outputs": [],
   "source": []
  },
  {
   "cell_type": "code",
   "execution_count": 118,
   "metadata": {
    "collapsed": false
   },
   "outputs": [
    {
     "data": {
      "text/plain": [
       "[True, 5, 5, 8, 9, 9, 8, 6, 8, 5, 7, 3, 7, 6, 5, 5, 4]"
      ]
     },
     "execution_count": 118,
     "metadata": {},
     "output_type": "execute_result"
    }
   ],
   "source": [
    "account_number"
   ]
  },
  {
   "cell_type": "code",
   "execution_count": 119,
   "metadata": {
    "collapsed": true
   },
   "outputs": [],
   "source": [
    "import random"
   ]
  },
  {
   "cell_type": "code",
   "execution_count": 122,
   "metadata": {
    "collapsed": true
   },
   "outputs": [],
   "source": [
    "random.shuffle(account_number)"
   ]
  },
  {
   "cell_type": "code",
   "execution_count": 123,
   "metadata": {
    "collapsed": false
   },
   "outputs": [
    {
     "data": {
      "text/plain": [
       "[7, 3, 8, 6, 5, 8, 4, True, 6, 5, 7, 5, 5, 9, 5, 9, 8]"
      ]
     },
     "execution_count": 123,
     "metadata": {},
     "output_type": "execute_result"
    }
   ],
   "source": [
    "account_number"
   ]
  },
  {
   "cell_type": "code",
   "execution_count": 125,
   "metadata": {
    "collapsed": false
   },
   "outputs": [
    {
     "data": {
      "text/plain": [
       "[4, 6, 9, 7, 6]"
      ]
     },
     "execution_count": 125,
     "metadata": {},
     "output_type": "execute_result"
    }
   ],
   "source": [
    "random.sample(account_number, 5)"
   ]
  },
  {
   "cell_type": "code",
   "execution_count": 126,
   "metadata": {
    "collapsed": false
   },
   "outputs": [
    {
     "data": {
      "text/plain": [
       "8"
      ]
     },
     "execution_count": 126,
     "metadata": {},
     "output_type": "execute_result"
    }
   ],
   "source": [
    "random.choice(account_number)"
   ]
  },
  {
   "cell_type": "code",
   "execution_count": 128,
   "metadata": {
    "collapsed": false
   },
   "outputs": [
    {
     "data": {
      "text/plain": [
       "156"
      ]
     },
     "execution_count": 128,
     "metadata": {},
     "output_type": "execute_result"
    }
   ],
   "source": [
    "random.randrange(100, 100*10)"
   ]
  },
  {
   "cell_type": "code",
   "execution_count": 129,
   "metadata": {
    "collapsed": false
   },
   "outputs": [
    {
     "name": "stdout",
     "output_type": "stream",
     "text": [
      "[39, 11, 18, 76, 12, 1, 78, 3, 66, 61]\n"
     ]
    }
   ],
   "source": [
    "import random\n",
    "\n",
    "my_randoms = list()\n",
    "\n",
    "for i in range(10):\n",
    "    my_randoms.append(random.randrange(1,101,1))\n",
    "\n",
    "print(my_randoms)"
   ]
  },
  {
   "cell_type": "code",
   "execution_count": 130,
   "metadata": {
    "collapsed": true
   },
   "outputs": [
    {
     "data": {
      "text/plain": [
       "[85,\n",
       " 1,\n",
       " 23,\n",
       " 4,\n",
       " 86,\n",
       " 79,\n",
       " 35,\n",
       " 58,\n",
       " 43,\n",
       " 1,\n",
       " 78,\n",
       " 93,\n",
       " 49,\n",
       " 89,\n",
       " 59,\n",
       " 15,\n",
       " 39,\n",
       " 1,\n",
       " 72,\n",
       " 22,\n",
       " 34,\n",
       " 24,\n",
       " 67,\n",
       " 75,\n",
       " 70,\n",
       " 82,\n",
       " 20,\n",
       " 34,\n",
       " 15,\n",
       " 56,\n",
       " 38,\n",
       " 21,\n",
       " 69,\n",
       " 5,\n",
       " 91,\n",
       " 97,\n",
       " 94,\n",
       " 2,\n",
       " 82,\n",
       " 42,\n",
       " 61,\n",
       " 86,\n",
       " 46,\n",
       " 87,\n",
       " 47,\n",
       " 48,\n",
       " 42,\n",
       " 47,\n",
       " 21,\n",
       " 96,\n",
       " 32,\n",
       " 22,\n",
       " 27,\n",
       " 89,\n",
       " 69,\n",
       " 46,\n",
       " 25,\n",
       " 87,\n",
       " 57,\n",
       " 49,\n",
       " 95,\n",
       " 60,\n",
       " 21,\n",
       " 15,\n",
       " 92,\n",
       " 63,\n",
       " 14,\n",
       " 95,\n",
       " 38,\n",
       " 84,\n",
       " 12,\n",
       " 54,\n",
       " 19,\n",
       " 38,\n",
       " 54,\n",
       " 95,\n",
       " 33,\n",
       " 82,\n",
       " 56,\n",
       " 94,\n",
       " 79,\n",
       " 62,\n",
       " 47,\n",
       " 98,\n",
       " 84,\n",
       " 72,\n",
       " 14,\n",
       " 65,\n",
       " 18,\n",
       " 61,\n",
       " 7,\n",
       " 6,\n",
       " 60,\n",
       " 100,\n",
       " 11,\n",
       " 1,\n",
       " 79,\n",
       " 63,\n",
       " 37,\n",
       " 43,\n",
       " 18]"
      ]
     },
     "execution_count": 130,
     "metadata": {},
     "output_type": "execute_result"
    }
   ],
   "source": [
    "[random.randrange(1, 101, 1) for i in range(101)]"
   ]
  },
  {
   "cell_type": "code",
   "execution_count": 134,
   "metadata": {
    "collapsed": false
   },
   "outputs": [
    {
     "data": {
      "text/plain": [
       "nan"
      ]
     },
     "execution_count": 134,
     "metadata": {},
     "output_type": "execute_result"
    }
   ],
   "source": [
    "float(\"-inf\") + float(\"inf\")"
   ]
  },
  {
   "cell_type": "code",
   "execution_count": null,
   "metadata": {
    "collapsed": true
   },
   "outputs": [],
   "source": []
  }
 ],
 "metadata": {
  "anaconda-cloud": {},
  "kernelspec": {
   "display_name": "Python [conda root]",
   "language": "python",
   "name": "conda-root-py"
  },
  "language_info": {
   "codemirror_mode": {
    "name": "ipython",
    "version": 3
   },
   "file_extension": ".py",
   "mimetype": "text/x-python",
   "name": "python",
   "nbconvert_exporter": "python",
   "pygments_lexer": "ipython3",
   "version": "3.5.2"
  },
  "widgets": {
   "state": {},
   "version": "1.1.2"
  }
 },
 "nbformat": 4,
 "nbformat_minor": 0
}
