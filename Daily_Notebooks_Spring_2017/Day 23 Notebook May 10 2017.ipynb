{
 "cells": [
  {
   "cell_type": "markdown",
   "metadata": {},
   "source": [
    "# Lab Pool\n",
    "\n",
    "\n",
    "- ATM Interface\n",
    "- Deck\n",
    "\n",
    "---------------------\n",
    "- Crime Data\n",
    "- Mini Capstone\n"
   ]
  },
  {
   "cell_type": "code",
   "execution_count": 17,
   "metadata": {
    "collapsed": true
   },
   "outputs": [],
   "source": [
    "class ExtraTerrestria:\n",
    "    FOCUS = 'Earth'                 # Class Atrribute\n",
    "    \n",
    "    def __init__(self, name, mass, location, charge):\n",
    "        self.name = name\n",
    "        self.mass = mass\n",
    "        self.location = location\n",
    "        self.charge = charge       # Instance Attribute\n",
    "        \n",
    "        self.sentience = False\n",
    "        \n",
    "        self.something = self.get_rpm(10)\n",
    "        \n",
    "    def __repr__(self):\n",
    "        machine = '{0.__class__.__name__}({0.name}, {0.mass}, {0.location}, {0.charge})'.format(self)\n",
    "        return machine\n",
    "    \n",
    "    def get_rpm(self, gear_size):\n",
    "        # Something wonderful is happening.\n",
    "        return 42"
   ]
  },
  {
   "cell_type": "code",
   "execution_count": 13,
   "metadata": {
    "collapsed": false
   },
   "outputs": [],
   "source": [
    "et = ExtraTerrestria('E.T.', 20, 'Venus', 'Neutral')\n",
    "pluto = ExtraTerrestria('Pluto', 10000, '40 AU', 'Neutral')\n",
    "c2934z = ExtraTerrestria('Detroyer', 2000, 'NEO', 'Positive')"
   ]
  },
  {
   "cell_type": "code",
   "execution_count": 14,
   "metadata": {
    "collapsed": false
   },
   "outputs": [
    {
     "data": {
      "text/plain": [
       "ExtraTerrestria(Pluto, 10000, 40 AU, Neutral)"
      ]
     },
     "execution_count": 14,
     "metadata": {},
     "output_type": "execute_result"
    }
   ],
   "source": [
    "pluto"
   ]
  },
  {
   "cell_type": "code",
   "execution_count": 15,
   "metadata": {
    "collapsed": false
   },
   "outputs": [
    {
     "data": {
      "text/plain": [
       "'I have 7 llamas and 4 bears and 1 hermit crtabs'"
      ]
     },
     "execution_count": 15,
     "metadata": {},
     "output_type": "execute_result"
    }
   ],
   "source": [
    "'I have {0[2]} llamas and {0[1]} bears and {0[0]} hermit crtabs'.format([1, 4, 7])"
   ]
  },
  {
   "cell_type": "code",
   "execution_count": null,
   "metadata": {
    "collapsed": true
   },
   "outputs": [],
   "source": []
  },
  {
   "cell_type": "markdown",
   "metadata": {},
   "source": [
    "## Testing"
   ]
  },
  {
   "cell_type": "markdown",
   "metadata": {},
   "source": [
    "## Unit Testing vs Doctests"
   ]
  },
  {
   "cell_type": "code",
   "execution_count": null,
   "metadata": {
    "collapsed": true
   },
   "outputs": [],
   "source": []
  },
  {
   "cell_type": "code",
   "execution_count": null,
   "metadata": {
    "collapsed": true
   },
   "outputs": [],
   "source": []
  },
  {
   "cell_type": "code",
   "execution_count": null,
   "metadata": {
    "collapsed": true
   },
   "outputs": [],
   "source": []
  },
  {
   "cell_type": "code",
   "execution_count": 20,
   "metadata": {
    "collapsed": true
   },
   "outputs": [],
   "source": [
    "r = exec('1 + 9')"
   ]
  },
  {
   "cell_type": "code",
   "execution_count": 21,
   "metadata": {
    "collapsed": true
   },
   "outputs": [],
   "source": [
    "r"
   ]
  },
  {
   "cell_type": "code",
   "execution_count": null,
   "metadata": {
    "collapsed": true
   },
   "outputs": [],
   "source": []
  }
 ],
 "metadata": {
  "anaconda-cloud": {},
  "kernelspec": {
   "display_name": "Python [conda root]",
   "language": "python",
   "name": "conda-root-py"
  },
  "language_info": {
   "codemirror_mode": {
    "name": "ipython",
    "version": 3
   },
   "file_extension": ".py",
   "mimetype": "text/x-python",
   "name": "python",
   "nbconvert_exporter": "python",
   "pygments_lexer": "ipython3",
   "version": "3.5.2"
  },
  "widgets": {
   "state": {},
   "version": "1.1.2"
  }
 },
 "nbformat": 4,
 "nbformat_minor": 0
}
