{
 "cells": [
  {
   "cell_type": "markdown",
   "metadata": {},
   "source": [
    "# Lab Pool\n",
    "\n",
    "\n",
    "1. Phonebook\n",
    "1. Voting Booth\n",
    "\n",
    "---------------\n",
    "\n",
    "1. Higher Order\n",
    "1. Quantify Words\n",
    "\n",
    "----------------\n",
    "\n",
    "1. Scrub - Regular Expressions\n",
    "\n",
    "----------------\n",
    "\n",
    "1. ARI\n",
    "1. Mimic\n",
    "\n",
    "----------------\n",
    "\n",
    "1. Rain Data\n",
    "1. Crime Data\n",
    "\n",
    "----------------\n",
    "\n",
    "1. JSON I/O Practice\n",
    "1. Fun With Networks (Requests)\n",
    "\n",
    "\n",
    "#### New Ideas over the next two weeks by day\n",
    "\n",
    "| Monday              | Teusday           | Wednesday           | Thursday            | Friday         |\n",
    "|---------------------|-------------------|---------------------|---------------------|----------------|\n",
    "| Dictionary          | Set               | Regular Expressions |  Data               | Data           |\n",
    "| Classes and Objects | Unit Testing      | Decorators          |  OOP                | Final          |"
   ]
  },
  {
   "cell_type": "markdown",
   "metadata": {},
   "source": [
    "### Dictionary"
   ]
  },
  {
   "cell_type": "markdown",
   "metadata": {},
   "source": [
    "##### Common Dictionary Operations"
   ]
  },
  {
   "cell_type": "code",
   "execution_count": 18,
   "metadata": {
    "collapsed": true
   },
   "outputs": [],
   "source": [
    "              # Amphibian  # Descriptor\n",
    "amphibians = {'tree frog': ('Adorable', 'Poisonous'),\n",
    "              'salmander': ('Tiny', 'Firey'),\n",
    "              'diplocaulus': ('Funky', 'Triangular')\n",
    "             }"
   ]
  },
  {
   "cell_type": "code",
   "execution_count": 19,
   "metadata": {
    "collapsed": false
   },
   "outputs": [
    {
     "name": "stdout",
     "output_type": "stream",
     "text": [
      "{'diplocaulus': ('Funky', 'Triangular'), 'salmander': ('Tiny', 'Firey'), 'tree frog': ('Adorable', 'Poisonous')}\n"
     ]
    }
   ],
   "source": [
    "print(amphibians)"
   ]
  },
  {
   "cell_type": "code",
   "execution_count": 20,
   "metadata": {
    "collapsed": true
   },
   "outputs": [],
   "source": [
    "# Key Assignment\n",
    "# list[0] = newvalue\n",
    "amphibians['newt'] = ('Flying', 'Laser')"
   ]
  },
  {
   "cell_type": "code",
   "execution_count": 21,
   "metadata": {
    "collapsed": false
   },
   "outputs": [
    {
     "data": {
      "text/plain": [
       "{'diplocaulus': ('Funky', 'Triangular'),\n",
       " 'newt': ('Flying', 'Laser'),\n",
       " 'salmander': ('Tiny', 'Firey'),\n",
       " 'tree frog': ('Adorable', 'Poisonous')}"
      ]
     },
     "execution_count": 21,
     "metadata": {},
     "output_type": "execute_result"
    }
   ],
   "source": [
    "amphibians"
   ]
  },
  {
   "cell_type": "code",
   "execution_count": 22,
   "metadata": {
    "collapsed": true
   },
   "outputs": [],
   "source": [
    "update_data = {'bullfrog': ('Loud', 'Obnoxious'),\n",
    "               'axolotl': ('Cute', 'Gilly')}\n",
    "\n",
    "amphibians.update(update_data)"
   ]
  },
  {
   "cell_type": "code",
   "execution_count": 23,
   "metadata": {
    "collapsed": false
   },
   "outputs": [
    {
     "data": {
      "text/plain": [
       "{'axolotl': ('Cute', 'Gilly'),\n",
       " 'bullfrog': ('Loud', 'Obnoxious'),\n",
       " 'diplocaulus': ('Funky', 'Triangular'),\n",
       " 'newt': ('Flying', 'Laser'),\n",
       " 'salmander': ('Tiny', 'Firey'),\n",
       " 'tree frog': ('Adorable', 'Poisonous')}"
      ]
     },
     "execution_count": 23,
     "metadata": {},
     "output_type": "execute_result"
    }
   ],
   "source": [
    "amphibians"
   ]
  },
  {
   "cell_type": "code",
   "execution_count": 2,
   "metadata": {
    "collapsed": false
   },
   "outputs": [
    {
     "data": {
      "text/plain": [
       "dict"
      ]
     },
     "execution_count": 2,
     "metadata": {},
     "output_type": "execute_result"
    }
   ],
   "source": [
    "type(amphibians)"
   ]
  },
  {
   "cell_type": "code",
   "execution_count": 3,
   "metadata": {
    "collapsed": true
   },
   "outputs": [],
   "source": [
    "this = {}"
   ]
  },
  {
   "cell_type": "code",
   "execution_count": 38,
   "metadata": {
    "collapsed": false
   },
   "outputs": [
    {
     "data": {
      "text/plain": [
       "('Flying', 'Laser')"
      ]
     },
     "execution_count": 38,
     "metadata": {},
     "output_type": "execute_result"
    }
   ],
   "source": [
    "amphibians['newt']            # Access an Element / READ / R"
   ]
  },
  {
   "cell_type": "code",
   "execution_count": 41,
   "metadata": {
    "collapsed": false
   },
   "outputs": [
    {
     "data": {
      "text/plain": [
       "['newt', 'diplocaulus', 'bullfrog', 'tree frog', 'salmander', 'axolotl']"
      ]
     },
     "execution_count": 41,
     "metadata": {},
     "output_type": "execute_result"
    }
   ],
   "source": [
    "list(amphibians.keys())"
   ]
  },
  {
   "cell_type": "code",
   "execution_count": 42,
   "metadata": {
    "collapsed": false
   },
   "outputs": [
    {
     "data": {
      "text/plain": [
       "[('Flying', 'Laser'),\n",
       " ('Funky', 'Triangular'),\n",
       " ('Loud', 'Obnoxious'),\n",
       " ('Adorable', 'Poisonous'),\n",
       " ('Tiny', 'Firey'),\n",
       " ('Cute', 'Gilly')]"
      ]
     },
     "execution_count": 42,
     "metadata": {},
     "output_type": "execute_result"
    }
   ],
   "source": [
    "list(amphibians.values())"
   ]
  },
  {
   "cell_type": "code",
   "execution_count": 44,
   "metadata": {
    "collapsed": false
   },
   "outputs": [
    {
     "name": "stdout",
     "output_type": "stream",
     "text": [
      "{'newt': ('Flying', 'Laser'), 'diplocaulus': ('Funky', 'Triangular'), 'bullfrog': ('Loud', 'Obnoxious'), 'tree frog': ('Adorable', 'Poisonous'), 'salmander': ('Tiny', 'Firey'), 'axolotl': ('Cute', 'Gilly')}\n"
     ]
    }
   ],
   "source": [
    "print(amphibians)"
   ]
  },
  {
   "cell_type": "code",
   "execution_count": 45,
   "metadata": {
    "collapsed": false
   },
   "outputs": [],
   "source": [
    "list(amphibians.items())"
   ]
  },
  {
   "cell_type": "code",
   "execution_count": 49,
   "metadata": {
    "collapsed": false
   },
   "outputs": [
    {
     "data": {
      "text/plain": [
       "{'a': 'n', 'b': 'o'}"
      ]
     },
     "execution_count": 49,
     "metadata": {},
     "output_type": "execute_result"
    }
   ],
   "source": [
    "codex = [('a', 'n'), ('b', 'o')]\n",
    "\n",
    "dict(codex)"
   ]
  },
  {
   "cell_type": "markdown",
   "metadata": {},
   "source": [
    "```\n",
    "0\tempty tuple\tunit / empty sequence\n",
    "1\tsingle\tsingleton / monuple\n",
    "2\tdouble\tcouple / (ordered) pair / dual / twin / product\n",
    "3\ttriple\ttreble / triplet / triad\n",
    "4\tquadruple\tquad\n",
    "5\tquintuple\tpentuple\n",
    "6\tsextuple\thextuple\n",
    "7\tseptuple\theptuple\n",
    "```"
   ]
  },
  {
   "cell_type": "code",
   "execution_count": 50,
   "metadata": {
    "collapsed": false
   },
   "outputs": [
    {
     "data": {
      "text/plain": [
       "{'axolotl': ('Cute', 'Gilly'),\n",
       " 'bullfrog': ('Loud', 'Obnoxious'),\n",
       " 'diplocaulus': ('Funky', 'Triangular'),\n",
       " 'newt': ('Flying', 'Laser'),\n",
       " 'salmander': ('Tiny', 'Firey'),\n",
       " 'tree frog': ('Adorable', 'Poisonous')}"
      ]
     },
     "execution_count": 50,
     "metadata": {},
     "output_type": "execute_result"
    }
   ],
   "source": [
    "amphibians"
   ]
  },
  {
   "cell_type": "code",
   "execution_count": 51,
   "metadata": {
    "collapsed": true
   },
   "outputs": [],
   "source": [
    "del amphibians['diplocaulus']"
   ]
  },
  {
   "cell_type": "code",
   "execution_count": 52,
   "metadata": {
    "collapsed": false
   },
   "outputs": [
    {
     "data": {
      "text/plain": [
       "{'axolotl': ('Cute', 'Gilly'),\n",
       " 'bullfrog': ('Loud', 'Obnoxious'),\n",
       " 'newt': ('Flying', 'Laser'),\n",
       " 'salmander': ('Tiny', 'Firey'),\n",
       " 'tree frog': ('Adorable', 'Poisonous')}"
      ]
     },
     "execution_count": 52,
     "metadata": {},
     "output_type": "execute_result"
    }
   ],
   "source": [
    "amphibians"
   ]
  },
  {
   "cell_type": "code",
   "execution_count": 53,
   "metadata": {
    "collapsed": true
   },
   "outputs": [],
   "source": [
    "mycopy = amphibians.copy()"
   ]
  },
  {
   "cell_type": "code",
   "execution_count": 54,
   "metadata": {
    "collapsed": false
   },
   "outputs": [
    {
     "data": {
      "text/plain": [
       "5"
      ]
     },
     "execution_count": 54,
     "metadata": {},
     "output_type": "execute_result"
    }
   ],
   "source": [
    "len(amphibians)"
   ]
  },
  {
   "cell_type": "code",
   "execution_count": 55,
   "metadata": {
    "collapsed": false
   },
   "outputs": [
    {
     "data": {
      "text/plain": [
       "True"
      ]
     },
     "execution_count": 55,
     "metadata": {},
     "output_type": "execute_result"
    }
   ],
   "source": [
    "'tree frog' in amphibians"
   ]
  },
  {
   "cell_type": "code",
   "execution_count": 56,
   "metadata": {
    "collapsed": false
   },
   "outputs": [
    {
     "data": {
      "text/plain": [
       "[(0, 'newt'),\n",
       " (1, 'bullfrog'),\n",
       " (2, 'tree frog'),\n",
       " (3, 'salmander'),\n",
       " (4, 'axolotl')]"
      ]
     },
     "execution_count": 56,
     "metadata": {},
     "output_type": "execute_result"
    }
   ],
   "source": [
    "list(enumerate(amphibians))"
   ]
  },
  {
   "cell_type": "code",
   "execution_count": 57,
   "metadata": {
    "collapsed": false
   },
   "outputs": [
    {
     "data": {
      "text/plain": [
       "'tree frog'"
      ]
     },
     "execution_count": 57,
     "metadata": {},
     "output_type": "execute_result"
    }
   ],
   "source": [
    "max(amphibians)"
   ]
  },
  {
   "cell_type": "code",
   "execution_count": 58,
   "metadata": {
    "collapsed": false
   },
   "outputs": [
    {
     "data": {
      "text/plain": [
       "'axolotl'"
      ]
     },
     "execution_count": 58,
     "metadata": {},
     "output_type": "execute_result"
    }
   ],
   "source": [
    "min(amphibians)"
   ]
  },
  {
   "cell_type": "code",
   "execution_count": 63,
   "metadata": {
    "collapsed": false
   },
   "outputs": [
    {
     "name": "stdout",
     "output_type": "stream",
     "text": [
      "axolotl-----***----('Cute', 'Gilly')\n",
      "bullfrog-----***----('Loud', 'Obnoxious')\n",
      "newt-----***----('Flying', 'Laser')\n",
      "salmander-----***----('Tiny', 'Firey')\n",
      "tree frog-----***----('Adorable', 'Poisonous')\n"
     ]
    }
   ],
   "source": [
    "for key in sorted(amphibians):\n",
    "    print(key, amphibians.get(key), sep='-----***----')"
   ]
  },
  {
   "cell_type": "code",
   "execution_count": 64,
   "metadata": {
    "collapsed": false
   },
   "outputs": [
    {
     "data": {
      "text/plain": [
       "['newt', 'bullfrog', 'tree frog', 'salmander', 'axolotl']"
      ]
     },
     "execution_count": 64,
     "metadata": {},
     "output_type": "execute_result"
    }
   ],
   "source": [
    "list(amphibians)"
   ]
  },
  {
   "cell_type": "code",
   "execution_count": 73,
   "metadata": {
    "collapsed": false
   },
   "outputs": [
    {
     "name": "stdout",
     "output_type": "stream",
     "text": [
      "newt\n",
      "bullfrog\n",
      "tree frog\n",
      "salmander\n",
      "axolotl\n"
     ]
    }
   ],
   "source": [
    "for key in amphibians:    # Loops over the keys\n",
    "    print(key)"
   ]
  },
  {
   "cell_type": "code",
   "execution_count": 74,
   "metadata": {
    "collapsed": false
   },
   "outputs": [
    {
     "name": "stdout",
     "output_type": "stream",
     "text": [
      "('Flying', 'Laser')\n",
      "('Loud', 'Obnoxious')\n",
      "('Adorable', 'Poisonous')\n",
      "('Tiny', 'Firey')\n",
      "('Cute', 'Gilly')\n"
     ]
    }
   ],
   "source": [
    "for key in amphibians:    # Loops over the keys\n",
    "    print(amphibians[key])"
   ]
  },
  {
   "cell_type": "code",
   "execution_count": 72,
   "metadata": {
    "collapsed": false
   },
   "outputs": [
    {
     "name": "stdout",
     "output_type": "stream",
     "text": [
      "('Flying', 'Laser')\n",
      "('Loud', 'Obnoxious')\n",
      "('Adorable', 'Poisonous')\n",
      "('Tiny', 'Firey')\n",
      "('Cute', 'Gilly')\n"
     ]
    }
   ],
   "source": [
    "for val in amphibians.values():\n",
    "    print(val)"
   ]
  },
  {
   "cell_type": "code",
   "execution_count": 75,
   "metadata": {
    "collapsed": false
   },
   "outputs": [
    {
     "data": {
      "text/plain": [
       "False"
      ]
     },
     "execution_count": 75,
     "metadata": {},
     "output_type": "execute_result"
    }
   ],
   "source": [
    "'salamander' in amphibians"
   ]
  },
  {
   "cell_type": "code",
   "execution_count": 85,
   "metadata": {
    "collapsed": false
   },
   "outputs": [
    {
     "name": "stdout",
     "output_type": "stream",
     "text": [
      "Flying -!&&!- Laser\n",
      "Loud -!&&!- Obnoxious\n",
      "Adorable -!&&!- Poisonous\n",
      "Tiny -!&&!- Firey\n",
      "Cute -!&&!- Gilly\n"
     ]
    }
   ],
   "source": [
    "for key, value in amphibians.items():\n",
    "    adj1, adj2 = value    # Twin Unpacking\n",
    "    print(adj1, adj2, sep=' -!&&!- ')\n",
    "#     print(key, value, sep=' =--=-=-=###-=-=--=- ')"
   ]
  },
  {
   "cell_type": "markdown",
   "metadata": {},
   "source": [
    "## Sets"
   ]
  },
  {
   "cell_type": "code",
   "execution_count": 9,
   "metadata": {
    "collapsed": false
   },
   "outputs": [],
   "source": [
    "inventory = ['snacks', 'skateboards',\n",
    "             'walkmans','skateboards',\n",
    "             'jumprope', 'skateboards']"
   ]
  },
  {
   "cell_type": "code",
   "execution_count": 11,
   "metadata": {
    "collapsed": false
   },
   "outputs": [
    {
     "data": {
      "text/plain": [
       "4"
      ]
     },
     "execution_count": 11,
     "metadata": {},
     "output_type": "execute_result"
    }
   ],
   "source": [
    "len(set(inventory))"
   ]
  },
  {
   "cell_type": "code",
   "execution_count": 13,
   "metadata": {
    "collapsed": true
   },
   "outputs": [],
   "source": [
    "day_1 = ['snacks', 'skateboards',\n",
    "             'walkmans','skateboards',\n",
    "             'jumprope', 'skateboards']\n",
    "\n",
    "day_2 = ['snacks', 'skateboards',\n",
    "         'walkmans','skateboards',\n",
    "         'jumprope', 'skateboards',\n",
    "         'gummy bears', 'berkenstocks',\n",
    "         'gummy bears']"
   ]
  },
  {
   "cell_type": "code",
   "execution_count": 16,
   "metadata": {
    "collapsed": false
   },
   "outputs": [],
   "source": [
    "day_1 = set(day_1)    # cast to set"
   ]
  },
  {
   "cell_type": "code",
   "execution_count": 17,
   "metadata": {
    "collapsed": false
   },
   "outputs": [],
   "source": [
    "day_2 = set(day_2)    # cast to set"
   ]
  },
  {
   "cell_type": "code",
   "execution_count": 24,
   "metadata": {
    "collapsed": false
   },
   "outputs": [
    {
     "data": {
      "text/plain": [
       "4"
      ]
     },
     "execution_count": 24,
     "metadata": {},
     "output_type": "execute_result"
    }
   ],
   "source": [
    "len(day_1)"
   ]
  },
  {
   "cell_type": "code",
   "execution_count": 25,
   "metadata": {
    "collapsed": false
   },
   "outputs": [
    {
     "data": {
      "text/plain": [
       "{'jumprope', 'skateboards', 'snacks', 'walkmans'}"
      ]
     },
     "execution_count": 25,
     "metadata": {},
     "output_type": "execute_result"
    }
   ],
   "source": [
    "day_1"
   ]
  },
  {
   "cell_type": "code",
   "execution_count": 26,
   "metadata": {
    "collapsed": false
   },
   "outputs": [
    {
     "data": {
      "text/plain": [
       "{'berkenstocks',\n",
       " 'gummy bears',\n",
       " 'jumprope',\n",
       " 'skateboards',\n",
       " 'snacks',\n",
       " 'walkmans'}"
      ]
     },
     "execution_count": 26,
     "metadata": {},
     "output_type": "execute_result"
    }
   ],
   "source": [
    "day_2"
   ]
  },
  {
   "cell_type": "code",
   "execution_count": 27,
   "metadata": {
    "collapsed": false
   },
   "outputs": [
    {
     "data": {
      "text/plain": [
       "{'jumprope', 'skateboards', 'snacks', 'walkmans'}"
      ]
     },
     "execution_count": 27,
     "metadata": {},
     "output_type": "execute_result"
    }
   ],
   "source": [
    "day_1.intersection(day_2)    # Common factors"
   ]
  },
  {
   "cell_type": "code",
   "execution_count": 32,
   "metadata": {
    "collapsed": false
   },
   "outputs": [
    {
     "data": {
      "text/plain": [
       "{'jumprope', 'skateboards', 'snacks', 'walkmans'}"
      ]
     },
     "execution_count": 32,
     "metadata": {},
     "output_type": "execute_result"
    }
   ],
   "source": [
    "day_1 & day_2"
   ]
  },
  {
   "cell_type": "code",
   "execution_count": 29,
   "metadata": {
    "collapsed": false
   },
   "outputs": [
    {
     "data": {
      "text/plain": [
       "{'berkenstocks', 'gummy bears'}"
      ]
     },
     "execution_count": 29,
     "metadata": {},
     "output_type": "execute_result"
    }
   ],
   "source": [
    "day_1.symmetric_difference(day_2)"
   ]
  },
  {
   "cell_type": "code",
   "execution_count": 31,
   "metadata": {
    "collapsed": false
   },
   "outputs": [
    {
     "data": {
      "text/plain": [
       "{'berkenstocks', 'gummy bears'}"
      ]
     },
     "execution_count": 31,
     "metadata": {},
     "output_type": "execute_result"
    }
   ],
   "source": [
    "day_1 ^ day_2"
   ]
  },
  {
   "cell_type": "code",
   "execution_count": null,
   "metadata": {
    "collapsed": true
   },
   "outputs": [],
   "source": [
    "day_1.difference"
   ]
  },
  {
   "cell_type": "code",
   "execution_count": 30,
   "metadata": {
    "collapsed": false
   },
   "outputs": [
    {
     "data": {
      "text/plain": [
       "set()"
      ]
     },
     "execution_count": 30,
     "metadata": {},
     "output_type": "execute_result"
    }
   ],
   "source": [
    "day_1 - day_2"
   ]
  },
  {
   "cell_type": "code",
   "execution_count": 33,
   "metadata": {
    "collapsed": false
   },
   "outputs": [
    {
     "data": {
      "text/plain": [
       "{'berkenstocks',\n",
       " 'gummy bears',\n",
       " 'jumprope',\n",
       " 'skateboards',\n",
       " 'snacks',\n",
       " 'walkmans'}"
      ]
     },
     "execution_count": 33,
     "metadata": {},
     "output_type": "execute_result"
    }
   ],
   "source": [
    "day_1.union(day_2)"
   ]
  },
  {
   "cell_type": "code",
   "execution_count": 35,
   "metadata": {
    "collapsed": false
   },
   "outputs": [
    {
     "data": {
      "text/plain": [
       "{'berkenstocks',\n",
       " 'gummy bears',\n",
       " 'jumprope',\n",
       " 'skateboards',\n",
       " 'snacks',\n",
       " 'walkmans'}"
      ]
     },
     "execution_count": 35,
     "metadata": {},
     "output_type": "execute_result"
    }
   ],
   "source": [
    "day_1 | day_2"
   ]
  },
  {
   "cell_type": "code",
   "execution_count": 36,
   "metadata": {
    "collapsed": false
   },
   "outputs": [
    {
     "data": {
      "text/plain": [
       "True"
      ]
     },
     "execution_count": 36,
     "metadata": {},
     "output_type": "execute_result"
    }
   ],
   "source": [
    "'snacks' in day_2"
   ]
  },
  {
   "cell_type": "markdown",
   "metadata": {},
   "source": [
    "### Set\n",
    "\n",
    "set lab: `unique.py`"
   ]
  },
  {
   "cell_type": "code",
   "execution_count": null,
   "metadata": {
    "collapsed": true
   },
   "outputs": [],
   "source": []
  },
  {
   "cell_type": "code",
   "execution_count": null,
   "metadata": {
    "collapsed": true
   },
   "outputs": [],
   "source": []
  },
  {
   "cell_type": "markdown",
   "metadata": {},
   "source": [
    "### Regular Expressions"
   ]
  },
  {
   "cell_type": "code",
   "execution_count": null,
   "metadata": {
    "collapsed": true
   },
   "outputs": [],
   "source": []
  },
  {
   "cell_type": "code",
   "execution_count": null,
   "metadata": {
    "collapsed": true
   },
   "outputs": [],
   "source": []
  },
  {
   "cell_type": "code",
   "execution_count": null,
   "metadata": {
    "collapsed": true
   },
   "outputs": [],
   "source": []
  },
  {
   "cell_type": "code",
   "execution_count": null,
   "metadata": {
    "collapsed": true
   },
   "outputs": [],
   "source": []
  },
  {
   "cell_type": "code",
   "execution_count": null,
   "metadata": {
    "collapsed": true
   },
   "outputs": [],
   "source": []
  },
  {
   "cell_type": "code",
   "execution_count": null,
   "metadata": {
    "collapsed": true
   },
   "outputs": [],
   "source": []
  },
  {
   "cell_type": "markdown",
   "metadata": {},
   "source": [
    "### The Data Problem\n",
    "\n",
    "1. Data Gathering\n",
    "1. Data Cleaning\n",
    "1. Data Validation\n",
    "1. Data Analysis\n",
    "1. Data Presentation"
   ]
  },
  {
   "cell_type": "code",
   "execution_count": null,
   "metadata": {
    "collapsed": true
   },
   "outputs": [],
   "source": []
  },
  {
   "cell_type": "code",
   "execution_count": null,
   "metadata": {
    "collapsed": true
   },
   "outputs": [],
   "source": []
  },
  {
   "cell_type": "code",
   "execution_count": null,
   "metadata": {
    "collapsed": true
   },
   "outputs": [],
   "source": []
  },
  {
   "cell_type": "code",
   "execution_count": null,
   "metadata": {
    "collapsed": true
   },
   "outputs": [],
   "source": []
  },
  {
   "cell_type": "code",
   "execution_count": null,
   "metadata": {
    "collapsed": true
   },
   "outputs": [],
   "source": []
  }
 ],
 "metadata": {
  "anaconda-cloud": {},
  "kernelspec": {
   "display_name": "Python [conda root]",
   "language": "python",
   "name": "conda-root-py"
  },
  "language_info": {
   "codemirror_mode": {
    "name": "ipython",
    "version": 3
   },
   "file_extension": ".py",
   "mimetype": "text/x-python",
   "name": "python",
   "nbconvert_exporter": "python",
   "pygments_lexer": "ipython3",
   "version": "3.5.2"
  },
  "widgets": {
   "state": {},
   "version": "1.1.2"
  }
 },
 "nbformat": 4,
 "nbformat_minor": 0
}
