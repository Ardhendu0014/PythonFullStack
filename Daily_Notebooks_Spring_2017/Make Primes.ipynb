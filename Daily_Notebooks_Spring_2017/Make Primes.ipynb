{
 "cells": [
  {
   "cell_type": "code",
   "execution_count": null,
   "metadata": {
    "collapsed": true
   },
   "outputs": [],
   "source": [
    "# Make a function\n",
    "# Function accepts a ceiling value\n",
    "# Create a range from 2 through the ceiling\n",
    "# Try to divide ever single number into each number in that range\n",
    "# If any num mod == 0, it is not prime.\n",
    "# Ie.. Try to diving every number up to itself."
   ]
  },
  {
   "cell_type": "code",
   "execution_count": 1,
   "metadata": {
    "collapsed": true
   },
   "outputs": [],
   "source": [
    "def is_prime(number: int) -> bool:\n",
    "\n",
    "    prime = True\n",
    "    \n",
    "    for num in range(2, number):\n",
    "        if number % num == 0:\n",
    "            prime = False\n",
    "            break\n",
    "        \n",
    "    return prime\n",
    "\n",
    "\n",
    "def make_primes(ceiling: int) -> list:\n",
    "    numbers = range(2, ceiling)\n",
    "    results = list()\n",
    "    for num in numbers:\n",
    "        if is_prime(num):\n",
    "            results.append(num)\n",
    "    return results"
   ]
  },
  {
   "cell_type": "code",
   "execution_count": 2,
   "metadata": {
    "collapsed": false
   },
   "outputs": [
    {
     "data": {
      "text/plain": [
       "[2, 3, 5, 7]"
      ]
     },
     "execution_count": 2,
     "metadata": {},
     "output_type": "execute_result"
    }
   ],
   "source": [
    "make_primes(10)"
   ]
  },
  {
   "cell_type": "code",
   "execution_count": null,
   "metadata": {
    "collapsed": true
   },
   "outputs": [],
   "source": []
  }
 ],
 "metadata": {
  "anaconda-cloud": {},
  "kernelspec": {
   "display_name": "Python [conda root]",
   "language": "python",
   "name": "conda-root-py"
  },
  "language_info": {
   "codemirror_mode": {
    "name": "ipython",
    "version": 3
   },
   "file_extension": ".py",
   "mimetype": "text/x-python",
   "name": "python",
   "nbconvert_exporter": "python",
   "pygments_lexer": "ipython3",
   "version": "3.5.2"
  },
  "widgets": {
   "state": {},
   "version": "1.1.2"
  }
 },
 "nbformat": 4,
 "nbformat_minor": 0
}
