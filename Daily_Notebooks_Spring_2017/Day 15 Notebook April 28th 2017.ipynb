{
 "cells": [
  {
   "cell_type": "markdown",
   "metadata": {},
   "source": [
    "# Lab Pool - The Bigger Picture\n",
    "\n",
    "All prior works (as always!) plus...\n",
    "\n",
    "---------------\n",
    "1. FizzBuzz\n",
    "1. Anagram Detector\n",
    "--------------\n",
    "1. Nest\n",
    "1. List Doubles\n",
    "1. Letter Locate\n",
    "1. Peaks and Valleys\n",
    "1. List Comp\n",
    "--------------\n",
    "1. Fibo List\n",
    "---------------\n",
    "1. Arb Args\n",
    "1. Functions II\n",
    "1. Shrink\n",
    "---------------\n",
    "1. Higher Order\n",
    "1. Quantify Words\n",
    "----------------\n",
    "1. Sum Pairs - Puzzle\n",
    "1. Last Join\n",
    "\n",
    "----------------\n",
    "1. Scrub\n",
    "----------------\n",
    "1. ARI\n",
    "1. Mimic\n",
    "1. Powerball\n",
    "----------------\n",
    "1. Phonebook\n",
    "1. Voting Booth\n",
    "----------------\n",
    "1. JSON I/O Practice\n",
    "1. Fun With Networks (Requests)\n",
    "----------------\n",
    "1. Rain Data\n",
    "1. Crime Data\n",
    "----------------\n",
    "\n"
   ]
  },
  {
   "cell_type": "markdown",
   "metadata": {},
   "source": [
    "# Shrink Hints"
   ]
  },
  {
   "cell_type": "code",
   "execution_count": 2,
   "metadata": {
    "collapsed": true
   },
   "outputs": [],
   "source": [
    "numbers = '3219847328957289'"
   ]
  },
  {
   "cell_type": "code",
   "execution_count": 3,
   "metadata": {
    "collapsed": false
   },
   "outputs": [
    {
     "data": {
      "text/plain": [
       "str"
      ]
     },
     "execution_count": 3,
     "metadata": {},
     "output_type": "execute_result"
    }
   ],
   "source": [
    "type(numbers)"
   ]
  },
  {
   "cell_type": "code",
   "execution_count": 8,
   "metadata": {
    "collapsed": true
   },
   "outputs": [],
   "source": [
    "exploded = list(numbers)"
   ]
  },
  {
   "cell_type": "code",
   "execution_count": 9,
   "metadata": {
    "collapsed": false
   },
   "outputs": [
    {
     "name": "stdout",
     "output_type": "stream",
     "text": [
      "['3', '2', '1', '9', '8', '4', '7', '3', '2', '8', '9', '5', '7', '2', '8', '9']\n"
     ]
    }
   ],
   "source": [
    "print(exploded)"
   ]
  },
  {
   "cell_type": "code",
   "execution_count": 11,
   "metadata": {
    "collapsed": false
   },
   "outputs": [
    {
     "ename": "TypeError",
     "evalue": "int() argument must be a string, a bytes-like object or a number, not 'list'",
     "output_type": "error",
     "traceback": [
      "\u001b[0;31m---------------------------------------------------------------------------\u001b[0m",
      "\u001b[0;31mTypeError\u001b[0m                                 Traceback (most recent call last)",
      "\u001b[0;32m<ipython-input-11-87eaa3a6f0ca>\u001b[0m in \u001b[0;36m<module>\u001b[0;34m()\u001b[0m\n\u001b[0;32m----> 1\u001b[0;31m \u001b[0mint\u001b[0m\u001b[0;34m(\u001b[0m\u001b[0mexploded\u001b[0m\u001b[0;34m)\u001b[0m\u001b[0;34m\u001b[0m\u001b[0m\n\u001b[0m",
      "\u001b[0;31mTypeError\u001b[0m: int() argument must be a string, a bytes-like object or a number, not 'list'"
     ]
    }
   ],
   "source": [
    "int(exploded)\n",
    "\n"
   ]
  },
  {
   "cell_type": "code",
   "execution_count": 10,
   "metadata": {
    "collapsed": false
   },
   "outputs": [
    {
     "ename": "TypeError",
     "evalue": "unsupported operand type(s) for +: 'int' and 'str'",
     "output_type": "error",
     "traceback": [
      "\u001b[0;31m---------------------------------------------------------------------------\u001b[0m",
      "\u001b[0;31mTypeError\u001b[0m                                 Traceback (most recent call last)",
      "\u001b[0;32m<ipython-input-10-81354f1b9c6f>\u001b[0m in \u001b[0;36m<module>\u001b[0;34m()\u001b[0m\n\u001b[0;32m----> 1\u001b[0;31m \u001b[0msum\u001b[0m\u001b[0;34m(\u001b[0m\u001b[0mexploded\u001b[0m\u001b[0;34m)\u001b[0m\u001b[0;34m\u001b[0m\u001b[0m\n\u001b[0m",
      "\u001b[0;31mTypeError\u001b[0m: unsupported operand type(s) for +: 'int' and 'str'"
     ]
    }
   ],
   "source": [
    "sum(exploded)"
   ]
  },
  {
   "cell_type": "code",
   "execution_count": 13,
   "metadata": {
    "collapsed": false
   },
   "outputs": [
    {
     "name": "stdout",
     "output_type": "stream",
     "text": [
      "['3', '2', '1', '9', '8', '4', '7', '3', '2', '8', '9', '5', '7', '2', '8', '9']\n"
     ]
    }
   ],
   "source": [
    "# Mapping Operation\n",
    "print(exploded)\n"
   ]
  },
  {
   "cell_type": "code",
   "execution_count": 53,
   "metadata": {
    "collapsed": false
   },
   "outputs": [],
   "source": [
    "def shrink(numbers: str) -> str:                      # PEP 484\n",
    "    \"\"\"\n",
    "    PEP 287 - Docstring Conventions\n",
    "    \"\"\"\n",
    "    shrunk = sum(int(num) for num in list(numbers))   # Short Circut\n",
    "    \n",
    "    if shrunk >= 10:\n",
    "        shrunk = str(shrunk)\n",
    "        # Then do again\n",
    "        shrink(shrunk)\n",
    "\n",
    "    else:\n",
    "        print(shrunk)\n",
    "        return shrunk"
   ]
  },
  {
   "cell_type": "code",
   "execution_count": 54,
   "metadata": {
    "collapsed": false
   },
   "outputs": [
    {
     "name": "stdout",
     "output_type": "stream",
     "text": [
      "8\n"
     ]
    }
   ],
   "source": [
    "shrink('318047831027')"
   ]
  },
  {
   "cell_type": "code",
   "execution_count": null,
   "metadata": {
    "collapsed": true
   },
   "outputs": [],
   "source": []
  },
  {
   "cell_type": "code",
   "execution_count": 31,
   "metadata": {
    "collapsed": true
   },
   "outputs": [],
   "source": [
    "result = [int(num) for num in exploded]"
   ]
  },
  {
   "cell_type": "code",
   "execution_count": 33,
   "metadata": {
    "collapsed": false
   },
   "outputs": [
    {
     "name": "stdout",
     "output_type": "stream",
     "text": [
      "3\n",
      "2\n",
      "1\n",
      "9\n",
      "8\n",
      "4\n",
      "7\n",
      "3\n",
      "2\n",
      "8\n",
      "9\n",
      "5\n",
      "7\n",
      "2\n",
      "8\n",
      "9\n"
     ]
    }
   ],
   "source": [
    "for i in result:\n",
    "    print(i)"
   ]
  },
  {
   "cell_type": "code",
   "execution_count": 34,
   "metadata": {
    "collapsed": false
   },
   "outputs": [],
   "source": [
    "gen_result = (int(num) for num in exploded)"
   ]
  },
  {
   "cell_type": "code",
   "execution_count": 36,
   "metadata": {
    "collapsed": false
   },
   "outputs": [],
   "source": [
    "for z in gen_result:\n",
    "    print(z)"
   ]
  },
  {
   "cell_type": "code",
   "execution_count": 7,
   "metadata": {
    "collapsed": true
   },
   "outputs": [
    {
     "name": "stdout",
     "output_type": "stream",
     "text": [
      "3 <class 'str'>\n",
      "2 <class 'str'>\n",
      "1 <class 'str'>\n",
      "9 <class 'str'>\n",
      "8 <class 'str'>\n",
      "4 <class 'str'>\n",
      "7 <class 'str'>\n",
      "3 <class 'str'>\n",
      "2 <class 'str'>\n",
      "8 <class 'str'>\n",
      "9 <class 'str'>\n",
      "5 <class 'str'>\n",
      "7 <class 'str'>\n",
      "2 <class 'str'>\n",
      "8 <class 'str'>\n",
      "9 <class 'str'>\n"
     ]
    }
   ],
   "source": [
    "for z in numbers:\n",
    "    print(z, type(z))"
   ]
  },
  {
   "cell_type": "code",
   "execution_count": 4,
   "metadata": {
    "collapsed": false
   },
   "outputs": [
    {
     "ename": "TypeError",
     "evalue": "unsupported operand type(s) for +: 'int' and 'str'",
     "output_type": "error",
     "traceback": [
      "\u001b[0;31m---------------------------------------------------------------------------\u001b[0m",
      "\u001b[0;31mTypeError\u001b[0m                                 Traceback (most recent call last)",
      "\u001b[0;32m<ipython-input-4-73ee437a0094>\u001b[0m in \u001b[0;36m<module>\u001b[0;34m()\u001b[0m\n\u001b[0;32m----> 1\u001b[0;31m \u001b[0msum\u001b[0m\u001b[0;34m(\u001b[0m\u001b[0mnumbers\u001b[0m\u001b[0;34m)\u001b[0m\u001b[0;34m\u001b[0m\u001b[0m\n\u001b[0m",
      "\u001b[0;31mTypeError\u001b[0m: unsupported operand type(s) for +: 'int' and 'str'"
     ]
    }
   ],
   "source": [
    "sum(numbers)"
   ]
  },
  {
   "cell_type": "markdown",
   "metadata": {},
   "source": [
    "# Kwargs! Keyword Arguments"
   ]
  },
  {
   "cell_type": "code",
   "execution_count": 55,
   "metadata": {
    "collapsed": true
   },
   "outputs": [],
   "source": [
    "### Args vs Kwargs... What is the difference?"
   ]
  },
  {
   "cell_type": "markdown",
   "metadata": {},
   "source": [
    "# Kwargs at Call Time / Invocation"
   ]
  },
  {
   "cell_type": "code",
   "execution_count": 57,
   "metadata": {
    "collapsed": true
   },
   "outputs": [],
   "source": [
    "def initely(this, that, this_and):\n",
    "    \"\"\"\n",
    "    A function that has exactly Three(3) REQUIRED arguments.\n",
    "    \"\"\"\n",
    "    print(this, that, this_and)"
   ]
  },
  {
   "cell_type": "code",
   "execution_count": 65,
   "metadata": {
    "collapsed": false
   },
   "outputs": [
    {
     "name": "stdout",
     "output_type": "stream",
     "text": [
      "mouse screen HDMI cord\n"
     ]
    }
   ],
   "source": [
    "initely('mouse', that='screen', this_and='HDMI cord')"
   ]
  },
  {
   "cell_type": "code",
   "execution_count": null,
   "metadata": {
    "collapsed": true
   },
   "outputs": [],
   "source": []
  },
  {
   "cell_type": "markdown",
   "metadata": {},
   "source": [
    "# Setting a default parameter with keyword arguments"
   ]
  },
  {
   "cell_type": "code",
   "execution_count": 87,
   "metadata": {
    "collapsed": true
   },
   "outputs": [],
   "source": [
    "def er(ent, ce=0, it=0, xx=0, xy=0):\n",
    "    return ent + ce + it + xx + xy\n",
    "    "
   ]
  },
  {
   "cell_type": "code",
   "execution_count": 89,
   "metadata": {
    "collapsed": false
   },
   "outputs": [
    {
     "data": {
      "text/plain": [
       "14"
      ]
     },
     "execution_count": 89,
     "metadata": {},
     "output_type": "execute_result"
    }
   ],
   "source": [
    "er(9, 2, 3)"
   ]
  },
  {
   "cell_type": "code",
   "execution_count": null,
   "metadata": {
    "collapsed": true
   },
   "outputs": [],
   "source": [
    "\n",
    "\n"
   ]
  },
  {
   "cell_type": "code",
   "execution_count": 114,
   "metadata": {
    "collapsed": false
   },
   "outputs": [],
   "source": [
    "famous_physicists = ['Feynman', 'Einstein', 'Planck', 'DeGrass Tyson']\n",
    "\n",
    "songs_with_memorable_riff = [('Queen', 'We Will Rock You'),\n",
    "                             ('Leonard Skynard', 'Freebird'),\n",
    "                             ('Beatles', 'Shes So Heavy'),\n",
    "                             ('Led Zepplin', 'Kashmir'),\n",
    "                             ('Jimi Hendrix', 'The Wind Cries Mary'),\n",
    "                            ]\n",
    "\n",
    "lead_singers_for_black_sabbath = [[12, 'Ronny James Dio', 80],\n",
    "                                  [200, 'Ozzy Osbourne', 70],\n",
    "                                  [3, 'Ian Gillan', 90]]"
   ]
  },
  {
   "cell_type": "code",
   "execution_count": 115,
   "metadata": {
    "collapsed": false
   },
   "outputs": [],
   "source": [
    "for i, person in enumerate(lead_singers_for_black_sabbath):\n",
    "    lead_singers_for_black_sabbath[i][0] = i    # Item assignment"
   ]
  },
  {
   "cell_type": "code",
   "execution_count": 116,
   "metadata": {
    "collapsed": false
   },
   "outputs": [
    {
     "data": {
      "text/plain": [
       "[[0, 'Ronny James Dio', 80], [1, 'Ozzy Osbourne', 70], [2, 'Ian Gillan', 90]]"
      ]
     },
     "execution_count": 116,
     "metadata": {},
     "output_type": "execute_result"
    }
   ],
   "source": [
    "lead_singers_for_black_sabbath"
   ]
  },
  {
   "cell_type": "markdown",
   "metadata": {},
   "source": [
    "- post 70's black sabbath singers\n",
    "- songs with at least two words\n",
    "- last names of physicists who have an 'ie' or 'ei' combo contained.\n",
    "- one word songs\n",
    "- lead singers with three word names\n",
    "- just songs\n",
    "- just black sabbath singers and years\n",
    "- Physicists who have x y or z in thier name\n",
    "- All elements from all structures with two words"
   ]
  },
  {
   "cell_type": "code",
   "execution_count": 117,
   "metadata": {
    "collapsed": false
   },
   "outputs": [
    {
     "name": "stdout",
     "output_type": "stream",
     "text": [
      "[[0, 'Ronny James Dio', 80], [1, 'Ozzy Osbourne', 70], [2, 'Ian Gillan', 90]]\n"
     ]
    }
   ],
   "source": [
    "print(lead_singers_for_black_sabbath)"
   ]
  },
  {
   "cell_type": "code",
   "execution_count": 126,
   "metadata": {
    "collapsed": false
   },
   "outputs": [
    {
     "data": {
      "text/plain": [
       "['Ronny James Dio', 'Ian Gillan']"
      ]
     },
     "execution_count": 126,
     "metadata": {},
     "output_type": "execute_result"
    }
   ],
   "source": [
    "[vocalist[1] for vocalist in lead_singers_for_black_sabbath if vocalist[2] > 70]"
   ]
  },
  {
   "cell_type": "code",
   "execution_count": 121,
   "metadata": {
    "collapsed": false
   },
   "outputs": [
    {
     "name": "stdout",
     "output_type": "stream",
     "text": [
      "[('Queen', 'We Will Rock You'), ('Leonard Skynard', 'Freebird'), ('Beatles', 'Shes So Heavy'), ('Led Zepplin', 'Kashmir'), ('Jimi Hendrix', 'The Wind Cries Mary')]\n"
     ]
    }
   ],
   "source": [
    "print(songs_with_memorable_riff)"
   ]
  },
  {
   "cell_type": "code",
   "execution_count": 127,
   "metadata": {
    "collapsed": false
   },
   "outputs": [
    {
     "data": {
      "text/plain": [
       "[{'Queen', 'We Will Rock You'},\n",
       " {'Beatles', 'Shes So Heavy'},\n",
       " {'Jimi Hendrix', 'The Wind Cries Mary'}]"
      ]
     },
     "execution_count": 127,
     "metadata": {},
     "output_type": "execute_result"
    }
   ],
   "source": [
    "[{song[1], song[0]} for song in songs_with_memorable_riff if song[1].count(' ') >= 2]"
   ]
  },
  {
   "cell_type": "code",
   "execution_count": 128,
   "metadata": {
    "collapsed": false
   },
   "outputs": [
    {
     "name": "stdout",
     "output_type": "stream",
     "text": [
      "['Feynman', 'Einstein', 'Planck', 'DeGrass Tyson']\n"
     ]
    }
   ],
   "source": [
    "print(famous_physicists)"
   ]
  },
  {
   "cell_type": "code",
   "execution_count": 129,
   "metadata": {
    "collapsed": false
   },
   "outputs": [
    {
     "data": {
      "text/plain": [
       "['Einstein']"
      ]
     },
     "execution_count": 129,
     "metadata": {},
     "output_type": "execute_result"
    }
   ],
   "source": [
    "[phys for phys in famous_physicists if 'ie' in phys or 'ei' in phys]"
   ]
  },
  {
   "cell_type": "code",
   "execution_count": null,
   "metadata": {
    "collapsed": true
   },
   "outputs": [],
   "source": []
  },
  {
   "cell_type": "code",
   "execution_count": 130,
   "metadata": {
    "collapsed": false
   },
   "outputs": [
    {
     "name": "stdout",
     "output_type": "stream",
     "text": [
      "[('Queen', 'We Will Rock You'), ('Leonard Skynard', 'Freebird'), ('Beatles', 'Shes So Heavy'), ('Led Zepplin', 'Kashmir'), ('Jimi Hendrix', 'The Wind Cries Mary')]\n"
     ]
    }
   ],
   "source": [
    "print(songs_with_memorable_riff)"
   ]
  },
  {
   "cell_type": "code",
   "execution_count": 135,
   "metadata": {
    "collapsed": false
   },
   "outputs": [
    {
     "data": {
      "text/plain": [
       "['Freebird', 'Kashmir']"
      ]
     },
     "execution_count": 135,
     "metadata": {},
     "output_type": "execute_result"
    }
   ],
   "source": [
    "[song[1] for song in songs_with_memorable_riff if ' ' not in song[1]]"
   ]
  },
  {
   "cell_type": "code",
   "execution_count": 136,
   "metadata": {
    "collapsed": false
   },
   "outputs": [
    {
     "name": "stdout",
     "output_type": "stream",
     "text": [
      "[('Queen', 'We Will Rock You'), ('Leonard Skynard', 'Freebird'), ('Beatles', 'Shes So Heavy'), ('Led Zepplin', 'Kashmir'), ('Jimi Hendrix', 'The Wind Cries Mary')]\n"
     ]
    }
   ],
   "source": [
    "print(songs_with_memorable_riff)"
   ]
  },
  {
   "cell_type": "code",
   "execution_count": 141,
   "metadata": {
    "collapsed": false
   },
   "outputs": [
    {
     "data": {
      "text/plain": [
       "['We Will Rock You',\n",
       " 'Freebird',\n",
       " 'Shes So Heavy',\n",
       " 'Kashmir',\n",
       " 'The Wind Cries Mary']"
      ]
     },
     "execution_count": 141,
     "metadata": {},
     "output_type": "execute_result"
    }
   ],
   "source": [
    "# songs_with_memorable_riff[2]\n",
    "\n",
    "[song[1] for song in songs_with_memorable_riff]"
   ]
  },
  {
   "cell_type": "code",
   "execution_count": 142,
   "metadata": {
    "collapsed": false
   },
   "outputs": [
    {
     "name": "stdout",
     "output_type": "stream",
     "text": [
      "[[0, 'Ronny James Dio', 80], [1, 'Ozzy Osbourne', 70], [2, 'Ian Gillan', 90]]\n"
     ]
    },
    {
     "data": {
      "text/plain": [
       "[None]"
      ]
     },
     "execution_count": 142,
     "metadata": {},
     "output_type": "execute_result"
    }
   ],
   "source": [
    "[print(lead_singers_for_black_sabbath)]"
   ]
  },
  {
   "cell_type": "code",
   "execution_count": 155,
   "metadata": {
    "collapsed": false
   },
   "outputs": [],
   "source": [
    "result = dict((singer[1], singer[2]) for singer in lead_singers_for_black_sabbath)"
   ]
  },
  {
   "cell_type": "code",
   "execution_count": 156,
   "metadata": {
    "collapsed": false
   },
   "outputs": [
    {
     "data": {
      "text/plain": [
       "{'Ian Gillan': 90, 'Ozzy Osbourne': 70, 'Ronny James Dio': 80}"
      ]
     },
     "execution_count": 156,
     "metadata": {},
     "output_type": "execute_result"
    }
   ],
   "source": [
    "result"
   ]
  },
  {
   "cell_type": "code",
   "execution_count": 163,
   "metadata": {
    "collapsed": false
   },
   "outputs": [],
   "source": [
    "result['Ian Gillan'] = 90"
   ]
  },
  {
   "cell_type": "code",
   "execution_count": 164,
   "metadata": {
    "collapsed": false
   },
   "outputs": [
    {
     "data": {
      "text/plain": [
       "{'Ian Gillan': 90, 'Ozzy Osbourne': 70, 'Ronny James Dio': 80}"
      ]
     },
     "execution_count": 164,
     "metadata": {},
     "output_type": "execute_result"
    }
   ],
   "source": [
    "result"
   ]
  },
  {
   "cell_type": "code",
   "execution_count": 165,
   "metadata": {
    "collapsed": false
   },
   "outputs": [
    {
     "name": "stdout",
     "output_type": "stream",
     "text": [
      "['Feynman', 'Einstein', 'Planck', 'DeGrass Tyson']\n"
     ]
    }
   ],
   "source": [
    "print(famous_physicists)"
   ]
  },
  {
   "cell_type": "code",
   "execution_count": 167,
   "metadata": {
    "collapsed": false
   },
   "outputs": [
    {
     "data": {
      "text/plain": [
       "['Feynman', 'DeGrass Tyson']"
      ]
     },
     "execution_count": 167,
     "metadata": {},
     "output_type": "execute_result"
    }
   ],
   "source": [
    "[phys for phys in famous_physicists if any(['x' in phys, 'y' in phys, 'z' in phys])]"
   ]
  },
  {
   "cell_type": "code",
   "execution_count": 169,
   "metadata": {
    "collapsed": false
   },
   "outputs": [
    {
     "data": {
      "text/plain": [
       "True"
      ]
     },
     "execution_count": 169,
     "metadata": {},
     "output_type": "execute_result"
    }
   ],
   "source": [
    "any([False, False, True])"
   ]
  },
  {
   "cell_type": "code",
   "execution_count": 170,
   "metadata": {
    "collapsed": false
   },
   "outputs": [
    {
     "data": {
      "text/plain": [
       "False"
      ]
     },
     "execution_count": 170,
     "metadata": {},
     "output_type": "execute_result"
    }
   ],
   "source": [
    "all([False, False, True])"
   ]
  },
  {
   "cell_type": "code",
   "execution_count": 171,
   "metadata": {
    "collapsed": false
   },
   "outputs": [
    {
     "data": {
      "text/plain": [
       "[('Feynman', [0, 'Ronny James Dio', 80], ('Queen', 'We Will Rock You')),\n",
       " ('Einstein', [1, 'Ozzy Osbourne', 70], ('Leonard Skynard', 'Freebird')),\n",
       " ('Planck', [2, 'Ian Gillan', 90], ('Beatles', 'Shes So Heavy'))]"
      ]
     },
     "execution_count": 171,
     "metadata": {},
     "output_type": "execute_result"
    }
   ],
   "source": [
    "list(zip(famous_physicists, lead_singers_for_black_sabbath, songs_with_memorable_riff))"
   ]
  },
  {
   "cell_type": "code",
   "execution_count": 172,
   "metadata": {
    "collapsed": true
   },
   "outputs": [],
   "source": [
    "from itertools import chain\n",
    "\n"
   ]
  },
  {
   "cell_type": "code",
   "execution_count": 184,
   "metadata": {
    "collapsed": false
   },
   "outputs": [
    {
     "name": "stdout",
     "output_type": "stream",
     "text": [
      "[0, 'Ronny James Dio', 80, 1, 'Ozzy Osbourne', 70, 2, 'Ian Gillan', 90]\n"
     ]
    }
   ],
   "source": [
    "flat_vocalists = list(chain.from_iterable(lead_singers_for_black_sabbath))\n",
    "print(flat_vocalists)"
   ]
  },
  {
   "cell_type": "code",
   "execution_count": 186,
   "metadata": {
    "collapsed": false
   },
   "outputs": [
    {
     "name": "stdout",
     "output_type": "stream",
     "text": [
      "['Queen', 'We Will Rock You', 'Leonard Skynard', 'Freebird', 'Beatles', 'Shes So Heavy', 'Led Zepplin', 'Kashmir', 'Jimi Hendrix', 'The Wind Cries Mary']\n"
     ]
    }
   ],
   "source": [
    "flat_songs = list(chain.from_iterable(songs_with_memorable_riff))\n",
    "print(flat_songs)"
   ]
  },
  {
   "cell_type": "code",
   "execution_count": 189,
   "metadata": {
    "collapsed": true
   },
   "outputs": [],
   "source": [
    "mystuff = famous_physicists + flat_songs + flat_vocalists"
   ]
  },
  {
   "cell_type": "code",
   "execution_count": 190,
   "metadata": {
    "collapsed": false
   },
   "outputs": [
    {
     "name": "stdout",
     "output_type": "stream",
     "text": [
      "['Feynman', 'Einstein', 'Planck', 'DeGrass Tyson', 'Queen', 'We Will Rock You', 'Leonard Skynard', 'Freebird', 'Beatles', 'Shes So Heavy', 'Led Zepplin', 'Kashmir', 'Jimi Hendrix', 'The Wind Cries Mary', 0, 'Ronny James Dio', 80, 1, 'Ozzy Osbourne', 70, 2, 'Ian Gillan', 90]\n"
     ]
    }
   ],
   "source": [
    "print(mystuff)"
   ]
  },
  {
   "cell_type": "code",
   "execution_count": 193,
   "metadata": {
    "collapsed": false
   },
   "outputs": [
    {
     "data": {
      "text/plain": [
       "['DeGrass Tyson',\n",
       " 'Leonard Skynard',\n",
       " 'Led Zepplin',\n",
       " 'Jimi Hendrix',\n",
       " 'Ozzy Osbourne',\n",
       " 'Ian Gillan']"
      ]
     },
     "execution_count": 193,
     "metadata": {},
     "output_type": "execute_result"
    }
   ],
   "source": [
    "[thing for thing in mystuff if str(thing).count(' ') == 1]"
   ]
  },
  {
   "cell_type": "code",
   "execution_count": null,
   "metadata": {
    "collapsed": true
   },
   "outputs": [],
   "source": []
  },
  {
   "cell_type": "code",
   "execution_count": null,
   "metadata": {
    "collapsed": true
   },
   "outputs": [],
   "source": []
  },
  {
   "cell_type": "markdown",
   "metadata": {},
   "source": [
    "# Sequence functions"
   ]
  },
  {
   "cell_type": "markdown",
   "metadata": {},
   "source": [
    "- `all()`           -> bool\n",
    "- `any()`           -> bool\n",
    "- `enumerate()`     -> generator (list of tuples)\n",
    "- `filter()`        -> generator (list)\n",
    "- `len()`           -> int\n",
    "- `map()`           -> generator (mapped list)\n",
    "- `max()`           -> int/str/keyfunc\n",
    "- `min()`           -> int/str/keyfunc\n",
    "- `reversed()`      -> Generator (Reversed inout iterable)\n",
    "- `sorted()`        -> list\n",
    "- `sum()`           -> int\n",
    "- `zip()`           -> Generator (list of tuples)"
   ]
  },
  {
   "cell_type": "markdown",
   "metadata": {},
   "source": [
    "# Type Casters\n",
    "\n",
    "\n",
    "- `dict()`          -> new dict\n",
    "- `frozenset()`     -> fronzenset\n",
    "- `list()`          -> list\n",
    "- `object()`        -> object\n",
    "- `set()`           -> set\n",
    "- `tuple()`         -> tuple\n",
    "- `str()`           -> str"
   ]
  },
  {
   "cell_type": "markdown",
   "metadata": {},
   "source": [
    "# Not sure yet\n",
    "\n",
    "- `next()`          -> Next element in a generator\n",
    "- `iter()`          -> iterable object\n",
    "- `oct()`           -> str\n",
    "- `open()`          -> File Object (Generator)\n",
    "- `print()`         -> None\n"
   ]
  },
  {
   "cell_type": "code",
   "execution_count": 195,
   "metadata": {
    "collapsed": false
   },
   "outputs": [
    {
     "data": {
      "text/plain": [
       "'0o52'"
      ]
     },
     "execution_count": 195,
     "metadata": {},
     "output_type": "execute_result"
    }
   ],
   "source": [
    "oct(42)"
   ]
  },
  {
   "cell_type": "code",
   "execution_count": 203,
   "metadata": {
    "collapsed": false
   },
   "outputs": [
    {
     "data": {
      "text/plain": [
       "[1, 'Ozzy Osbourne', 70]"
      ]
     },
     "execution_count": 203,
     "metadata": {},
     "output_type": "execute_result"
    }
   ],
   "source": [
    "lead_singers_for_black_sabbath[0+1]"
   ]
  },
  {
   "cell_type": "code",
   "execution_count": 204,
   "metadata": {
    "collapsed": true
   },
   "outputs": [],
   "source": [
    "import string\n",
    "\n"
   ]
  },
  {
   "cell_type": "code",
   "execution_count": 214,
   "metadata": {
    "collapsed": false
   },
   "outputs": [
    {
     "name": "stdout",
     "output_type": "stream",
     "text": [
      "abcdefghijklmnopqrstuvwxyz\n",
      "nopqrstuvwxyzabcdefghijklm\n",
      "y\n",
      "e\n",
      "s\n"
     ]
    }
   ],
   "source": [
    "alphabet = string.ascii_lowercase\n",
    "print(alphabet)\n",
    "\n",
    "codex = alphabet[13:] + alphabet[:13]\n",
    "print(codex)\n",
    "\n",
    "encrypted = 'Lrf'.lower()\n",
    "\n",
    "for char in encrypted:\n",
    "    index_in_codex = codex.index(char)\n",
    "    decrypted_char = alphabet[index_in_codex]\n",
    "    print(decrypted_char)"
   ]
  },
  {
   "cell_type": "code",
   "execution_count": 206,
   "metadata": {
    "collapsed": false
   },
   "outputs": [
    {
     "name": "stdout",
     "output_type": "stream",
     "text": [
      "abcdefghijklmnopqrstuvwxyz\n"
     ]
    }
   ],
   "source": []
  },
  {
   "cell_type": "code",
   "execution_count": 211,
   "metadata": {
    "collapsed": false
   },
   "outputs": [
    {
     "data": {
      "text/plain": [
       "3"
      ]
     },
     "execution_count": 211,
     "metadata": {},
     "output_type": "execute_result"
    }
   ],
   "source": [
    "'llams'.index('m')"
   ]
  },
  {
   "cell_type": "code",
   "execution_count": null,
   "metadata": {
    "collapsed": true
   },
   "outputs": [],
   "source": []
  },
  {
   "cell_type": "code",
   "execution_count": 216,
   "metadata": {
    "collapsed": true
   },
   "outputs": [],
   "source": [
    "a, b = (True, None)"
   ]
  },
  {
   "cell_type": "code",
   "execution_count": 217,
   "metadata": {
    "collapsed": false
   },
   "outputs": [
    {
     "data": {
      "text/plain": [
       "True"
      ]
     },
     "execution_count": 217,
     "metadata": {},
     "output_type": "execute_result"
    }
   ],
   "source": [
    "a\n"
   ]
  },
  {
   "cell_type": "code",
   "execution_count": 227,
   "metadata": {
    "collapsed": false
   },
   "outputs": [
    {
     "data": {
      "text/plain": [
       "[(42, 'k'), (43, 'i'), (44, 'e'), (45, 'r'), (46, 'a'), (47, 'n')]"
      ]
     },
     "execution_count": 227,
     "metadata": {},
     "output_type": "execute_result"
    }
   ],
   "source": [
    "list(enumerate('kieran', 42))"
   ]
  },
  {
   "cell_type": "code",
   "execution_count": 225,
   "metadata": {
    "collapsed": false
   },
   "outputs": [
    {
     "name": "stdout",
     "output_type": "stream",
     "text": [
      "42 M\n",
      "43 i\n",
      "44 c\n",
      "45 h\n",
      "46 a\n",
      "47 e\n",
      "48 l\n"
     ]
    }
   ],
   "source": [
    "for a, b in enumerate('Michael', 42):\n",
    "    print(a, b)"
   ]
  },
  {
   "cell_type": "code",
   "execution_count": 220,
   "metadata": {
    "collapsed": true
   },
   "outputs": [],
   "source": [
    "a, b = (0, 'M')\n",
    "a, b = (1, 'i')"
   ]
  },
  {
   "cell_type": "code",
   "execution_count": 221,
   "metadata": {
    "collapsed": false
   },
   "outputs": [
    {
     "data": {
      "text/plain": [
       "0"
      ]
     },
     "execution_count": 221,
     "metadata": {},
     "output_type": "execute_result"
    }
   ],
   "source": [
    "a"
   ]
  },
  {
   "cell_type": "code",
   "execution_count": 222,
   "metadata": {
    "collapsed": false
   },
   "outputs": [
    {
     "data": {
      "text/plain": [
       "'M'"
      ]
     },
     "execution_count": 222,
     "metadata": {},
     "output_type": "execute_result"
    }
   ],
   "source": [
    "b"
   ]
  },
  {
   "cell_type": "code",
   "execution_count": 228,
   "metadata": {
    "collapsed": false
   },
   "outputs": [
    {
     "data": {
      "text/plain": [
       "'llamas'"
      ]
     },
     "execution_count": 228,
     "metadata": {},
     "output_type": "execute_result"
    }
   ],
   "source": [
    "word = 'llamas'\n",
    "\n",
    "word"
   ]
  },
  {
   "cell_type": "code",
   "execution_count": null,
   "metadata": {
    "collapsed": true
   },
   "outputs": [],
   "source": [
    "f'{x}'"
   ]
  },
  {
   "cell_type": "code",
   "execution_count": 229,
   "metadata": {
    "collapsed": true
   },
   "outputs": [],
   "source": [
    "myfunc = lambda w: w[-1]"
   ]
  },
  {
   "cell_type": "code",
   "execution_count": null,
   "metadata": {
    "collapsed": true
   },
   "outputs": [],
   "source": []
  }
 ],
 "metadata": {
  "anaconda-cloud": {},
  "kernelspec": {
   "display_name": "Python [conda root]",
   "language": "python",
   "name": "conda-root-py"
  },
  "language_info": {
   "codemirror_mode": {
    "name": "ipython",
    "version": 3
   },
   "file_extension": ".py",
   "mimetype": "text/x-python",
   "name": "python",
   "nbconvert_exporter": "python",
   "pygments_lexer": "ipython3",
   "version": "3.5.2"
  },
  "widgets": {
   "state": {},
   "version": "1.1.2"
  }
 },
 "nbformat": 4,
 "nbformat_minor": 0
}
