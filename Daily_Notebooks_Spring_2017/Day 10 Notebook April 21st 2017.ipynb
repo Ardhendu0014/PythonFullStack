{
 "cells": [
  {
   "cell_type": "markdown",
   "metadata": {},
   "source": [
    "# Lab Pool\n",
    "\n",
    "All prior works (as always!) plus...\n",
    "\n",
    "--------------\n",
    "1. List Intro\n",
    "1. Looping Patterns\n",
    "1. Together\n",
    "---------------\n",
    "1. List Practice\n",
    "1. List Practice 2\n",
    "---------------\n",
    "1. Credit\n",
    "1. Magic Ball\n",
    "1. Guess The Number\n",
    "1. FizzBuzz\n",
    "--------------\n",
    "\n",
    "\n"
   ]
  },
  {
   "cell_type": "markdown",
   "metadata": {},
   "source": [
    "### Keeping track of variable values while overideing in a loop"
   ]
  },
  {
   "cell_type": "code",
   "execution_count": 1,
   "metadata": {
    "collapsed": false
   },
   "outputs": [
    {
     "name": "stdout",
     "output_type": "stream",
     "text": [
      "0\n",
      "1\n",
      "2\n",
      "3\n",
      "4\n",
      "5\n",
      "6\n",
      "7\n",
      "8\n",
      "9\n"
     ]
    }
   ],
   "source": [
    "for i in range(10):     # i is assigned on this line. it is 'each' int in the range.\n",
    "    i * 2               # <<< Oops! Forgot to capture the return value of this line!\n",
    "    print(i)            # Print out the original i."
   ]
  },
  {
   "cell_type": "code",
   "execution_count": 2,
   "metadata": {
    "collapsed": false
   },
   "outputs": [
    {
     "name": "stdout",
     "output_type": "stream",
     "text": [
      "9\n"
     ]
    }
   ],
   "source": [
    "print(i)                # 'Leaky Loop'.  I still retains it's last value from the for loop above."
   ]
  },
  {
   "cell_type": "code",
   "execution_count": 3,
   "metadata": {
    "collapsed": false
   },
   "outputs": [
    {
     "name": "stdout",
     "output_type": "stream",
     "text": [
      "3\n"
     ]
    }
   ],
   "source": [
    "x = 3    # Assignment\n",
    "x + 3    # + -> add() -> int.__add__()\n",
    "print(x)"
   ]
  },
  {
   "cell_type": "code",
   "execution_count": 4,
   "metadata": {
    "collapsed": true
   },
   "outputs": [],
   "source": [
    "from operator import add"
   ]
  },
  {
   "cell_type": "code",
   "execution_count": 5,
   "metadata": {
    "collapsed": false
   },
   "outputs": [
    {
     "data": {
      "text/plain": [
       "3"
      ]
     },
     "execution_count": 5,
     "metadata": {},
     "output_type": "execute_result"
    }
   ],
   "source": [
    "add(1, 2)"
   ]
  },
  {
   "cell_type": "code",
   "execution_count": 6,
   "metadata": {
    "collapsed": false
   },
   "outputs": [
    {
     "name": "stdout",
     "output_type": "stream",
     "text": [
      "pre loop\n",
      "inside loop post-change 0\n",
      "inside loop post-change 2\n",
      "inside loop post-change 4\n",
      "inside loop post-change 6\n",
      "inside loop post-change 8\n",
      "inside loop post-change 10\n",
      "inside loop post-change 12\n",
      "inside loop post-change 14\n",
      "inside loop post-change 16\n",
      "inside loop post-change 18\n",
      "post loop 18\n"
     ]
    }
   ],
   "source": [
    "print('pre loop')\n",
    "\n",
    "for i in range(10):\n",
    "#     print('inside loop pre-change', i)\n",
    "    i = i * 2\n",
    "    print('inside loop post-change', i)\n",
    "    \n",
    "print('post loop', i)"
   ]
  },
  {
   "cell_type": "markdown",
   "metadata": {},
   "source": [
    "# While loops"
   ]
  },
  {
   "cell_type": "code",
   "execution_count": 7,
   "metadata": {
    "collapsed": false
   },
   "outputs": [
    {
     "data": {
      "text/plain": [
       "'Infinite Loop'"
      ]
     },
     "execution_count": 7,
     "metadata": {},
     "output_type": "execute_result"
    }
   ],
   "source": [
    "\"\"\"Infinite Loop\"\"\"\n",
    "# while True:\n",
    "#     print(\"Help! I'm stuck in a loop!\")"
   ]
  },
  {
   "cell_type": "code",
   "execution_count": 8,
   "metadata": {
    "collapsed": false
   },
   "outputs": [
    {
     "name": "stdout",
     "output_type": "stream",
     "text": [
      "0\n",
      "1\n",
      "2\n"
     ]
    }
   ],
   "source": [
    "\"\"\"While loop as a range\"\"\"\n",
    "\n",
    "i = 0             # Initilize \n",
    "while i < 3:      # 0, 1, 2, break\n",
    "    print(i)      # display i on each assignment\n",
    "\n",
    "    i += 1        # Increment i by 1."
   ]
  },
  {
   "cell_type": "code",
   "execution_count": 9,
   "metadata": {
    "collapsed": false
   },
   "outputs": [
    {
     "name": "stdout",
     "output_type": "stream",
     "text": [
      "0\n",
      "1\n",
      "2\n",
      "3\n",
      "Done!\n"
     ]
    }
   ],
   "source": [
    "\"\"\"While loop with flag bool\"\"\"\n",
    "\n",
    "i = 0         # Initilize \n",
    "flag = True   # flag variable or 'switch'\n",
    "while flag:        \n",
    "    print(i)\n",
    "    i += 1\n",
    "    \n",
    "    if i == 4:\n",
    "        flag = False\n",
    "        print('Done!')\n",
    "        \n"
   ]
  },
  {
   "cell_type": "code",
   "execution_count": null,
   "metadata": {
    "collapsed": true
   },
   "outputs": [],
   "source": []
  },
  {
   "cell_type": "code",
   "execution_count": 10,
   "metadata": {
    "collapsed": true
   },
   "outputs": [],
   "source": [
    "\"\"\"Using i to iterate over lists\"\"\"\n",
    "\n",
    "llama = ['The X', 'Llamas', 'Kieran', True]\n",
    "i = 0\n",
    "while True:\n",
    "    i += 1\n",
    "    item = llama[i]\n",
    "    if item == True:\n",
    "        break"
   ]
  },
  {
   "cell_type": "code",
   "execution_count": 11,
   "metadata": {
    "collapsed": false
   },
   "outputs": [
    {
     "data": {
      "text/plain": [
       "True"
      ]
     },
     "execution_count": 11,
     "metadata": {},
     "output_type": "execute_result"
    }
   ],
   "source": [
    "\"\"\"Membership Reminder\"\"\"\n",
    "\n",
    "llama = ['The X', 'Llamas', 'Kieran', True]\n",
    "'Kieran' in llama"
   ]
  },
  {
   "cell_type": "markdown",
   "metadata": {},
   "source": [
    "# Event Loops / Text UI Loops"
   ]
  },
  {
   "cell_type": "code",
   "execution_count": 12,
   "metadata": {
    "collapsed": false
   },
   "outputs": [
    {
     "name": "stdout",
     "output_type": "stream",
     "text": [
      "Do you want to play again?  >> yes\n",
      "Do you want to play again?  >> y\n",
      "Do you want to play again?  >> yep\n",
      "Do you want to play again?  >> nope\n"
     ]
    }
   ],
   "source": [
    "no_choices = ('n', 'no', 'nope', 'maybe', )\n",
    "yes_choices = ('yes', 'y', 'yep', )\n",
    "\n",
    "answer = 'yes'\n",
    "while answer.lower() not in no_choices:\n",
    "            \n",
    "    answer = input('Do you want to play again?  >> ')\n",
    "    \n",
    "    if (answer not in yes_choices) and (answer not in no_choices):\n",
    "        message = '{} is not vallid. Please enter a valid choice.'\n",
    "        raise ValueError(message.format(answer))\n",
    "\n",
    "    continue"
   ]
  },
  {
   "cell_type": "code",
   "execution_count": 13,
   "metadata": {
    "collapsed": false
   },
   "outputs": [
    {
     "data": {
      "text/plain": [
       "'Infinite loop!  Only asks the user for input once.'"
      ]
     },
     "execution_count": 13,
     "metadata": {},
     "output_type": "execute_result"
    }
   ],
   "source": [
    "\"\"\"Infinite loop!  Only asks the user for input once.\"\"\"\n",
    "\n",
    "# answer = input('Do you want to play again?  >> ')\n",
    "# while answer != 'no':\n",
    "#     continue"
   ]
  },
  {
   "cell_type": "markdown",
   "metadata": {
    "collapsed": true
   },
   "source": [
    "# WHILE loop\n",
    "```\n",
    "while True:\n",
    "    '''Ask for new items.'''\n",
    "    new_item = input(\"> \")    # Be able to quit he app/help/show/remove.\n",
    "    \n",
    "    if new_item.lower() == 'done':\n",
    "        break\n",
    "    \n",
    "    elif new_item.lower() == 'help':\n",
    "        show_help()\n",
    "       \n",
    "    elif new_item.lower() == 'show':\n",
    "        show_list()\n",
    "        \n",
    "    elif new_item.lower() == 'remove':\n",
    "        remove_item()\n",
    "    \n",
    "    continue\n",
    "    add_to_list(new_item)\n",
    "```"
   ]
  },
  {
   "cell_type": "markdown",
   "metadata": {},
   "source": [
    "# Advanced Flow Control Tools for Iteration"
   ]
  },
  {
   "cell_type": "markdown",
   "metadata": {},
   "source": [
    "### while / else"
   ]
  },
  {
   "cell_type": "code",
   "execution_count": 14,
   "metadata": {
    "collapsed": false
   },
   "outputs": [],
   "source": [
    "def validate(iterable):\n",
    "    for i in iterable:\n",
    "        print(i)\n",
    "        if i == 42:\n",
    "            break                               # Break out of the loop, and skip the else block.\n",
    "        else:\n",
    "            continue                            # Continue to the next iteration.\n",
    "    else:\n",
    "        print('End of the loop.  Finished.')    # Only appears if break **does not** happen."
   ]
  },
  {
   "cell_type": "code",
   "execution_count": 15,
   "metadata": {
    "collapsed": false
   },
   "outputs": [
    {
     "name": "stdout",
     "output_type": "stream",
     "text": [
      "1\n",
      "2\n",
      "3\n",
      "41\n",
      "4\n",
      "5\n",
      "6\n",
      "End of the loop.  Finished.\n"
     ]
    }
   ],
   "source": [
    "x = [1, 2, 3, 41, 4, 5, 6]\n",
    "validate(x)"
   ]
  },
  {
   "cell_type": "markdown",
   "metadata": {},
   "source": [
    "# Importing Standard Library Modules"
   ]
  },
  {
   "cell_type": "code",
   "execution_count": 16,
   "metadata": {
    "collapsed": false
   },
   "outputs": [],
   "source": [
    "# True and not False and False or True and not True"
   ]
  },
  {
   "cell_type": "code",
   "execution_count": 17,
   "metadata": {
    "collapsed": false
   },
   "outputs": [
    {
     "name": "stdout",
     "output_type": "stream",
     "text": [
      "[8, 1, 7, 9, 2, 5, 4, 6, 0, 3]\n"
     ]
    }
   ],
   "source": [
    "import random              # Always use the name that appears last on the import line.\n",
    "\n",
    "\n",
    "# random.randint(1, 10)    # <<< Example 1\n",
    "\n",
    "nums = list(range(10))\n",
    "random.shuffle(nums)       # <<< Example 2\n",
    "print(nums)"
   ]
  },
  {
   "cell_type": "code",
   "execution_count": 18,
   "metadata": {
    "collapsed": false
   },
   "outputs": [
    {
     "data": {
      "text/plain": [
       "4"
      ]
     },
     "execution_count": 18,
     "metadata": {},
     "output_type": "execute_result"
    }
   ],
   "source": [
    "random.choice(nums)        # <<< Example 3"
   ]
  },
  {
   "cell_type": "code",
   "execution_count": 19,
   "metadata": {
    "collapsed": false
   },
   "outputs": [
    {
     "data": {
      "text/plain": [
       "[4, 3, 8]"
      ]
     },
     "execution_count": 19,
     "metadata": {},
     "output_type": "execute_result"
    }
   ],
   "source": [
    "nums = list(range(10))\n",
    "\n",
    "random.sample(nums, 3)    # <<< Example 4"
   ]
  },
  {
   "cell_type": "markdown",
   "metadata": {},
   "source": [
    "### Import functions from a mudule by name"
   ]
  },
  {
   "cell_type": "code",
   "execution_count": 20,
   "metadata": {
    "collapsed": true
   },
   "outputs": [],
   "source": [
    "from random import randint, choice, seed, sample\n",
    "\n"
   ]
  },
  {
   "cell_type": "code",
   "execution_count": 21,
   "metadata": {
    "collapsed": false
   },
   "outputs": [
    {
     "data": {
      "text/plain": [
       "10"
      ]
     },
     "execution_count": 21,
     "metadata": {},
     "output_type": "execute_result"
    }
   ],
   "source": [
    "randint(2, 10)"
   ]
  },
  {
   "cell_type": "code",
   "execution_count": 22,
   "metadata": {
    "collapsed": false
   },
   "outputs": [
    {
     "data": {
      "text/plain": [
       "4"
      ]
     },
     "execution_count": 22,
     "metadata": {},
     "output_type": "execute_result"
    }
   ],
   "source": [
    "choice([2, 4, 6])"
   ]
  },
  {
   "cell_type": "code",
   "execution_count": 23,
   "metadata": {
    "collapsed": false
   },
   "outputs": [
    {
     "data": {
      "text/plain": [
       "[4, 7]"
      ]
     },
     "execution_count": 23,
     "metadata": {},
     "output_type": "execute_result"
    }
   ],
   "source": [
    "sample([2, 4, 6, 7], 2)"
   ]
  },
  {
   "cell_type": "code",
   "execution_count": 24,
   "metadata": {
    "collapsed": true
   },
   "outputs": [],
   "source": [
    "seed()"
   ]
  },
  {
   "cell_type": "markdown",
   "metadata": {
    "collapsed": true
   },
   "source": [
    "## Custom Exception Raising"
   ]
  },
  {
   "cell_type": "code",
   "execution_count": 25,
   "metadata": {
    "collapsed": true
   },
   "outputs": [],
   "source": [
    "class TheRoof(Exception):\n",
    "    pass"
   ]
  },
  {
   "cell_type": "code",
   "execution_count": 26,
   "metadata": {
    "collapsed": false
   },
   "outputs": [
    {
     "ename": "TheRoof",
     "evalue": "What you even say about this error",
     "output_type": "error",
     "traceback": [
      "\u001b[0;31m---------------------------------------------------------------------------\u001b[0m",
      "\u001b[0;31mTheRoof\u001b[0m                                   Traceback (most recent call last)",
      "\u001b[0;32m<ipython-input-26-b2d6da21604d>\u001b[0m in \u001b[0;36m<module>\u001b[0;34m()\u001b[0m\n\u001b[0;32m----> 1\u001b[0;31m \u001b[0;32mraise\u001b[0m \u001b[0mTheRoof\u001b[0m\u001b[0;34m(\u001b[0m\u001b[0;34m'What you even say about this error'\u001b[0m\u001b[0;34m)\u001b[0m\u001b[0;34m\u001b[0m\u001b[0m\n\u001b[0m",
      "\u001b[0;31mTheRoof\u001b[0m: What you even say about this error"
     ]
    }
   ],
   "source": [
    "raise TheRoof('What you even say about this error')"
   ]
  },
  {
   "cell_type": "code",
   "execution_count": null,
   "metadata": {
    "collapsed": true
   },
   "outputs": [],
   "source": []
  }
 ],
 "metadata": {
  "anaconda-cloud": {},
  "kernelspec": {
   "display_name": "Python [conda root]",
   "language": "python",
   "name": "conda-root-py"
  },
  "language_info": {
   "codemirror_mode": {
    "name": "ipython",
    "version": 3
   },
   "file_extension": ".py",
   "mimetype": "text/x-python",
   "name": "python",
   "nbconvert_exporter": "python",
   "pygments_lexer": "ipython3",
   "version": "3.5.2"
  },
  "widgets": {
   "state": {},
   "version": "1.1.2"
  }
 },
 "nbformat": 4,
 "nbformat_minor": 0
}
