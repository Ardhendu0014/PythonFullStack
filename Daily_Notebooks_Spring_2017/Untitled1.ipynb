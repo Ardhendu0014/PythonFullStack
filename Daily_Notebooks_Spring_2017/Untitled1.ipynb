{
 "cells": [
  {
   "cell_type": "markdown",
   "metadata": {},
   "source": [
    "Deck of cards "
   ]
  },
  {
   "cell_type": "code",
   "execution_count": 138,
   "metadata": {
    "collapsed": false
   },
   "outputs": [],
   "source": [
    "import random \n",
    "\n",
    "class FrenchDeck:\n",
    "    def __init__(self, name: str, decks=1):\n",
    "        self.name = name\n",
    "    \n",
    "        suits = ['Hearts','Clubs', 'Diamonds', 'Spades']\n",
    "        ranks = [str(num) for num in range(2, 11)] + list('JQKA')\n",
    "        \n",
    "        self.cards = [(rank, suit) for rank in ranks for suit in suits] * decks\n",
    "    \n",
    "    def shuffle(self):\n",
    "        random.shuffle(self.cards)\n",
    "        return None\n",
    "    \n",
    "    def cut(self):\n",
    "        halved = (len(self.cards) // 2) + 1\n",
    "        top_half = self.cards[:halved]\n",
    "        bottom_half = self.cards[halved:]\n",
    "        self.cards = bottom_half + top_half\n",
    "        return None \n",
    "\n",
    "    \n",
    "    def draw(self, top=True):\n",
    "        if top:\n",
    "            card = self.cards.pop(0)\n",
    "        else:\n",
    "            card = random.choice(self.cards)\n",
    "        return card\n",
    "    \n",
    "    def __len__(self):\n",
    "        \"\"\"A 'magic method'.\"\"\"\n",
    "        return len(self.cards)\n",
    "    \n",
    "    def __getitem__(self, i: int):\n",
    "        \"\"\"Also a 'magic method'.\"\"\"\n",
    "        return self.cards[i] \n",
    "    "
   ]
  },
  {
   "cell_type": "code",
   "execution_count": 139,
   "metadata": {
    "collapsed": false
   },
   "outputs": [],
   "source": [
    "llama = FrenchDeck('llama_deck', decks=4)"
   ]
  },
  {
   "cell_type": "code",
   "execution_count": 140,
   "metadata": {
    "collapsed": false
   },
   "outputs": [
    {
     "data": {
      "text/plain": [
       "208"
      ]
     },
     "execution_count": 140,
     "metadata": {},
     "output_type": "execute_result"
    }
   ],
   "source": [
    "llama[2]\n",
    "len(llama)"
   ]
  },
  {
   "cell_type": "code",
   "execution_count": 126,
   "metadata": {
    "collapsed": false
   },
   "outputs": [
    {
     "name": "stdout",
     "output_type": "stream",
     "text": [
      "('2', 'Hearts')\n",
      "('2', 'Clubs')\n",
      "('2', 'Diamonds')\n",
      "('2', 'Spades')\n",
      "('3', 'Hearts')\n",
      "('3', 'Clubs')\n",
      "('3', 'Diamonds')\n",
      "('3', 'Spades')\n",
      "('4', 'Hearts')\n",
      "('4', 'Clubs')\n",
      "('4', 'Diamonds')\n",
      "('4', 'Spades')\n",
      "('5', 'Hearts')\n",
      "('5', 'Clubs')\n",
      "('5', 'Diamonds')\n",
      "('5', 'Spades')\n",
      "('6', 'Hearts')\n",
      "('6', 'Clubs')\n",
      "('6', 'Diamonds')\n",
      "('6', 'Spades')\n",
      "('7', 'Hearts')\n",
      "('7', 'Clubs')\n",
      "('7', 'Diamonds')\n",
      "('7', 'Spades')\n",
      "('8', 'Hearts')\n",
      "('8', 'Clubs')\n",
      "('8', 'Diamonds')\n",
      "('8', 'Spades')\n",
      "('9', 'Hearts')\n",
      "('9', 'Clubs')\n",
      "('9', 'Diamonds')\n",
      "('9', 'Spades')\n",
      "('10', 'Hearts')\n",
      "('10', 'Clubs')\n",
      "('10', 'Diamonds')\n",
      "('10', 'Spades')\n",
      "('J', 'Hearts')\n",
      "('J', 'Clubs')\n",
      "('J', 'Diamonds')\n",
      "('J', 'Spades')\n",
      "('Q', 'Hearts')\n",
      "('Q', 'Clubs')\n",
      "('Q', 'Diamonds')\n",
      "('Q', 'Spades')\n",
      "('K', 'Hearts')\n",
      "('K', 'Clubs')\n",
      "('K', 'Diamonds')\n",
      "('K', 'Spades')\n",
      "('A', 'Hearts')\n",
      "('A', 'Clubs')\n",
      "('A', 'Diamonds')\n",
      "('A', 'Spades')\n"
     ]
    }
   ],
   "source": [
    "for card in llama:\n",
    "    print(card)"
   ]
  },
  {
   "cell_type": "code",
   "execution_count": 141,
   "metadata": {
    "collapsed": false
   },
   "outputs": [
    {
     "data": {
      "text/plain": [
       "('2', 'Hearts')"
      ]
     },
     "execution_count": 141,
     "metadata": {},
     "output_type": "execute_result"
    }
   ],
   "source": [
    "llama[0]"
   ]
  },
  {
   "cell_type": "code",
   "execution_count": 142,
   "metadata": {
    "collapsed": false
   },
   "outputs": [
    {
     "data": {
      "text/plain": [
       "('8', 'Diamonds')"
      ]
     },
     "execution_count": 142,
     "metadata": {},
     "output_type": "execute_result"
    }
   ],
   "source": [
    "llama[26]"
   ]
  },
  {
   "cell_type": "code",
   "execution_count": 143,
   "metadata": {
    "collapsed": false
   },
   "outputs": [
    {
     "data": {
      "text/plain": [
       "208"
      ]
     },
     "execution_count": 143,
     "metadata": {},
     "output_type": "execute_result"
    }
   ],
   "source": [
    "len(llama)"
   ]
  },
  {
   "cell_type": "code",
   "execution_count": 144,
   "metadata": {
    "collapsed": true
   },
   "outputs": [],
   "source": [
    "llama.cut()"
   ]
  },
  {
   "cell_type": "code",
   "execution_count": 145,
   "metadata": {
    "collapsed": false
   },
   "outputs": [
    {
     "data": {
      "text/plain": [
       "('2', 'Clubs')"
      ]
     },
     "execution_count": 145,
     "metadata": {},
     "output_type": "execute_result"
    }
   ],
   "source": [
    "llama[0]"
   ]
  },
  {
   "cell_type": "code",
   "execution_count": 146,
   "metadata": {
    "collapsed": false
   },
   "outputs": [
    {
     "data": {
      "text/plain": [
       "('8', 'Spades')"
      ]
     },
     "execution_count": 146,
     "metadata": {},
     "output_type": "execute_result"
    }
   ],
   "source": [
    "llama[26]"
   ]
  },
  {
   "cell_type": "code",
   "execution_count": 147,
   "metadata": {
    "collapsed": false
   },
   "outputs": [],
   "source": [
    "llama.shuffle()"
   ]
  },
  {
   "cell_type": "code",
   "execution_count": 148,
   "metadata": {
    "collapsed": false
   },
   "outputs": [
    {
     "name": "stdout",
     "output_type": "stream",
     "text": [
      "[('J', 'Spades'), ('9', 'Diamonds'), ('Q', 'Spades'), ('10', 'Hearts'), ('3', 'Clubs'), ('5', 'Spades'), ('10', 'Clubs'), ('9', 'Spades'), ('3', 'Diamonds'), ('8', 'Hearts'), ('10', 'Clubs'), ('3', 'Hearts'), ('8', 'Hearts'), ('5', 'Hearts'), ('9', 'Spades'), ('9', 'Clubs'), ('J', 'Diamonds'), ('7', 'Diamonds'), ('10', 'Hearts'), ('8', 'Hearts'), ('Q', 'Clubs'), ('A', 'Clubs'), ('Q', 'Clubs'), ('5', 'Hearts'), ('8', 'Spades'), ('6', 'Hearts'), ('5', 'Spades'), ('10', 'Clubs'), ('2', 'Clubs'), ('3', 'Diamonds'), ('4', 'Diamonds'), ('A', 'Spades'), ('10', 'Hearts'), ('Q', 'Hearts'), ('K', 'Spades'), ('2', 'Diamonds'), ('10', 'Diamonds'), ('Q', 'Hearts'), ('10', 'Diamonds'), ('A', 'Diamonds'), ('J', 'Hearts'), ('K', 'Diamonds'), ('5', 'Clubs'), ('K', 'Diamonds'), ('3', 'Hearts'), ('2', 'Spades'), ('9', 'Diamonds'), ('K', 'Hearts'), ('8', 'Hearts'), ('4', 'Clubs'), ('7', 'Diamonds'), ('5', 'Hearts'), ('9', 'Diamonds'), ('Q', 'Spades'), ('2', 'Spades'), ('2', 'Diamonds'), ('7', 'Spades'), ('2', 'Diamonds'), ('Q', 'Spades'), ('4', 'Hearts'), ('9', 'Clubs'), ('7', 'Clubs'), ('J', 'Diamonds'), ('7', 'Spades'), ('8', 'Spades'), ('J', 'Hearts'), ('8', 'Diamonds'), ('3', 'Spades'), ('A', 'Spades'), ('6', 'Diamonds'), ('5', 'Spades'), ('K', 'Hearts'), ('5', 'Diamonds'), ('6', 'Diamonds'), ('10', 'Spades'), ('2', 'Spades'), ('5', 'Clubs'), ('10', 'Spades'), ('J', 'Hearts'), ('J', 'Clubs'), ('J', 'Spades'), ('10', 'Spades'), ('2', 'Clubs'), ('7', 'Spades'), ('8', 'Spades'), ('4', 'Clubs'), ('9', 'Hearts'), ('6', 'Spades'), ('J', 'Clubs'), ('4', 'Spades'), ('A', 'Diamonds'), ('Q', 'Spades'), ('A', 'Hearts'), ('7', 'Hearts'), ('K', 'Spades'), ('3', 'Diamonds'), ('9', 'Hearts'), ('5', 'Spades'), ('6', 'Diamonds'), ('J', 'Clubs'), ('A', 'Spades'), ('3', 'Hearts'), ('5', 'Diamonds'), ('4', 'Hearts'), ('5', 'Hearts'), ('4', 'Spades'), ('6', 'Clubs'), ('6', 'Diamonds'), ('Q', 'Clubs'), ('K', 'Clubs'), ('3', 'Spades'), ('J', 'Spades'), ('2', 'Spades'), ('4', 'Hearts'), ('5', 'Clubs'), ('K', 'Clubs'), ('3', 'Clubs'), ('10', 'Clubs'), ('7', 'Hearts'), ('9', 'Hearts'), ('8', 'Clubs'), ('4', 'Diamonds'), ('Q', 'Diamonds'), ('Q', 'Hearts'), ('4', 'Spades'), ('3', 'Clubs'), ('A', 'Clubs'), ('4', 'Diamonds'), ('J', 'Diamonds'), ('A', 'Spades'), ('7', 'Spades'), ('7', 'Diamonds'), ('9', 'Spades'), ('3', 'Clubs'), ('8', 'Spades'), ('J', 'Clubs'), ('8', 'Clubs'), ('4', 'Clubs'), ('8', 'Diamonds'), ('4', 'Clubs'), ('Q', 'Clubs'), ('4', 'Hearts'), ('6', 'Clubs'), ('A', 'Clubs'), ('J', 'Diamonds'), ('7', 'Clubs'), ('9', 'Hearts'), ('2', 'Clubs'), ('6', 'Spades'), ('7', 'Clubs'), ('10', 'Diamonds'), ('A', 'Hearts'), ('7', 'Hearts'), ('K', 'Clubs'), ('9', 'Spades'), ('A', 'Clubs'), ('3', 'Spades'), ('5', 'Diamonds'), ('7', 'Hearts'), ('K', 'Hearts'), ('9', 'Diamonds'), ('K', 'Diamonds'), ('6', 'Clubs'), ('5', 'Clubs'), ('3', 'Diamonds'), ('K', 'Hearts'), ('8', 'Diamonds'), ('K', 'Clubs'), ('8', 'Diamonds'), ('J', 'Hearts'), ('10', 'Hearts'), ('4', 'Diamonds'), ('K', 'Diamonds'), ('9', 'Clubs'), ('7', 'Diamonds'), ('5', 'Diamonds'), ('6', 'Clubs'), ('K', 'Spades'), ('Q', 'Diamonds'), ('2', 'Hearts'), ('10', 'Spades'), ('A', 'Hearts'), ('9', 'Clubs'), ('6', 'Hearts'), ('3', 'Spades'), ('7', 'Clubs'), ('6', 'Spades'), ('Q', 'Diamonds'), ('A', 'Diamonds'), ('6', 'Hearts'), ('2', 'Hearts'), ('2', 'Diamonds'), ('4', 'Spades'), ('6', 'Spades'), ('J', 'Spades'), ('8', 'Clubs'), ('K', 'Spades'), ('2', 'Hearts'), ('2', 'Clubs'), ('6', 'Hearts'), ('3', 'Hearts'), ('Q', 'Hearts'), ('A', 'Hearts'), ('8', 'Clubs'), ('2', 'Hearts'), ('A', 'Diamonds'), ('Q', 'Diamonds'), ('10', 'Diamonds')]\n"
     ]
    }
   ],
   "source": [
    "print(llama.cards)"
   ]
  },
  {
   "cell_type": "code",
   "execution_count": 149,
   "metadata": {
    "collapsed": false
   },
   "outputs": [
    {
     "name": "stdout",
     "output_type": "stream",
     "text": [
      "J of Spades\n",
      "9 of Diamonds\n",
      "Q of Spades\n",
      "10 of Hearts\n",
      "3 of Clubs\n",
      "5 of Spades\n",
      "10 of Clubs\n",
      "9 of Spades\n",
      "3 of Diamonds\n",
      "8 of Hearts\n",
      "10 of Clubs\n",
      "3 of Hearts\n",
      "8 of Hearts\n",
      "5 of Hearts\n",
      "9 of Spades\n",
      "9 of Clubs\n",
      "J of Diamonds\n",
      "7 of Diamonds\n",
      "10 of Hearts\n",
      "8 of Hearts\n",
      "Q of Clubs\n",
      "A of Clubs\n",
      "Q of Clubs\n",
      "5 of Hearts\n",
      "8 of Spades\n",
      "6 of Hearts\n",
      "5 of Spades\n",
      "10 of Clubs\n",
      "2 of Clubs\n",
      "3 of Diamonds\n",
      "4 of Diamonds\n",
      "A of Spades\n",
      "10 of Hearts\n",
      "Q of Hearts\n",
      "K of Spades\n",
      "2 of Diamonds\n",
      "10 of Diamonds\n",
      "Q of Hearts\n",
      "10 of Diamonds\n",
      "A of Diamonds\n",
      "J of Hearts\n",
      "K of Diamonds\n",
      "5 of Clubs\n",
      "K of Diamonds\n",
      "3 of Hearts\n",
      "2 of Spades\n",
      "9 of Diamonds\n",
      "K of Hearts\n",
      "8 of Hearts\n",
      "4 of Clubs\n",
      "7 of Diamonds\n",
      "5 of Hearts\n",
      "9 of Diamonds\n",
      "Q of Spades\n",
      "2 of Spades\n",
      "2 of Diamonds\n",
      "7 of Spades\n",
      "2 of Diamonds\n",
      "Q of Spades\n",
      "4 of Hearts\n",
      "9 of Clubs\n",
      "7 of Clubs\n",
      "J of Diamonds\n",
      "7 of Spades\n",
      "8 of Spades\n",
      "J of Hearts\n",
      "8 of Diamonds\n",
      "3 of Spades\n",
      "A of Spades\n",
      "6 of Diamonds\n",
      "5 of Spades\n",
      "K of Hearts\n",
      "5 of Diamonds\n",
      "6 of Diamonds\n",
      "10 of Spades\n",
      "2 of Spades\n",
      "5 of Clubs\n",
      "10 of Spades\n",
      "J of Hearts\n",
      "J of Clubs\n",
      "J of Spades\n",
      "10 of Spades\n",
      "2 of Clubs\n",
      "7 of Spades\n",
      "8 of Spades\n",
      "4 of Clubs\n",
      "9 of Hearts\n",
      "6 of Spades\n",
      "J of Clubs\n",
      "4 of Spades\n",
      "A of Diamonds\n",
      "Q of Spades\n",
      "A of Hearts\n",
      "7 of Hearts\n",
      "K of Spades\n",
      "3 of Diamonds\n",
      "9 of Hearts\n",
      "5 of Spades\n",
      "6 of Diamonds\n",
      "J of Clubs\n",
      "A of Spades\n",
      "3 of Hearts\n",
      "5 of Diamonds\n",
      "4 of Hearts\n",
      "5 of Hearts\n",
      "4 of Spades\n",
      "6 of Clubs\n",
      "6 of Diamonds\n",
      "Q of Clubs\n",
      "K of Clubs\n",
      "3 of Spades\n",
      "J of Spades\n",
      "2 of Spades\n",
      "4 of Hearts\n",
      "5 of Clubs\n",
      "K of Clubs\n",
      "3 of Clubs\n",
      "10 of Clubs\n",
      "7 of Hearts\n",
      "9 of Hearts\n",
      "8 of Clubs\n",
      "4 of Diamonds\n",
      "Q of Diamonds\n",
      "Q of Hearts\n",
      "4 of Spades\n",
      "3 of Clubs\n",
      "A of Clubs\n",
      "4 of Diamonds\n",
      "J of Diamonds\n",
      "A of Spades\n",
      "7 of Spades\n",
      "7 of Diamonds\n",
      "9 of Spades\n",
      "3 of Clubs\n",
      "8 of Spades\n",
      "J of Clubs\n",
      "8 of Clubs\n",
      "4 of Clubs\n",
      "8 of Diamonds\n",
      "4 of Clubs\n",
      "Q of Clubs\n",
      "4 of Hearts\n",
      "6 of Clubs\n",
      "A of Clubs\n",
      "J of Diamonds\n",
      "7 of Clubs\n",
      "9 of Hearts\n",
      "2 of Clubs\n",
      "6 of Spades\n",
      "7 of Clubs\n",
      "10 of Diamonds\n",
      "A of Hearts\n",
      "7 of Hearts\n",
      "K of Clubs\n",
      "9 of Spades\n",
      "A of Clubs\n",
      "3 of Spades\n",
      "5 of Diamonds\n",
      "7 of Hearts\n",
      "K of Hearts\n",
      "9 of Diamonds\n",
      "K of Diamonds\n",
      "6 of Clubs\n",
      "5 of Clubs\n",
      "3 of Diamonds\n",
      "K of Hearts\n",
      "8 of Diamonds\n",
      "K of Clubs\n",
      "8 of Diamonds\n",
      "J of Hearts\n",
      "10 of Hearts\n",
      "4 of Diamonds\n",
      "K of Diamonds\n",
      "9 of Clubs\n",
      "7 of Diamonds\n",
      "5 of Diamonds\n",
      "6 of Clubs\n",
      "K of Spades\n",
      "Q of Diamonds\n",
      "2 of Hearts\n",
      "10 of Spades\n",
      "A of Hearts\n",
      "9 of Clubs\n",
      "6 of Hearts\n",
      "3 of Spades\n",
      "7 of Clubs\n",
      "6 of Spades\n",
      "Q of Diamonds\n",
      "A of Diamonds\n",
      "6 of Hearts\n",
      "2 of Hearts\n",
      "2 of Diamonds\n",
      "4 of Spades\n",
      "6 of Spades\n",
      "J of Spades\n",
      "8 of Clubs\n",
      "K of Spades\n",
      "2 of Hearts\n",
      "2 of Clubs\n",
      "6 of Hearts\n",
      "3 of Hearts\n",
      "Q of Hearts\n",
      "A of Hearts\n",
      "8 of Clubs\n",
      "2 of Hearts\n",
      "A of Diamonds\n",
      "Q of Diamonds\n",
      "10 of Diamonds\n"
     ]
    }
   ],
   "source": [
    "for suit, rank in llama.cards:\n",
    "    print(suit, rank, sep=' of ')"
   ]
  },
  {
   "cell_type": "code",
   "execution_count": 150,
   "metadata": {
    "collapsed": false
   },
   "outputs": [
    {
     "data": {
      "text/plain": [
       "('J', 'Spades')"
      ]
     },
     "execution_count": 150,
     "metadata": {},
     "output_type": "execute_result"
    }
   ],
   "source": [
    "llama.draw()"
   ]
  },
  {
   "cell_type": "code",
   "execution_count": 151,
   "metadata": {
    "collapsed": true
   },
   "outputs": [],
   "source": [
    "bier_kart = llama.draw()"
   ]
  },
  {
   "cell_type": "code",
   "execution_count": 114,
   "metadata": {
    "collapsed": false
   },
   "outputs": [
    {
     "name": "stdout",
     "output_type": "stream",
     "text": [
      "('4', 'Hearts')\n"
     ]
    }
   ],
   "source": [
    "print(bier_kart)"
   ]
  },
  {
   "cell_type": "code",
   "execution_count": 115,
   "metadata": {
    "collapsed": false
   },
   "outputs": [],
   "source": [
    "llama.cut()"
   ]
  },
  {
   "cell_type": "code",
   "execution_count": 153,
   "metadata": {
    "collapsed": false
   },
   "outputs": [
    {
     "name": "stdout",
     "output_type": "stream",
     "text": [
      "[('Q', 'Spades'), ('10', 'Hearts'), ('3', 'Clubs'), ('5', 'Spades'), ('10', 'Clubs'), ('9', 'Spades'), ('3', 'Diamonds'), ('8', 'Hearts'), ('10', 'Clubs'), ('3', 'Hearts'), ('8', 'Hearts'), ('5', 'Hearts'), ('9', 'Spades'), ('9', 'Clubs'), ('J', 'Diamonds'), ('7', 'Diamonds'), ('10', 'Hearts'), ('8', 'Hearts'), ('Q', 'Clubs'), ('A', 'Clubs'), ('Q', 'Clubs'), ('5', 'Hearts'), ('8', 'Spades'), ('6', 'Hearts'), ('5', 'Spades'), ('10', 'Clubs'), ('2', 'Clubs'), ('3', 'Diamonds'), ('4', 'Diamonds'), ('A', 'Spades'), ('10', 'Hearts'), ('Q', 'Hearts'), ('K', 'Spades'), ('2', 'Diamonds'), ('10', 'Diamonds'), ('Q', 'Hearts'), ('10', 'Diamonds'), ('A', 'Diamonds'), ('J', 'Hearts'), ('K', 'Diamonds'), ('5', 'Clubs'), ('K', 'Diamonds'), ('3', 'Hearts'), ('2', 'Spades'), ('9', 'Diamonds'), ('K', 'Hearts'), ('8', 'Hearts'), ('4', 'Clubs'), ('7', 'Diamonds'), ('5', 'Hearts'), ('9', 'Diamonds'), ('Q', 'Spades'), ('2', 'Spades'), ('2', 'Diamonds'), ('7', 'Spades'), ('2', 'Diamonds'), ('Q', 'Spades'), ('4', 'Hearts'), ('9', 'Clubs'), ('7', 'Clubs'), ('J', 'Diamonds'), ('7', 'Spades'), ('8', 'Spades'), ('J', 'Hearts'), ('8', 'Diamonds'), ('3', 'Spades'), ('A', 'Spades'), ('6', 'Diamonds'), ('5', 'Spades'), ('K', 'Hearts'), ('5', 'Diamonds'), ('6', 'Diamonds'), ('10', 'Spades'), ('2', 'Spades'), ('5', 'Clubs'), ('10', 'Spades'), ('J', 'Hearts'), ('J', 'Clubs'), ('J', 'Spades'), ('10', 'Spades'), ('2', 'Clubs'), ('7', 'Spades'), ('8', 'Spades'), ('4', 'Clubs'), ('9', 'Hearts'), ('6', 'Spades'), ('J', 'Clubs'), ('4', 'Spades'), ('A', 'Diamonds'), ('Q', 'Spades'), ('A', 'Hearts'), ('7', 'Hearts'), ('K', 'Spades'), ('3', 'Diamonds'), ('9', 'Hearts'), ('5', 'Spades'), ('6', 'Diamonds'), ('J', 'Clubs'), ('A', 'Spades'), ('3', 'Hearts'), ('5', 'Diamonds'), ('4', 'Hearts'), ('5', 'Hearts'), ('4', 'Spades'), ('6', 'Clubs'), ('6', 'Diamonds'), ('Q', 'Clubs'), ('K', 'Clubs'), ('3', 'Spades'), ('J', 'Spades'), ('2', 'Spades'), ('4', 'Hearts'), ('5', 'Clubs'), ('K', 'Clubs'), ('3', 'Clubs'), ('10', 'Clubs'), ('7', 'Hearts'), ('9', 'Hearts'), ('8', 'Clubs'), ('4', 'Diamonds'), ('Q', 'Diamonds'), ('Q', 'Hearts'), ('4', 'Spades'), ('3', 'Clubs'), ('A', 'Clubs'), ('4', 'Diamonds'), ('J', 'Diamonds'), ('A', 'Spades'), ('7', 'Spades'), ('7', 'Diamonds'), ('9', 'Spades'), ('3', 'Clubs'), ('8', 'Spades'), ('J', 'Clubs'), ('8', 'Clubs'), ('4', 'Clubs'), ('8', 'Diamonds'), ('4', 'Clubs'), ('Q', 'Clubs'), ('4', 'Hearts'), ('6', 'Clubs'), ('A', 'Clubs'), ('J', 'Diamonds'), ('7', 'Clubs'), ('9', 'Hearts'), ('2', 'Clubs'), ('6', 'Spades'), ('7', 'Clubs'), ('10', 'Diamonds'), ('A', 'Hearts'), ('7', 'Hearts'), ('K', 'Clubs'), ('9', 'Spades'), ('A', 'Clubs'), ('3', 'Spades'), ('5', 'Diamonds'), ('7', 'Hearts'), ('K', 'Hearts'), ('9', 'Diamonds'), ('K', 'Diamonds'), ('6', 'Clubs'), ('5', 'Clubs'), ('3', 'Diamonds'), ('K', 'Hearts'), ('8', 'Diamonds'), ('K', 'Clubs'), ('8', 'Diamonds'), ('J', 'Hearts'), ('10', 'Hearts'), ('4', 'Diamonds'), ('K', 'Diamonds'), ('9', 'Clubs'), ('7', 'Diamonds'), ('5', 'Diamonds'), ('6', 'Clubs'), ('K', 'Spades'), ('Q', 'Diamonds'), ('2', 'Hearts'), ('10', 'Spades'), ('A', 'Hearts'), ('9', 'Clubs'), ('6', 'Hearts'), ('3', 'Spades'), ('7', 'Clubs'), ('6', 'Spades'), ('Q', 'Diamonds'), ('A', 'Diamonds'), ('6', 'Hearts'), ('2', 'Hearts'), ('2', 'Diamonds'), ('4', 'Spades'), ('6', 'Spades'), ('J', 'Spades'), ('8', 'Clubs'), ('K', 'Spades'), ('2', 'Hearts'), ('2', 'Clubs'), ('6', 'Hearts'), ('3', 'Hearts'), ('Q', 'Hearts'), ('A', 'Hearts'), ('8', 'Clubs'), ('2', 'Hearts'), ('A', 'Diamonds'), ('Q', 'Diamonds'), ('10', 'Diamonds')]\n"
     ]
    }
   ],
   "source": [
    "print(llama.cards)"
   ]
  },
  {
   "cell_type": "code",
   "execution_count": 152,
   "metadata": {
    "collapsed": false
   },
   "outputs": [
    {
     "data": {
      "text/plain": [
       "206"
      ]
     },
     "execution_count": 152,
     "metadata": {},
     "output_type": "execute_result"
    }
   ],
   "source": [
    "len(llama)"
   ]
  },
  {
   "cell_type": "code",
   "execution_count": 118,
   "metadata": {
    "collapsed": false
   },
   "outputs": [
    {
     "ename": "TypeError",
     "evalue": "'FrenchDeck' object does not support indexing",
     "output_type": "error",
     "traceback": [
      "\u001b[0;31m---------------------------------------------------------------------------\u001b[0m",
      "\u001b[0;31mTypeError\u001b[0m                                 Traceback (most recent call last)",
      "\u001b[0;32m<ipython-input-118-3a5744ee08f4>\u001b[0m in \u001b[0;36m<module>\u001b[0;34m()\u001b[0m\n\u001b[0;32m----> 1\u001b[0;31m \u001b[0mllama\u001b[0m\u001b[0;34m[\u001b[0m\u001b[0;36m26\u001b[0m\u001b[0;34m]\u001b[0m\u001b[0;34m\u001b[0m\u001b[0m\n\u001b[0m",
      "\u001b[0;31mTypeError\u001b[0m: 'FrenchDeck' object does not support indexing"
     ]
    }
   ],
   "source": []
  },
  {
   "cell_type": "code",
   "execution_count": null,
   "metadata": {
    "collapsed": true
   },
   "outputs": [],
   "source": []
  },
  {
   "cell_type": "code",
   "execution_count": null,
   "metadata": {
    "collapsed": true
   },
   "outputs": [],
   "source": []
  },
  {
   "cell_type": "code",
   "execution_count": null,
   "metadata": {
    "collapsed": true
   },
   "outputs": [],
   "source": []
  },
  {
   "cell_type": "code",
   "execution_count": null,
   "metadata": {
    "collapsed": true
   },
   "outputs": [],
   "source": []
  },
  {
   "cell_type": "code",
   "execution_count": 162,
   "metadata": {
    "collapsed": true
   },
   "outputs": [],
   "source": [
    "dobydeck = FrenchDeck('doby')\n",
    "dobydeck.shuffle()"
   ]
  },
  {
   "cell_type": "code",
   "execution_count": 163,
   "metadata": {
    "collapsed": true
   },
   "outputs": [],
   "source": [
    "linodeck = FrenchDeck('lino')\n",
    "linodeck.shuffle()"
   ]
  },
  {
   "cell_type": "code",
   "execution_count": 165,
   "metadata": {
    "collapsed": false
   },
   "outputs": [
    {
     "name": "stdout",
     "output_type": "stream",
     "text": [
      "('J', 'Clubs')\n",
      "('7', 'Diamonds')\n"
     ]
    }
   ],
   "source": [
    "print(dobydeck.draw())\n",
    "print(linodeck.draw())"
   ]
  },
  {
   "cell_type": "code",
   "execution_count": null,
   "metadata": {
    "collapsed": true
   },
   "outputs": [],
   "source": [
    "doby_pile = list()\n",
    "lino_pile = list()"
   ]
  }
 ],
 "metadata": {
  "anaconda-cloud": {},
  "kernelspec": {
   "display_name": "Python [conda root]",
   "language": "python",
   "name": "conda-root-py"
  },
  "language_info": {
   "codemirror_mode": {
    "name": "ipython",
    "version": 3
   },
   "file_extension": ".py",
   "mimetype": "text/x-python",
   "name": "python",
   "nbconvert_exporter": "python",
   "pygments_lexer": "ipython3",
   "version": "3.5.2"
  },
  "widgets": {
   "state": {},
   "version": "1.1.2"
  }
 },
 "nbformat": 4,
 "nbformat_minor": 0
}
