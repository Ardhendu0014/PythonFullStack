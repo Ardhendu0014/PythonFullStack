{
 "cells": [
  {
   "cell_type": "markdown",
   "metadata": {},
   "source": [
    "# Lab Pool - The Bigger Picture\n",
    "\n",
    "All prior works (as always!) plus...\n",
    "\n",
    "\n",
    "1. Greeting\n",
    "1. 21 Advice\n",
    "1. ROT13 Cipher - Puzzle\n",
    "---------------\n",
    "1. Phone Format\n",
    "1. Distance Converter\n",
    "---------------\n",
    "1. List Practice I \n",
    "1. List Practice II\n",
    "---------------\n",
    "1. Credit\n",
    "1. Magic Ball\n",
    "1. Guess The Number\n",
    "1. FizzBuzz\n",
    "1. Anagram Detector\n",
    "--------------\n",
    "1. Nest\n",
    "1. List Doubles\n",
    "1. Letter Locate\n",
    "1. List Comp\n",
    "--------------\n",
    "1. Peaks and Valleys\n",
    "1. Fibo List\n",
    "---------------\n",
    "1. Arb Args\n",
    "1. Functions II\n",
    "1. Shrink\n",
    "---------------\n",
    "1. Higher Order\n",
    "1. Quantify Words\n",
    "----------------\n",
    "1. Sum Pairs - Puzzle\n",
    "1. Last Join\n",
    "\n",
    "----------------\n",
    "\n",
    "1. Scrub\n",
    "\n",
    "----------------\n",
    "1. ARI\n",
    "1. Mimic\n",
    "1. Powerball\n",
    "----------------\n",
    "1. Phonebook\n",
    "1. Voting Booth\n",
    "----------------\n",
    "1. JSON I/O Practice\n",
    "1. Fun With Networks (Requests)\n",
    "----------------\n",
    "1. Rain Data\n",
    "1. Crime Data\n",
    "\n",
    "----------------\n",
    "\n",
    "1. Rotate Image\n",
    "\n",
    "----------------\n",
    "1. Dungeon - Group Project\n",
    "\n",
    "\n",
    "\n",
    "\n"
   ]
  },
  {
   "cell_type": "markdown",
   "metadata": {},
   "source": [
    "## Todays Labs\n",
    "\n",
    "1. Phone Format\n",
    "1. Distance Converter\n",
    "---------------\n",
    "1. Credit\n",
    "1. Magic Ball\n",
    "1. Guess The Number\n",
    "1. FizzBuzz\n",
    "1. Anagram Detector\n",
    "--------------\n",
    "1. Nest\n",
    "1. List Doubles\n",
    "1. Letter Locate\n",
    "1. List Comp\n",
    "--------------\n",
    "1. Peaks and Valleys\n",
    "1. Fibo List"
   ]
  },
  {
   "cell_type": "markdown",
   "metadata": {},
   "source": [
    "# This week\n",
    "\n",
    "- Finish the Second course submodule\n",
    "- Start the third submodule \n",
    "- List Comprehensions\n",
    "- Higher Order Functions\n",
    "- Regular Expressions\n",
    "- Data Cleaning / Validation "
   ]
  },
  {
   "cell_type": "markdown",
   "metadata": {
    "collapsed": true
   },
   "source": [
    "# Today\n",
    "    - bashrc alias\n",
    "    - Python Game!\n",
    "    - Show and Tell\n",
    "    - 2D Lists\n",
    "    - while / in\n",
    "    - list as a stack / queue\n",
    "    - list comprehensions\n",
    "    - Fibonacci Sequence\n",
    "    - `itertools`\n",
    "    - `collections`\n",
    "    - `requests`\n",
    "    - File I/O\n",
    "    - Git Teamwork\n",
    "    - Python Module Creation\n",
    "    "
   ]
  },
  {
   "cell_type": "markdown",
   "metadata": {},
   "source": [
    "# Where are we headed?"
   ]
  },
  {
   "cell_type": "markdown",
   "metadata": {},
   "source": [
    "Mental Model for Data Analysis:\n",
    "    1. Gather Data\n",
    "    2. Validate Data (Transform 1)\n",
    "    3. Clean Data    (Transform 2)\n",
    "    4. Analyze Data  \n",
    "    5. Display Output / User Interface / API"
   ]
  },
  {
   "cell_type": "code",
   "execution_count": 4,
   "metadata": {
    "collapsed": true
   },
   "outputs": [],
   "source": [
    "nums = [-3, 1, 4, 1, -5, -9, 2, 6]"
   ]
  },
  {
   "cell_type": "code",
   "execution_count": 12,
   "metadata": {
    "collapsed": false
   },
   "outputs": [],
   "source": [
    "result = nums.sort()"
   ]
  },
  {
   "cell_type": "code",
   "execution_count": 17,
   "metadata": {
    "collapsed": false
   },
   "outputs": [
    {
     "ename": "TypeError",
     "evalue": "argument to reversed() must be a sequence",
     "output_type": "error",
     "traceback": [
      "\u001b[0;31m--------------------------------------------------------------------\u001b[0m",
      "\u001b[0;31mTypeError\u001b[0m                          Traceback (most recent call last)",
      "\u001b[0;32m<ipython-input-17-f6becd5e973c>\u001b[0m in \u001b[0;36m<module>\u001b[0;34m()\u001b[0m\n\u001b[0;32m----> 1\u001b[0;31m \u001b[0msorted\u001b[0m\u001b[0;34m(\u001b[0m\u001b[0mnums\u001b[0m\u001b[0;34m,\u001b[0m \u001b[0mkey\u001b[0m\u001b[0;34m=\u001b[0m\u001b[0mreversed\u001b[0m\u001b[0;34m)\u001b[0m\u001b[0;34m\u001b[0m\u001b[0m\n\u001b[0m",
      "\u001b[0;31mTypeError\u001b[0m: argument to reversed() must be a sequence"
     ]
    }
   ],
   "source": [
    "sorted(nums, key=reversed)"
   ]
  },
  {
   "cell_type": "code",
   "execution_count": 18,
   "metadata": {
    "collapsed": true
   },
   "outputs": [],
   "source": [
    "studes = ('Michael', 'Migs', 'Doby', 'Stevve', 'Rebecca')"
   ]
  },
  {
   "cell_type": "code",
   "execution_count": 24,
   "metadata": {
    "collapsed": false
   },
   "outputs": [
    {
     "data": {
      "text/plain": [
       "['Rebecca', 'Stevve', 'Michael', 'Migs', 'Doby']"
      ]
     },
     "execution_count": 24,
     "metadata": {},
     "output_type": "execute_result"
    }
   ],
   "source": [
    "def helper(name):\n",
    "    return name[-1]\n",
    "\n",
    "sorted(studes, key=lambda name: name[-1])"
   ]
  },
  {
   "cell_type": "code",
   "execution_count": null,
   "metadata": {
    "collapsed": true
   },
   "outputs": [],
   "source": []
  },
  {
   "cell_type": "markdown",
   "metadata": {},
   "source": [
    "# Splitting text data for processing"
   ]
  },
  {
   "cell_type": "code",
   "execution_count": 1,
   "metadata": {
    "collapsed": true
   },
   "outputs": [],
   "source": [
    "lorem_ipsum = \"Lorem ipsum dolor sit amet, consectetur adipiscing elit, sed do eiusmod tempor incididunt ut labore et dolore magna aliqua. Ut enim ad minim veniam, quis nostrud exercitation ullamco laboris nisi ut aliquip ex ea commodo consequat. Duis aute irure dolor in reprehenderit in voluptate velit esse cillum dolore eu fugiat nulla pariatur. Excepteur sint occaecat cupidatat non proident, sunt in culpa qui officia deserunt mollit anim id est laborum.\"\n",
    "\n"
   ]
  },
  {
   "cell_type": "code",
   "execution_count": 2,
   "metadata": {
    "collapsed": false
   },
   "outputs": [
    {
     "data": {
      "text/plain": [
       "'Lorem ipsum dolor sit amet, consectetur adipiscing elit, sed do eiusmod tempor incididunt ut labore et dolore magna aliqua. Ut enim ad minim veniam, quis nostrud exercitation ullamco laboris nisi ut aliquip ex ea commodo consequat. Duis aute irure dolor in reprehenderit in voluptate velit esse cillum dolore eu fugiat nulla pariatur. Excepteur sint occaecat cupidatat non proident, sunt in culpa qui officia deserunt mollit anim id est laborum.'"
      ]
     },
     "execution_count": 2,
     "metadata": {},
     "output_type": "execute_result"
    }
   ],
   "source": [
    "lorem_ipsum"
   ]
  },
  {
   "cell_type": "markdown",
   "metadata": {},
   "source": [
    "# While element still in iterable"
   ]
  },
  {
   "cell_type": "code",
   "execution_count": null,
   "metadata": {
    "collapsed": true
   },
   "outputs": [],
   "source": []
  },
  {
   "cell_type": "markdown",
   "metadata": {},
   "source": [
    "[Lists as Stacks](https://docs.python.org/3.6/tutorial/datastructures.html#using-lists-as-stacks)"
   ]
  },
  {
   "cell_type": "code",
   "execution_count": null,
   "metadata": {
    "collapsed": true
   },
   "outputs": [],
   "source": []
  },
  {
   "cell_type": "markdown",
   "metadata": {},
   "source": [
    "# Map and Filter Intro"
   ]
  },
  {
   "cell_type": "code",
   "execution_count": null,
   "metadata": {
    "collapsed": true
   },
   "outputs": [],
   "source": []
  },
  {
   "cell_type": "markdown",
   "metadata": {},
   "source": [
    "# List Comprehensions"
   ]
  },
  {
   "cell_type": "code",
   "execution_count": null,
   "metadata": {
    "collapsed": true
   },
   "outputs": [],
   "source": []
  },
  {
   "cell_type": "markdown",
   "metadata": {},
   "source": [
    "# Built-Ins that accept an iterable as an argument"
   ]
  },
  {
   "cell_type": "code",
   "execution_count": 25,
   "metadata": {
    "collapsed": true
   },
   "outputs": [],
   "source": [
    "x = 'llama'"
   ]
  },
  {
   "cell_type": "code",
   "execution_count": null,
   "metadata": {
    "collapsed": true
   },
   "outputs": [],
   "source": [
    "x.format()"
   ]
  },
  {
   "cell_type": "code",
   "execution_count": 26,
   "metadata": {
    "collapsed": false
   },
   "outputs": [
    {
     "name": "stdout",
     "output_type": "stream",
     "text": [
      "Day 10 Notebook April 21st 2017.ipynb  Day 6 Notebook April 17th 2017.ipynb\r\n",
      "Day 11 Notebook April 24th 2017.ipynb  Day 7 Notebook April 18th 2017.ipynb\r\n",
      "Day 2 Notebook.ipynb                   Day 8 Notebook April 19th 2017.ipynb\r\n",
      "Day 3 Notebook.ipynb                   Day 9 Notebook April 20th 2017.ipynb\r\n",
      "Day 4 Notebook April 13th 2017.ipynb   Jeopardy Hints I.ipynb\r\n",
      "Day 5 Notebook April 14th 2017.ipynb\r\n"
     ]
    }
   ],
   "source": [
    "ls"
   ]
  },
  {
   "cell_type": "code",
   "execution_count": null,
   "metadata": {
    "collapsed": true
   },
   "outputs": [],
   "source": []
  }
 ],
 "metadata": {
  "anaconda-cloud": {},
  "kernelspec": {
   "display_name": "Python [conda root]",
   "language": "python",
   "name": "conda-root-py"
  },
  "language_info": {
   "codemirror_mode": {
    "name": "ipython",
    "version": 3
   },
   "file_extension": ".py",
   "mimetype": "text/x-python",
   "name": "python",
   "nbconvert_exporter": "python",
   "pygments_lexer": "ipython3",
   "version": "3.5.2"
  },
  "widgets": {
   "state": {},
   "version": "1.1.2"
  }
 },
 "nbformat": 4,
 "nbformat_minor": 0
}
