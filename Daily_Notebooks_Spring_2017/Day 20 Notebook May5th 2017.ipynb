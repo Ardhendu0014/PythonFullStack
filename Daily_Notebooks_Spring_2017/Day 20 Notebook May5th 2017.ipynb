{
 "cells": [
  {
   "cell_type": "markdown",
   "metadata": {},
   "source": [
    "# Lab Pool\n",
    "\n",
    "1. ARI\n",
    "1. Mimic (Demo / Not Required)\n",
    "\n",
    "----------------\n",
    "\n",
    "1. Rain Data\n",
    "1. Crime Data\n",
    "\n",
    "----------------\n",
    "\n",
    "1. JSON I/O Practice\n",
    "1. Fun With Networks (Requests)"
   ]
  },
  {
   "cell_type": "code",
   "execution_count": 6,
   "metadata": {
    "collapsed": true
   },
   "outputs": [],
   "source": [
    "def make_three():\n",
    "    return 3\n",
    "\n",
    "def something(a):\n",
    "    return a + make_three()"
   ]
  },
  {
   "cell_type": "code",
   "execution_count": null,
   "metadata": {
    "collapsed": true
   },
   "outputs": [],
   "source": []
  },
  {
   "cell_type": "code",
   "execution_count": 7,
   "metadata": {
    "collapsed": false
   },
   "outputs": [
    {
     "name": "stdout",
     "output_type": "stream",
     "text": [
      "6\n"
     ]
    }
   ],
   "source": [
    "lhfajhrfa = 3\n",
    "result = something(lhfajhrfa)\n",
    "print(result)"
   ]
  },
  {
   "cell_type": "code",
   "execution_count": 8,
   "metadata": {
    "collapsed": true
   },
   "outputs": [],
   "source": [
    "import os\n",
    "\n"
   ]
  },
  {
   "cell_type": "code",
   "execution_count": 12,
   "metadata": {
    "collapsed": false
   },
   "outputs": [
    {
     "data": {
      "text/plain": [
       "['Day 16 Notebook May1st 2017.ipynb',\n",
       " 'Day 15 Notebook April 28th 2017.ipynb',\n",
       " 'Day 7 Notebook April 18th 2017.ipynb',\n",
       " 'Day 4 Notebook April 13th 2017.ipynb',\n",
       " 'Day 8 Notebook April 19th 2017.ipynb',\n",
       " 'Day 18 Notebook May3rd 2017.ipynb',\n",
       " 'Day 20 Notebook May5th 2017.ipynb',\n",
       " 'Day 14 Notebook April 27th 2017.ipynb',\n",
       " 'Day 13 Notebook April 26th 2017.ipynb',\n",
       " 'Day 11 Notebook April 24th 2017.ipynb',\n",
       " 'Day 17 Notebook May2nd 2017.ipynb',\n",
       " 'Day 10 Notebook April 21st 2017.ipynb',\n",
       " 'Day 6 Notebook April 17th 2017.ipynb',\n",
       " 'Day 2 Notebook.ipynb',\n",
       " 'Day 5 Notebook April 14th 2017.ipynb',\n",
       " 'Day 9 Notebook April 20th 2017.ipynb',\n",
       " 'Day 12 Notebook April 25th 2017.ipynb',\n",
       " 'Day 3 Notebook.ipynb']"
      ]
     },
     "execution_count": 12,
     "metadata": {},
     "output_type": "execute_result"
    }
   ],
   "source": [
    "[path for path in os.listdir() if 'Day' in path]"
   ]
  },
  {
   "cell_type": "code",
   "execution_count": null,
   "metadata": {
    "collapsed": true
   },
   "outputs": [],
   "source": []
  },
  {
   "cell_type": "code",
   "execution_count": null,
   "metadata": {
    "collapsed": true
   },
   "outputs": [],
   "source": []
  },
  {
   "cell_type": "code",
   "execution_count": null,
   "metadata": {
    "collapsed": true
   },
   "outputs": [],
   "source": []
  }
 ],
 "metadata": {
  "anaconda-cloud": {},
  "kernelspec": {
   "display_name": "Python [conda root]",
   "language": "python",
   "name": "conda-root-py"
  },
  "language_info": {
   "codemirror_mode": {
    "name": "ipython",
    "version": 3
   },
   "file_extension": ".py",
   "mimetype": "text/x-python",
   "name": "python",
   "nbconvert_exporter": "python",
   "pygments_lexer": "ipython3",
   "version": "3.5.2"
  },
  "widgets": {
   "state": {},
   "version": "1.1.2"
  }
 },
 "nbformat": 4,
 "nbformat_minor": 0
}
